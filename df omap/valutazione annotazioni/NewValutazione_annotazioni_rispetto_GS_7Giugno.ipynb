{
 "cells": [
  {
   "cell_type": "code",
   "id": "initial_id",
   "metadata": {
    "id": "initial_id",
    "ExecuteTime": {
     "end_time": "2025-06-11T13:34:51.031306Z",
     "start_time": "2025-06-11T13:34:48.255734Z"
    }
   },
   "source": [
    "import pandas as pd"
   ],
   "outputs": [],
   "execution_count": 2
  },
  {
   "cell_type": "code",
   "source": [
    "#import annotazioni e gold standard\n",
    "\n",
    "annotazioni= pd.read_csv('https://raw.githubusercontent.com/GConte47/tirocinio/refs/heads/master/df%20omap/files/annotazioni_full.csv', delimiter=',')\n",
    "GS= pd.read_csv('https://raw.githubusercontent.com/GConte47/tirocinio/refs/heads/master/df%20omap/files/gold_standard.csv', delimiter=',')\n",
    "\n",
    "#import annotazioni e gold standard\n",
    "annotazioni= pd.read_csv('../files/annotazioni_full.csv', delimiter=',')\n",
    "GS= pd.read_csv('../files/gold_standard.csv', delimiter=',')\n",
    "\n",
    "\n",
    "print(annotazioni.shape[0], GS.shape[0])"
   ],
   "metadata": {
    "colab": {
     "base_uri": "https://localhost:8080/"
    },
    "id": "sMLOVs93soEq",
    "outputId": "aed3f332-197d-4438-cdda-7aba85b5778a",
    "ExecuteTime": {
     "end_time": "2025-06-11T13:34:52.898532Z",
     "start_time": "2025-06-11T13:34:51.732629Z"
    }
   },
   "id": "sMLOVs93soEq",
   "outputs": [
    {
     "name": "stdout",
     "output_type": "stream",
     "text": [
      "38102 323\n"
     ]
    }
   ],
   "execution_count": 3
  },
  {
   "cell_type": "markdown",
   "id": "f10a5d60f1447f9",
   "metadata": {
    "id": "f10a5d60f1447f9"
   },
   "source": [
    "# descrizione problema"
   ]
  },
  {
   "cell_type": "code",
   "id": "7e8a124fb2ea7bd0",
   "metadata": {
    "colab": {
     "base_uri": "https://localhost:8080/"
    },
    "id": "7e8a124fb2ea7bd0",
    "outputId": "24783da0-f7fe-46f6-f92e-cf3acd348fdb",
    "ExecuteTime": {
     "end_time": "2025-06-11T13:34:54.307955Z",
     "start_time": "2025-06-11T13:34:54.296984Z"
    }
   },
   "source": [
    "annotazioni.columns"
   ],
   "outputs": [
    {
     "data": {
      "text/plain": [
       "Index(['TipoDiAnnotazione', 'ontologies', 'SOURCE', 'AttributoNomeCompleto',\n",
       "       'entity_id', 'pretty_name', 'cui', 'annotator'],\n",
       "      dtype='object')"
      ]
     },
     "execution_count": 4,
     "metadata": {},
     "output_type": "execute_result"
    }
   ],
   "execution_count": 4
  },
  {
   "cell_type": "code",
   "id": "97e541465ed0e781",
   "metadata": {
    "colab": {
     "base_uri": "https://localhost:8080/"
    },
    "id": "97e541465ed0e781",
    "outputId": "f44a0fc3-e977-4c09-b177-c1631a6d36fd",
    "ExecuteTime": {
     "end_time": "2025-06-11T13:34:55.413408Z",
     "start_time": "2025-06-11T13:34:55.406439Z"
    }
   },
   "source": [
    "GS.columns"
   ],
   "outputs": [
    {
     "data": {
      "text/plain": [
       "Index(['TipoDiAnnotazione', 'Ontologies', 'Source', 'AttributoNomeCompleto',\n",
       "       'entity_id', 'pretty_name', 'cui'],\n",
       "      dtype='object')"
      ]
     },
     "execution_count": 5,
     "metadata": {},
     "output_type": "execute_result"
    }
   ],
   "execution_count": 5
  },
  {
   "cell_type": "code",
   "id": "e14b9ff79f23ed28",
   "metadata": {
    "id": "e14b9ff79f23ed28",
    "ExecuteTime": {
     "end_time": "2025-06-11T13:34:57.534026Z",
     "start_time": "2025-06-11T13:34:57.513669Z"
    }
   },
   "source": [
    "#allineazione nomi\n",
    "annotazioni = annotazioni.rename(columns={'ontologies':'Ontologies','SOURCE':'Source','entity_id':'EntityID','pretty_name':'PrettyName','cui':'Cui','annotator':'Annotator',})\n",
    "annotazioni['Ontologies'] = annotazioni['Ontologies'].replace('SNOMEDCT', 'SNOMED-CT')\n",
    "\n",
    "GS = GS.rename(columns={'entity_id':'EntityID','pretty_name':'PrettyName','cui':'Cui','annotator':'Annotator',})"
   ],
   "outputs": [],
   "execution_count": 6
  },
  {
   "cell_type": "code",
   "id": "10a36a84dc5fa27d",
   "metadata": {
    "colab": {
     "base_uri": "https://localhost:8080/"
    },
    "id": "10a36a84dc5fa27d",
    "outputId": "6a02856e-b0d9-4474-efff-fee92d9ca7ac",
    "ExecuteTime": {
     "end_time": "2025-06-11T13:34:59.145894Z",
     "start_time": "2025-06-11T13:34:59.122225Z"
    }
   },
   "source": [
    "\n",
    "set_gold = set(GS[['Ontologies', 'Cui']].itertuples(index=False, name=None))\n",
    "set_full = set(annotazioni[['Ontologies', 'Cui']].itertuples(index=False, name=None))\n",
    "\n",
    "# Calcoliamo i valori richiesti\n",
    "Nboth = len(set_gold & set_full)  # Presenti in entrambi\n",
    "Nleft = len(set_gold - set_full)  # Solo in df_gold\n",
    "Nright = len(set_full - set_gold)  # Solo in df_full\n",
    "\n",
    "print(f\"Nboth: {Nboth}, Nleft: {Nleft}, Nright: {Nright}\")"
   ],
   "outputs": [
    {
     "name": "stdout",
     "output_type": "stream",
     "text": [
      "Nboth: 58, Nleft: 34, Nright: 1345\n"
     ]
    }
   ],
   "execution_count": 7
  },
  {
   "cell_type": "code",
   "id": "52e6151d-bb38-4c36-bb3a-8ce059e0e381",
   "metadata": {
    "colab": {
     "base_uri": "https://localhost:8080/",
     "height": 206
    },
    "id": "52e6151d-bb38-4c36-bb3a-8ce059e0e381",
    "outputId": "9f8dacf2-b745-48ab-f934-14691318281f",
    "ExecuteTime": {
     "end_time": "2025-06-11T13:35:01.242403Z",
     "start_time": "2025-06-11T13:35:01.228283Z"
    }
   },
   "source": [
    "pd.DataFrame(list(set_gold-set_full), columns=['Ontologies', 'Cui']).head(5)"
   ],
   "outputs": [
    {
     "data": {
      "text/plain": [
       "  Ontologies       Cui\n",
       "0       UMLS  C1657623\n",
       "1       UMLS  C1300638\n",
       "2       UMLS  C2708733\n",
       "3       UMLS  C0870134\n",
       "4       UMLS  C1514254"
      ],
      "text/html": [
       "<div>\n",
       "<style scoped>\n",
       "    .dataframe tbody tr th:only-of-type {\n",
       "        vertical-align: middle;\n",
       "    }\n",
       "\n",
       "    .dataframe tbody tr th {\n",
       "        vertical-align: top;\n",
       "    }\n",
       "\n",
       "    .dataframe thead th {\n",
       "        text-align: right;\n",
       "    }\n",
       "</style>\n",
       "<table border=\"1\" class=\"dataframe\">\n",
       "  <thead>\n",
       "    <tr style=\"text-align: right;\">\n",
       "      <th></th>\n",
       "      <th>Ontologies</th>\n",
       "      <th>Cui</th>\n",
       "    </tr>\n",
       "  </thead>\n",
       "  <tbody>\n",
       "    <tr>\n",
       "      <th>0</th>\n",
       "      <td>UMLS</td>\n",
       "      <td>C1657623</td>\n",
       "    </tr>\n",
       "    <tr>\n",
       "      <th>1</th>\n",
       "      <td>UMLS</td>\n",
       "      <td>C1300638</td>\n",
       "    </tr>\n",
       "    <tr>\n",
       "      <th>2</th>\n",
       "      <td>UMLS</td>\n",
       "      <td>C2708733</td>\n",
       "    </tr>\n",
       "    <tr>\n",
       "      <th>3</th>\n",
       "      <td>UMLS</td>\n",
       "      <td>C0870134</td>\n",
       "    </tr>\n",
       "    <tr>\n",
       "      <th>4</th>\n",
       "      <td>UMLS</td>\n",
       "      <td>C1514254</td>\n",
       "    </tr>\n",
       "  </tbody>\n",
       "</table>\n",
       "</div>"
      ]
     },
     "execution_count": 8,
     "metadata": {},
     "output_type": "execute_result"
    }
   ],
   "execution_count": 8
  },
  {
   "cell_type": "code",
   "id": "a87f0284fc3c31f5",
   "metadata": {
    "colab": {
     "base_uri": "https://localhost:8080/"
    },
    "id": "a87f0284fc3c31f5",
    "outputId": "b2088b32-9536-47d7-ca17-16c8123a749f",
    "ExecuteTime": {
     "end_time": "2025-06-11T13:35:03.359272Z",
     "start_time": "2025-06-11T13:35:03.301837Z"
    }
   },
   "source": [
    "#dettagliare questa analisi rispetto alle diverse ontologie\n",
    "\n",
    "set_GS = set(GS[['Ontologies', 'Cui']].itertuples(index=False, name=None))\n",
    "set_annotazioni = set(annotazioni[['Ontologies', 'Cui']].itertuples(index=False, name=None))\n",
    "\n",
    "# Unione dei due DataFrame per analisi per Ontology\n",
    "df_combined = pd.concat([GS.assign(source='GS'), annotazioni.assign(source='annotazioni')])\n",
    "\n",
    "# Creiamo una tabella che conta Nleft, Nright e Nboth per ogni Ontology\n",
    "ontology_counts = df_combined.groupby(['Ontologies', 'source']).size().unstack(fill_value=0)\n",
    "ontology_counts.columns = ['Nleft', 'Nright']\n",
    "ontology_counts['Nboth'] = ontology_counts.min(axis=1)  # Il minimo tra Nleft e Nright dà Nboth\n",
    "\n",
    "# Output finale\n",
    "print(ontology_counts)"
   ],
   "outputs": [
    {
     "name": "stdout",
     "output_type": "stream",
     "text": [
      "            Nleft  Nright  Nboth\n",
      "Ontologies                      \n",
      "LOINC           0    7903      0\n",
      "SNOMED-CT     127   20398    127\n",
      "UMLS          196    9801    196\n"
     ]
    }
   ],
   "execution_count": 9
  },
  {
   "cell_type": "code",
   "execution_count": 8,
   "id": "6cca5b50-1457-41c6-aab3-9902e41fe64c",
   "metadata": {
    "id": "6cca5b50-1457-41c6-aab3-9902e41fe64c"
   },
   "outputs": [],
   "source": []
  },
  {
   "cell_type": "code",
   "execution_count": 9,
   "id": "e75da55a-2fea-4b72-95c9-97ce745767d1",
   "metadata": {
    "id": "e75da55a-2fea-4b72-95c9-97ce745767d1"
   },
   "outputs": [],
   "source": [
    "# ?\n",
    "# quindi non abbiamo nessun elemento di LOINC in comune ?"
   ]
  },
  {
   "metadata": {
    "id": "68f3c737a4b7fb4b"
   },
   "cell_type": "markdown",
   "source": [
    "Non abbiamo elementi in comune con LOINC perchè lato MedCAT non abbiamo codici LOINC, stessa cosa nel gold standard perchè siccome non era previsto LOINC, abbiamo deciso di non inserirlo nel gold standard."
   ],
   "id": "68f3c737a4b7fb4b"
  },
  {
   "cell_type": "code",
   "id": "dfda8152-11bd-4b52-b424-7554881d4db1",
   "metadata": {
    "colab": {
     "base_uri": "https://localhost:8080/"
    },
    "id": "dfda8152-11bd-4b52-b424-7554881d4db1",
    "outputId": "4aecb993-cd4b-4b33-9124-b9fe5351dc69",
    "ExecuteTime": {
     "end_time": "2025-06-11T13:35:06.880178Z",
     "start_time": "2025-06-11T13:35:06.863149Z"
    }
   },
   "source": [
    "## faccio lo stesso controllo su ['Source', 'AttributoNomeCompleto']\n",
    "\n",
    "\n",
    "Aset_gold = set(GS[['Source', 'AttributoNomeCompleto']].itertuples(index=False, name=None))\n",
    "Aset_full = set(annotazioni[['Source', 'AttributoNomeCompleto']].itertuples(index=False, name=None))\n",
    "\n",
    "# Calcoliamo i valori richiesti\n",
    "ANboth = len(Aset_gold & Aset_full)  # Presenti in entrambi\n",
    "ANleft = len(Aset_gold - Aset_full)  # Solo in df_gold\n",
    "ANright = len(Aset_full - Aset_gold)  # Solo in df_full\n",
    "\n",
    "print(f\"Nboth: {ANboth}, Nleft: {ANleft}, Nright: {ANright}\")"
   ],
   "outputs": [
    {
     "name": "stdout",
     "output_type": "stream",
     "text": [
      "Nboth: 41, Nleft: 33, Nright: 671\n"
     ]
    }
   ],
   "execution_count": 10
  },
  {
   "cell_type": "code",
   "id": "79e86c79-3c67-4998-a387-60bd61e1d39c",
   "metadata": {
    "ExecuteTime": {
     "end_time": "2025-06-04T16:01:26.006416Z",
     "start_time": "2025-06-04T16:01:26.002718Z"
    },
    "id": "79e86c79-3c67-4998-a387-60bd61e1d39c"
   },
   "source": [
    "# ?\n",
    "# ma se non ho sbagliato i calcoli abbiamo solo 41 attributi in comune su cui posso fare il confronto\n",
    "# ce ne sono 33 solo nel gold standard? forse c'è ancora quel problema sui nomi con i -"
   ],
   "outputs": [],
   "execution_count": 11
  },
  {
   "metadata": {
    "id": "16c7cefd3a43e98f"
   },
   "cell_type": "markdown",
   "source": [
    "Nono, nessun errore, sono 33 i valori che non vengono usati perchè non sono presenti nel dataset annotazioni"
   ],
   "id": "16c7cefd3a43e98f"
  },
  {
   "cell_type": "code",
   "id": "eb81d83a-f1c1-4e01-ac06-a679a0a19bcd",
   "metadata": {
    "colab": {
     "base_uri": "https://localhost:8080/"
    },
    "id": "eb81d83a-f1c1-4e01-ac06-a679a0a19bcd",
    "outputId": "e9265cbc-ba7a-4881-cbf1-31bc5baff0bf",
    "ExecuteTime": {
     "end_time": "2025-06-11T13:35:10.037827Z",
     "start_time": "2025-06-11T13:35:09.916571Z"
    }
   },
   "source": [
    "set_gold = set(GS[['Ontologies', 'Cui']].itertuples(index=False, name=None))\n",
    "set_full = set(annotazioni[['Ontologies', 'Cui']].itertuples(index=False, name=None))\n",
    "\n",
    "Aset_gold = set(GS[['Source', 'AttributoNomeCompleto']].itertuples(index=False, name=None))\n",
    "Aset_full = set(annotazioni[['Source', 'AttributoNomeCompleto']].itertuples(index=False, name=None))\n",
    "\n",
    "\n",
    "GS_both = GS[\n",
    "    GS.set_index(['Ontologies', 'Cui']).index.isin(set_gold & set_full) &\n",
    "    GS.set_index(['Source', 'AttributoNomeCompleto']).index.isin(Aset_gold & Aset_full)\n",
    "]\n",
    "annotazioni_both = annotazioni[\n",
    "    annotazioni.set_index(['Ontologies', 'Cui']).index.isin(set_gold & set_full) &\n",
    "    annotazioni.set_index(['Source', 'AttributoNomeCompleto']).index.isin(Aset_gold & Aset_full)\n",
    "]\n",
    "print(GS_both.shape[0], annotazioni_both.shape[0])"
   ],
   "outputs": [
    {
     "name": "stdout",
     "output_type": "stream",
     "text": [
      "134 943\n"
     ]
    }
   ],
   "execution_count": 11
  },
  {
   "metadata": {
    "id": "158617ea5b4fcafe"
   },
   "cell_type": "markdown",
   "source": [
    "possiamo sfruttare 134 record GS per controllare 943 record di annotazioni"
   ],
   "id": "158617ea5b4fcafe"
  },
  {
   "cell_type": "markdown",
   "source": [],
   "metadata": {
    "id": "BiY-UFRm1XG4"
   },
   "id": "BiY-UFRm1XG4"
  },
  {
   "cell_type": "markdown",
   "source": [
    "## 1) da inserire nella tesi\n",
    "\n",
    "DA INSERIRE NELLA TESI IL DISCORSO E LA TABELLA\n",
    "\n",
    "\n",
    "Nel gold standard abbiamo annotato **74 attributi distinti**.  \n",
    "Tra questi:\n",
    "\n",
    "- Tutti i **74 attributi** sono stati annotati utilizzando concetti della **ontologia UMLS**, coprendo quindi la totalità.\n",
    "- Solo **68 attributi** sono stati invece annotati con concetti della **ontologia SNOMED-CT**.\n",
    "\n",
    "La tabella seguente riporta anche il **numero totale di annotazioni**:\n",
    "\n",
    "- Per **UMLS** sono presenti **196 annotazioni**, con una media di circa **2.65 annotazioni per attributo** (196 diviso 74).\n",
    "- Per **SNOMED-CT** le annotazioni totali sono **127**, con una media di circa **1.87 annotazioni per attributo** (127 diviso 68)."
   ],
   "metadata": {
    "id": "4AtfF-D21XO7"
   },
   "id": "4AtfF-D21XO7"
  },
  {
   "cell_type": "code",
   "source": [
    "# Totale distinti AttributoNomeCompleto\n",
    "totale_distinti = GS['AttributoNomeCompleto'].nunique()\n",
    "print(totale_distinti)\n",
    "\n",
    "\n",
    "# Group by con due aggregazioni: distinti e non distinti\n",
    "risultato = (\n",
    "    GS\n",
    "    .groupby(['TipoDiAnnotazione', 'Ontologies'])\n",
    "    .agg(\n",
    "        NumAttributiDistinti=('AttributoNomeCompleto', pd.Series.nunique),\n",
    "        NumAnnotazioniTotali=('AttributoNomeCompleto', 'count')\n",
    "    )\n",
    "    .reset_index()\n",
    ")\n",
    "\n",
    "# Aggiunta percentuale rispetto al totale\n",
    "risultato['PercSulTotale'] = (risultato['NumAttributiDistinti'] / totale_distinti * 100).round(2)\n",
    "\n",
    "risultato"
   ],
   "metadata": {
    "colab": {
     "base_uri": "https://localhost:8080/",
     "height": 143
    },
    "id": "syvkgU3DzkvX",
    "outputId": "e8a453d3-8c6f-4e9a-bbb7-813f40339df9",
    "ExecuteTime": {
     "end_time": "2025-06-11T13:35:13.812410Z",
     "start_time": "2025-06-11T13:35:13.783691Z"
    }
   },
   "id": "syvkgU3DzkvX",
   "outputs": [
    {
     "name": "stdout",
     "output_type": "stream",
     "text": [
      "74\n"
     ]
    },
    {
     "data": {
      "text/plain": [
       "  TipoDiAnnotazione Ontologies  NumAttributiDistinti  NumAnnotazioniTotali  \\\n",
       "0         MedicalGS  SNOMED-CT                    68                   127   \n",
       "1         MedicalGS       UMLS                    74                   196   \n",
       "\n",
       "   PercSulTotale  \n",
       "0          91.89  \n",
       "1         100.00  "
      ],
      "text/html": [
       "<div>\n",
       "<style scoped>\n",
       "    .dataframe tbody tr th:only-of-type {\n",
       "        vertical-align: middle;\n",
       "    }\n",
       "\n",
       "    .dataframe tbody tr th {\n",
       "        vertical-align: top;\n",
       "    }\n",
       "\n",
       "    .dataframe thead th {\n",
       "        text-align: right;\n",
       "    }\n",
       "</style>\n",
       "<table border=\"1\" class=\"dataframe\">\n",
       "  <thead>\n",
       "    <tr style=\"text-align: right;\">\n",
       "      <th></th>\n",
       "      <th>TipoDiAnnotazione</th>\n",
       "      <th>Ontologies</th>\n",
       "      <th>NumAttributiDistinti</th>\n",
       "      <th>NumAnnotazioniTotali</th>\n",
       "      <th>PercSulTotale</th>\n",
       "    </tr>\n",
       "  </thead>\n",
       "  <tbody>\n",
       "    <tr>\n",
       "      <th>0</th>\n",
       "      <td>MedicalGS</td>\n",
       "      <td>SNOMED-CT</td>\n",
       "      <td>68</td>\n",
       "      <td>127</td>\n",
       "      <td>91.89</td>\n",
       "    </tr>\n",
       "    <tr>\n",
       "      <th>1</th>\n",
       "      <td>MedicalGS</td>\n",
       "      <td>UMLS</td>\n",
       "      <td>74</td>\n",
       "      <td>196</td>\n",
       "      <td>100.00</td>\n",
       "    </tr>\n",
       "  </tbody>\n",
       "</table>\n",
       "</div>"
      ]
     },
     "execution_count": 12,
     "metadata": {},
     "output_type": "execute_result"
    }
   ],
   "execution_count": 12
  },
  {
   "cell_type": "code",
   "source": [],
   "metadata": {
    "id": "SDoeEgwf4Vh6"
   },
   "id": "SDoeEgwf4Vh6",
   "execution_count": 13,
   "outputs": []
  },
  {
   "cell_type": "code",
   "source": [],
   "metadata": {
    "id": "CftxUoZ54Vv1"
   },
   "id": "CftxUoZ54Vv1",
   "execution_count": 13,
   "outputs": []
  },
  {
   "cell_type": "markdown",
   "source": [
    "## 2) da inserire nella tesi\n",
    "\n",
    "DA INSERIRE NELLA TESI IL DISCORSO E LA TABELLA\n",
    "\n",
    "Le annotazioni oggetto di valutazioni sono quelle prodotte dagli annotatori per le quali abbiamo anche il relativo Gold Standard; esse sono contenute in un  dataframe che chiameremo *annotazioni_both*\n",
    "Abbiamo in totale **otto annotazioni**, prodotte da due   *annotatori*:\n",
    "\n",
    "- **Quattro annotazioni** sono state effettuate tramite **MEDCAT**:\n",
    "  - Le prime **tre** utilizzano l'ontologia **SNOMED-CT**\n",
    "  - La **quarta** utilizza l'ontologia **UMLS**\n",
    "\n",
    "- Le altre **quattro annotazioni** sono state effettuate tramite **BioPortal**, tutte utilizzando **SNOMED-CT**\n",
    "\n",
    "OVVIAMENTE FARE RIFERIMENTO AL CAPITOLO/SEZIONE DELLA TESI DOVE QUESTE TIPOLOGIE DI ANNOTAZIONI SONO STATE DESCRITTE"
   ],
   "metadata": {
    "id": "DiqZk60w2JiK"
   },
   "id": "DiqZk60w2JiK"
  },
  {
   "cell_type": "code",
   "id": "4324a44d-62f9-49d8-b053-06ade1d804b6",
   "metadata": {
    "colab": {
     "base_uri": "https://localhost:8080/"
    },
    "id": "4324a44d-62f9-49d8-b053-06ade1d804b6",
    "outputId": "d249fbe5-7f47-4f16-f89d-106acee8e2e0",
    "ExecuteTime": {
     "end_time": "2025-06-11T13:35:17.004018Z",
     "start_time": "2025-06-11T13:35:16.995285Z"
    }
   },
   "source": [
    "annotazioni_both['TipoDiAnnotazione'].unique().tolist()"
   ],
   "outputs": [
    {
     "data": {
      "text/plain": [
       "['Medcat_SNOMED_Df_CS_08_ANC',\n",
       " 'Medcat_SNOMED_Df_CS_1_ANC',\n",
       " 'Medcat_SNOMED_Df_Full_ANC',\n",
       " 'Medcat_UMLS_Df_Full_ANC',\n",
       " 'BioportalAttributoNomeCompleto',\n",
       " 'BioportalDescrizioneCompleta',\n",
       " 'BioportalDescrizioneAttributo',\n",
       " 'BioportalAttributo']"
      ]
     },
     "execution_count": 13,
     "metadata": {},
     "output_type": "execute_result"
    }
   ],
   "execution_count": 13
  },
  {
   "cell_type": "markdown",
   "source": [
    "RIPORTARE NELLA TESI DISCORSO E TABELLA\n",
    "\n",
    "La tabella seguente riassume i risultati ottenuti dal processo di annotazione.\n",
    "\n",
    "In particolare, si osserva che l’unica annotazione effettuata rispetto all’ontologia **UMLS** ha prodotto un risultato completo, con l’annotazione di **tutti gli attributi previsti**.\n",
    "\n",
    "La tabella  mostra che **solo una delle annotazioni effettuate tramite BioPortal** riesce a coprire **la totalità degli attributi**.\n",
    "\n",
    "Per quanto riguarda le annotazioni eseguite con **MedCAT**, **tutte e quattro le tipologie** raggiungono una copertura completa (100% degli attributi), sia le **tre basate su SNOMED-CT** che quella basata su **UMLS**.\n",
    "\n",
    "In particolare, l'annotazione con **UMLS**, che sfrutta la descrizione completa dell'attributo, restituisce **234 annotazioni distribuite su 41 attributi**, corrispondenti a una media di circa **5.71 annotazioni per attributo**.\n"
   ],
   "metadata": {
    "id": "MeDUwYS73K5X"
   },
   "id": "MeDUwYS73K5X"
  },
  {
   "cell_type": "code",
   "source": [
    "# Totale distinti AttributoNomeCompleto\n",
    "totale_distinti = annotazioni_both['AttributoNomeCompleto'].nunique()\n",
    "\n",
    "print(totale_distinti)\n",
    "# Group by con due aggregazioni: distinti e non distinti\n",
    "risultato = (\n",
    "    annotazioni_both\n",
    "    .groupby(['TipoDiAnnotazione', 'Ontologies'])\n",
    "    .agg(\n",
    "        NumAttributiDistinti=('AttributoNomeCompleto', pd.Series.nunique),\n",
    "        NumAnnotazioniTotali=('AttributoNomeCompleto', 'count')\n",
    "    )\n",
    "    .reset_index()\n",
    ")\n",
    "\n",
    "# Aggiunta percentuale rispetto al totale\n",
    "risultato['PercSulTotale'] = (risultato['NumAttributiDistinti'] / totale_distinti * 100).round(2)\n",
    "\n",
    "risultato"
   ],
   "metadata": {
    "colab": {
     "base_uri": "https://localhost:8080/",
     "height": 318
    },
    "id": "kJ4n8OJJxCPu",
    "outputId": "066604f7-2c7c-40d7-ce3b-cdf204220012",
    "ExecuteTime": {
     "end_time": "2025-06-11T13:35:20.508307Z",
     "start_time": "2025-06-11T13:35:20.480799Z"
    }
   },
   "id": "kJ4n8OJJxCPu",
   "outputs": [
    {
     "name": "stdout",
     "output_type": "stream",
     "text": [
      "41\n"
     ]
    },
    {
     "data": {
      "text/plain": [
       "                TipoDiAnnotazione Ontologies  NumAttributiDistinti  \\\n",
       "0              BioportalAttributo  SNOMED-CT                    26   \n",
       "1  BioportalAttributoNomeCompleto  SNOMED-CT                    41   \n",
       "2   BioportalDescrizioneAttributo  SNOMED-CT                    34   \n",
       "3    BioportalDescrizioneCompleta  SNOMED-CT                    41   \n",
       "4      Medcat_SNOMED_Df_CS_08_ANC  SNOMED-CT                    41   \n",
       "5       Medcat_SNOMED_Df_CS_1_ANC  SNOMED-CT                    41   \n",
       "6       Medcat_SNOMED_Df_Full_ANC  SNOMED-CT                    41   \n",
       "7         Medcat_UMLS_Df_Full_ANC       UMLS                    41   \n",
       "\n",
       "   NumAnnotazioniTotali  PercSulTotale  \n",
       "0                    31          63.41  \n",
       "1                    66         100.00  \n",
       "2                    59          82.93  \n",
       "3                    82         100.00  \n",
       "4                   179         100.00  \n",
       "5                   106         100.00  \n",
       "6                   186         100.00  \n",
       "7                   234         100.00  "
      ],
      "text/html": [
       "<div>\n",
       "<style scoped>\n",
       "    .dataframe tbody tr th:only-of-type {\n",
       "        vertical-align: middle;\n",
       "    }\n",
       "\n",
       "    .dataframe tbody tr th {\n",
       "        vertical-align: top;\n",
       "    }\n",
       "\n",
       "    .dataframe thead th {\n",
       "        text-align: right;\n",
       "    }\n",
       "</style>\n",
       "<table border=\"1\" class=\"dataframe\">\n",
       "  <thead>\n",
       "    <tr style=\"text-align: right;\">\n",
       "      <th></th>\n",
       "      <th>TipoDiAnnotazione</th>\n",
       "      <th>Ontologies</th>\n",
       "      <th>NumAttributiDistinti</th>\n",
       "      <th>NumAnnotazioniTotali</th>\n",
       "      <th>PercSulTotale</th>\n",
       "    </tr>\n",
       "  </thead>\n",
       "  <tbody>\n",
       "    <tr>\n",
       "      <th>0</th>\n",
       "      <td>BioportalAttributo</td>\n",
       "      <td>SNOMED-CT</td>\n",
       "      <td>26</td>\n",
       "      <td>31</td>\n",
       "      <td>63.41</td>\n",
       "    </tr>\n",
       "    <tr>\n",
       "      <th>1</th>\n",
       "      <td>BioportalAttributoNomeCompleto</td>\n",
       "      <td>SNOMED-CT</td>\n",
       "      <td>41</td>\n",
       "      <td>66</td>\n",
       "      <td>100.00</td>\n",
       "    </tr>\n",
       "    <tr>\n",
       "      <th>2</th>\n",
       "      <td>BioportalDescrizioneAttributo</td>\n",
       "      <td>SNOMED-CT</td>\n",
       "      <td>34</td>\n",
       "      <td>59</td>\n",
       "      <td>82.93</td>\n",
       "    </tr>\n",
       "    <tr>\n",
       "      <th>3</th>\n",
       "      <td>BioportalDescrizioneCompleta</td>\n",
       "      <td>SNOMED-CT</td>\n",
       "      <td>41</td>\n",
       "      <td>82</td>\n",
       "      <td>100.00</td>\n",
       "    </tr>\n",
       "    <tr>\n",
       "      <th>4</th>\n",
       "      <td>Medcat_SNOMED_Df_CS_08_ANC</td>\n",
       "      <td>SNOMED-CT</td>\n",
       "      <td>41</td>\n",
       "      <td>179</td>\n",
       "      <td>100.00</td>\n",
       "    </tr>\n",
       "    <tr>\n",
       "      <th>5</th>\n",
       "      <td>Medcat_SNOMED_Df_CS_1_ANC</td>\n",
       "      <td>SNOMED-CT</td>\n",
       "      <td>41</td>\n",
       "      <td>106</td>\n",
       "      <td>100.00</td>\n",
       "    </tr>\n",
       "    <tr>\n",
       "      <th>6</th>\n",
       "      <td>Medcat_SNOMED_Df_Full_ANC</td>\n",
       "      <td>SNOMED-CT</td>\n",
       "      <td>41</td>\n",
       "      <td>186</td>\n",
       "      <td>100.00</td>\n",
       "    </tr>\n",
       "    <tr>\n",
       "      <th>7</th>\n",
       "      <td>Medcat_UMLS_Df_Full_ANC</td>\n",
       "      <td>UMLS</td>\n",
       "      <td>41</td>\n",
       "      <td>234</td>\n",
       "      <td>100.00</td>\n",
       "    </tr>\n",
       "  </tbody>\n",
       "</table>\n",
       "</div>"
      ]
     },
     "execution_count": 14,
     "metadata": {},
     "output_type": "execute_result"
    }
   ],
   "execution_count": 14
  },
  {
   "cell_type": "code",
   "source": [],
   "metadata": {
    "id": "DfxqhGNKFAIn"
   },
   "id": "DfxqhGNKFAIn",
   "execution_count": 15,
   "outputs": []
  },
  {
   "cell_type": "markdown",
   "source": [
    "## 3) DA METTERE NELLA TESI\n",
    "\n",
    " **Limitazione del Gold Standard per la Valutazione**\n",
    "\n",
    "Per effettuare una valutazione corretta, è necessario considerare soltanto il gold standard relativo agli attributi effettivamente annotati dagli annotatori.  \n",
    "Pertanto, il gold standard \"generale\" va ristretto a un **sottoinsieme** che contenga **solo gli attributi oggetto di valutazione**, ovvero **quelle coppie (ontologia, attributo)** che compaiono anche nel file delle annotazioni da valutare.  \n",
    "Chiamiamo tale sottoinsieme *GS_both*.\n",
    "\n",
    "In questo modo, il confronto sarà limitato alle sole informazioni effettivamente annotate, garantendo una valutazione coerente e significativa.\n",
    "\n",
    "\n",
    "QUINDI NELLA TESI NON SI METTE IL CALCOLO DI GS_BOTH MA SOLO LA SUA DEFINIZIONE E QUANTI ELEMENTI HA, OVVERO LA TABELLA"
   ],
   "metadata": {
    "id": "bte2AguXKT6x"
   },
   "id": "bte2AguXKT6x"
  },
  {
   "cell_type": "code",
   "source": [
    "# Totale distinti AttributoNomeCompleto\n",
    "totale_distinti = GS_both['AttributoNomeCompleto'].nunique()\n",
    "print(totale_distinti)\n",
    "\n",
    "\n",
    "# Group by con due aggregazioni: distinti e non distinti\n",
    "risultato = (\n",
    "    GS_both\n",
    "    .groupby(['TipoDiAnnotazione', 'Ontologies'])\n",
    "    .agg(\n",
    "        NumAttributiDistinti=('AttributoNomeCompleto', pd.Series.nunique),\n",
    "        NumAnnotazioniTotali=('AttributoNomeCompleto', 'count')\n",
    "    )\n",
    "    .reset_index()\n",
    ")\n",
    "\n",
    "# Aggiunta percentuale rispetto al totale\n",
    "risultato['PercSulTotale'] = (risultato['NumAttributiDistinti'] / totale_distinti * 100).round(2)\n",
    "\n",
    "risultato"
   ],
   "metadata": {
    "colab": {
     "base_uri": "https://localhost:8080/",
     "height": 143
    },
    "id": "-1gKgju5DAoC",
    "outputId": "dd1b40c9-8f3e-40f7-e86a-fc60088c0c5f",
    "ExecuteTime": {
     "end_time": "2025-06-11T13:35:24.106885Z",
     "start_time": "2025-06-11T13:35:24.088275Z"
    }
   },
   "id": "-1gKgju5DAoC",
   "outputs": [
    {
     "name": "stdout",
     "output_type": "stream",
     "text": [
      "37\n"
     ]
    },
    {
     "data": {
      "text/plain": [
       "  TipoDiAnnotazione Ontologies  NumAttributiDistinti  NumAnnotazioniTotali  \\\n",
       "0         MedicalGS  SNOMED-CT                    33                    52   \n",
       "1         MedicalGS       UMLS                    37                    82   \n",
       "\n",
       "   PercSulTotale  \n",
       "0          89.19  \n",
       "1         100.00  "
      ],
      "text/html": [
       "<div>\n",
       "<style scoped>\n",
       "    .dataframe tbody tr th:only-of-type {\n",
       "        vertical-align: middle;\n",
       "    }\n",
       "\n",
       "    .dataframe tbody tr th {\n",
       "        vertical-align: top;\n",
       "    }\n",
       "\n",
       "    .dataframe thead th {\n",
       "        text-align: right;\n",
       "    }\n",
       "</style>\n",
       "<table border=\"1\" class=\"dataframe\">\n",
       "  <thead>\n",
       "    <tr style=\"text-align: right;\">\n",
       "      <th></th>\n",
       "      <th>TipoDiAnnotazione</th>\n",
       "      <th>Ontologies</th>\n",
       "      <th>NumAttributiDistinti</th>\n",
       "      <th>NumAnnotazioniTotali</th>\n",
       "      <th>PercSulTotale</th>\n",
       "    </tr>\n",
       "  </thead>\n",
       "  <tbody>\n",
       "    <tr>\n",
       "      <th>0</th>\n",
       "      <td>MedicalGS</td>\n",
       "      <td>SNOMED-CT</td>\n",
       "      <td>33</td>\n",
       "      <td>52</td>\n",
       "      <td>89.19</td>\n",
       "    </tr>\n",
       "    <tr>\n",
       "      <th>1</th>\n",
       "      <td>MedicalGS</td>\n",
       "      <td>UMLS</td>\n",
       "      <td>37</td>\n",
       "      <td>82</td>\n",
       "      <td>100.00</td>\n",
       "    </tr>\n",
       "  </tbody>\n",
       "</table>\n",
       "</div>"
      ]
     },
     "execution_count": 15,
     "metadata": {},
     "output_type": "execute_result"
    }
   ],
   "execution_count": 15
  },
  {
   "cell_type": "code",
   "source": [
    "# attributi\n",
    "\n",
    "valid_attributes=['person-person_source_value', 'condition_occurrence-condition_status_source_value','location-location_id']\n",
    "\n",
    "# Dizionario per salvare i risultati per ogni tipo di annotazione\n",
    "df_results_per_type = {}\n",
    "\n",
    "# Lista dei tipi di annotazione\n",
    "tipi_di_annotazione = [\n",
    "    'BioportalDescrizioneCompleta',\n",
    "    'Medcat_SNOMED_Df_CS_1_ANC',\n",
    "    'Medcat_SNOMED_Df_Full_ANC'\n",
    "]\n",
    "\n",
    "for tipo in tipi_di_annotazione:\n",
    "    # Filtra solo le righe con il TipoDiAnnotazione corrente\n",
    "    Xannotazioni_both = annotazioni_both[annotazioni_both['TipoDiAnnotazione'] == tipo]\n",
    "\n",
    "    # Filtra solo gli attributi validi\n",
    "    Xannotazioni_both = Xannotazioni_both[Xannotazioni_both['AttributoNomeCompleto'].isin(valid_attributes)]\n",
    "\n",
    "    # Ottieni gli attributi unici rimasti\n",
    "    attributi_filtered = Xannotazioni_both[['AttributoNomeCompleto']].drop_duplicates()\n",
    "\n",
    "    # Crea i dizionari per GS e ANN solo per gli attributi filtrati\n",
    "    GS_sets = GS_both.groupby('AttributoNomeCompleto')['Cui'].apply(set).reindex(attributi_filtered['AttributoNomeCompleto'], fill_value=set())\n",
    "    ANN_sets = Xannotazioni_both.groupby('AttributoNomeCompleto')['Cui'].apply(set).reindex(attributi_filtered['AttributoNomeCompleto'], fill_value=set())\n",
    "\n",
    "    # Creiamo il DataFrame per questo tipo di annotazione\n",
    "    df_result_tipo = attributi_filtered.copy()\n",
    "    df_result_tipo['GS_sets'] = df_result_tipo['AttributoNomeCompleto'].map(GS_sets)\n",
    "    df_result_tipo['ANN_sets'] = df_result_tipo['AttributoNomeCompleto'].map(ANN_sets)\n",
    "\n",
    "    # Salviamo il DataFrame nel dizionario con la chiave corrispondente al tipo di annotazione\n",
    "    df_results_per_type[tipo] = df_result_tipo\n",
    "\n",
    "# Ora puoi accedere ai risultati per ogni tipo di annotazione\n",
    "df_results_per_type['BioportalDescrizioneCompleta']\n"
   ],
   "metadata": {
    "colab": {
     "base_uri": "https://localhost:8080/",
     "height": 143
    },
    "id": "fNZQuSpZA46_",
    "outputId": "1225b777-0aae-420c-85a4-ffb83427632e",
    "ExecuteTime": {
     "end_time": "2025-06-11T13:35:27.282320Z",
     "start_time": "2025-06-11T13:35:27.242984Z"
    }
   },
   "id": "fNZQuSpZA46_",
   "outputs": [
    {
     "data": {
      "text/plain": [
       "                                   AttributoNomeCompleto  \\\n",
       "34060                         person-person_source_value   \n",
       "35147  condition_occurrence-condition_status_source_v...   \n",
       "35236                               location-location_id   \n",
       "\n",
       "                                                 GS_sets  \\\n",
       "34060  {C0027361, 125676002, 260753009, C0449416, C15...   \n",
       "35147  {64572001, 260753009, C0449438, C0012634, C044...   \n",
       "35236                              {C0450429, 246267002}   \n",
       "\n",
       "                     ANN_sets  \n",
       "34060  {260753009, 125676002}  \n",
       "35147   {64572001, 125676002}  \n",
       "35236  {397635003, 246267002}  "
      ],
      "text/html": [
       "<div>\n",
       "<style scoped>\n",
       "    .dataframe tbody tr th:only-of-type {\n",
       "        vertical-align: middle;\n",
       "    }\n",
       "\n",
       "    .dataframe tbody tr th {\n",
       "        vertical-align: top;\n",
       "    }\n",
       "\n",
       "    .dataframe thead th {\n",
       "        text-align: right;\n",
       "    }\n",
       "</style>\n",
       "<table border=\"1\" class=\"dataframe\">\n",
       "  <thead>\n",
       "    <tr style=\"text-align: right;\">\n",
       "      <th></th>\n",
       "      <th>AttributoNomeCompleto</th>\n",
       "      <th>GS_sets</th>\n",
       "      <th>ANN_sets</th>\n",
       "    </tr>\n",
       "  </thead>\n",
       "  <tbody>\n",
       "    <tr>\n",
       "      <th>34060</th>\n",
       "      <td>person-person_source_value</td>\n",
       "      <td>{C0027361, 125676002, 260753009, C0449416, C15...</td>\n",
       "      <td>{260753009, 125676002}</td>\n",
       "    </tr>\n",
       "    <tr>\n",
       "      <th>35147</th>\n",
       "      <td>condition_occurrence-condition_status_source_v...</td>\n",
       "      <td>{64572001, 260753009, C0449438, C0012634, C044...</td>\n",
       "      <td>{64572001, 125676002}</td>\n",
       "    </tr>\n",
       "    <tr>\n",
       "      <th>35236</th>\n",
       "      <td>location-location_id</td>\n",
       "      <td>{C0450429, 246267002}</td>\n",
       "      <td>{397635003, 246267002}</td>\n",
       "    </tr>\n",
       "  </tbody>\n",
       "</table>\n",
       "</div>"
      ]
     },
     "execution_count": 16,
     "metadata": {},
     "output_type": "execute_result"
    }
   ],
   "execution_count": 16
  },
  {
   "cell_type": "markdown",
   "source": [
    "ma gli insiemi non sono \"confrontabili\" in GS_set ci sono gli elementi C ....\n",
    "\n",
    "non credo funzioni fatta così, vengono dei valori bassi\n",
    "\n",
    "provo a rifare tutto"
   ],
   "metadata": {
    "id": "uqCtidyaGzyN"
   },
   "id": "uqCtidyaGzyN"
  },
  {
   "cell_type": "markdown",
   "source": [
    "## 4) da mettere nella tesi\n",
    "\n",
    "\n",
    "In definitiva, abbiamo due DataFrame distinti:\n",
    "\n",
    "- Il primo *GS_both* contiene il gold standard\n",
    "- Il secondo *annotazioni_both* contiene le annotazioni\n",
    "\n",
    "Per semplicità, nel seguito ci riferiremo a questi due DataFrame semplicemente come *GoldStandard* e *Annotazioni*"
   ],
   "metadata": {
    "id": "eLrm1lcDLCOW"
   },
   "id": "eLrm1lcDLCOW"
  },
  {
   "cell_type": "code",
   "source": [
    "GoldStandard=  GS_both\n",
    "Annotazioni = annotazioni_both"
   ],
   "metadata": {
    "id": "Ucp22oM3L4q2",
    "ExecuteTime": {
     "end_time": "2025-06-11T13:35:34.432647Z",
     "start_time": "2025-06-11T13:35:34.428616Z"
    }
   },
   "id": "Ucp22oM3L4q2",
   "outputs": [],
   "execution_count": 17
  },
  {
   "cell_type": "markdown",
   "source": [
    "## 5) da mettere nella tesi\n",
    "\n",
    "mettere nella tesi seguente discorso e tabella con 4 elementi\n",
    "\n",
    "Per calcolare l'insieme *ANN*, ovvero la lista dei codici che costituiscono l'annotazione  \n",
    "di un certo elemento *AttributoNomeCompleto* rispetto a una certa *ontologia*, ottenuta da un certo *Annotator*,  \n",
    "eseguiamo un **raggruppamento su tali campi**.\n",
    "\n",
    "Questo ci permette di ottenere in uscita:\n",
    "\n",
    "- la lista dei codici (*ANN*), costruita come l'insieme **ordinato** dei codici unici (`Cui`);\n",
    "- il numero di elementi distinti che la compongono (*NumElementi*)."
   ],
   "metadata": {
    "id": "7YvtqnaqM6m1"
   },
   "id": "7YvtqnaqM6m1"
  },
  {
   "cell_type": "code",
   "source": [
    "ANN_set = (\n",
    "    Annotazioni\n",
    "    .groupby(['TipoDiAnnotazione', 'Ontologies', 'Annotator', 'AttributoNomeCompleto'])\n",
    "    .agg(\n",
    "        NumElementi=('Cui', 'nunique'),  # count distinct\n",
    "        ANN=('Cui', lambda x: set(x.unique()))\n",
    "    )\n",
    "    .reset_index()\n",
    ")\n",
    "ANN_set.sample(4)"
   ],
   "metadata": {
    "colab": {
     "base_uri": "https://localhost:8080/",
     "height": 174
    },
    "id": "0JvQI0SgHIwD",
    "outputId": "c1ef3fac-7a9a-4971-dc69-bc21bcb4f2c8",
    "ExecuteTime": {
     "end_time": "2025-06-11T13:52:37.070259Z",
     "start_time": "2025-06-11T13:52:37.032905Z"
    }
   },
   "id": "0JvQI0SgHIwD",
   "outputs": [
    {
     "data": {
      "text/plain": [
       "                  TipoDiAnnotazione Ontologies  Annotator  \\\n",
       "112    BioportalDescrizioneCompleta  SNOMED-CT  Bioportal   \n",
       "193       Medcat_SNOMED_Df_CS_1_ANC  SNOMED-CT     MedCAT   \n",
       "35   BioportalAttributoNomeCompleto  SNOMED-CT  Bioportal   \n",
       "199       Medcat_SNOMED_Df_CS_1_ANC  SNOMED-CT     MedCAT   \n",
       "\n",
       "                                 AttributoNomeCompleto  NumElementi  \\\n",
       "112                     condition_occurrence-person_id            2   \n",
       "193     condition_occurrence-condition_type_concept_id            2   \n",
       "35   condition_occurrence-condition_status_source_v...            3   \n",
       "199                                 location-address_1            2   \n",
       "\n",
       "                                   ANN  \n",
       "112              {64572001, 125676002}  \n",
       "193              {64572001, 125676002}  \n",
       "35   {246454002, 263490005, 260753009}  \n",
       "199             {125676002, 246267002}  "
      ],
      "text/html": [
       "<div>\n",
       "<style scoped>\n",
       "    .dataframe tbody tr th:only-of-type {\n",
       "        vertical-align: middle;\n",
       "    }\n",
       "\n",
       "    .dataframe tbody tr th {\n",
       "        vertical-align: top;\n",
       "    }\n",
       "\n",
       "    .dataframe thead th {\n",
       "        text-align: right;\n",
       "    }\n",
       "</style>\n",
       "<table border=\"1\" class=\"dataframe\">\n",
       "  <thead>\n",
       "    <tr style=\"text-align: right;\">\n",
       "      <th></th>\n",
       "      <th>TipoDiAnnotazione</th>\n",
       "      <th>Ontologies</th>\n",
       "      <th>Annotator</th>\n",
       "      <th>AttributoNomeCompleto</th>\n",
       "      <th>NumElementi</th>\n",
       "      <th>ANN</th>\n",
       "    </tr>\n",
       "  </thead>\n",
       "  <tbody>\n",
       "    <tr>\n",
       "      <th>112</th>\n",
       "      <td>BioportalDescrizioneCompleta</td>\n",
       "      <td>SNOMED-CT</td>\n",
       "      <td>Bioportal</td>\n",
       "      <td>condition_occurrence-person_id</td>\n",
       "      <td>2</td>\n",
       "      <td>{64572001, 125676002}</td>\n",
       "    </tr>\n",
       "    <tr>\n",
       "      <th>193</th>\n",
       "      <td>Medcat_SNOMED_Df_CS_1_ANC</td>\n",
       "      <td>SNOMED-CT</td>\n",
       "      <td>MedCAT</td>\n",
       "      <td>condition_occurrence-condition_type_concept_id</td>\n",
       "      <td>2</td>\n",
       "      <td>{64572001, 125676002}</td>\n",
       "    </tr>\n",
       "    <tr>\n",
       "      <th>35</th>\n",
       "      <td>BioportalAttributoNomeCompleto</td>\n",
       "      <td>SNOMED-CT</td>\n",
       "      <td>Bioportal</td>\n",
       "      <td>condition_occurrence-condition_status_source_v...</td>\n",
       "      <td>3</td>\n",
       "      <td>{246454002, 263490005, 260753009}</td>\n",
       "    </tr>\n",
       "    <tr>\n",
       "      <th>199</th>\n",
       "      <td>Medcat_SNOMED_Df_CS_1_ANC</td>\n",
       "      <td>SNOMED-CT</td>\n",
       "      <td>MedCAT</td>\n",
       "      <td>location-address_1</td>\n",
       "      <td>2</td>\n",
       "      <td>{125676002, 246267002}</td>\n",
       "    </tr>\n",
       "  </tbody>\n",
       "</table>\n",
       "</div>"
      ]
     },
     "execution_count": 54,
     "metadata": {},
     "output_type": "execute_result"
    }
   ],
   "execution_count": 54
  },
  {
   "cell_type": "code",
   "source": [],
   "metadata": {
    "id": "J04sxhGLHIyt"
   },
   "id": "J04sxhGLHIyt",
   "execution_count": 19,
   "outputs": []
  },
  {
   "cell_type": "markdown",
   "source": [
    "## 6) da mettere nella tesi\n",
    "\n",
    "\n",
    "\n",
    "Applichiamo la stessa operazione anche al gold standard:  \n",
    "raggruppiamo per i campi *Ontologies* e *AttributoNomeCompleto*  \n",
    "per ottenere l'insieme *GS*.\n",
    "\n",
    "In questo caso non è necessario includere il campo *TipoDiAnnotazione* nel `groupby`,  \n",
    "poiché il suo valore serve unicamente a indicare che si tratta del gold standard.  \n",
    "Raggruppare includendo o escludendo questa colonna produce lo stesso risultato."
   ],
   "metadata": {
    "id": "Qm8Q0uBjNoBw"
   },
   "id": "Qm8Q0uBjNoBw"
  },
  {
   "cell_type": "code",
   "source": [
    "GS_set = (\n",
    "    GoldStandard\n",
    "    .groupby(['TipoDiAnnotazione', 'Ontologies',  'AttributoNomeCompleto'])\n",
    "    .agg(\n",
    "        NumElementi=('Cui', 'nunique'),  # count distinct\n",
    "        GS=('Cui', lambda x: set(x.unique()))\n",
    "    )\n",
    "    .reset_index()\n",
    ")\n",
    "GS_set.sample(4)"
   ],
   "metadata": {
    "colab": {
     "base_uri": "https://localhost:8080/",
     "height": 174
    },
    "id": "aXpQuEMPQle9",
    "outputId": "1f1e7c94-ef35-4c6b-90ea-7b01d6cc755e",
    "ExecuteTime": {
     "end_time": "2025-06-11T13:36:28.854717Z",
     "start_time": "2025-06-11T13:36:28.828904Z"
    }
   },
   "id": "aXpQuEMPQle9",
   "outputs": [
    {
     "data": {
      "text/plain": [
       "   TipoDiAnnotazione Ontologies  \\\n",
       "30         MedicalGS  SNOMED-CT   \n",
       "44         MedicalGS       UMLS   \n",
       "1          MedicalGS  SNOMED-CT   \n",
       "40         MedicalGS       UMLS   \n",
       "\n",
       "                            AttributoNomeCompleto  NumElementi  \\\n",
       "30                     person-person_source_value            2   \n",
       "44               condition_occurrence-provider_id            1   \n",
       "1         condition_occurrence-condition_end_date            2   \n",
       "40  condition_occurrence-condition_start_datetime            3   \n",
       "\n",
       "                                GS  \n",
       "30          {260753009, 125676002}  \n",
       "44                      {C1138603}  \n",
       "1            {410671006, 64572001}  \n",
       "40  {C1301880, C0011008, C0012634}  "
      ],
      "text/html": [
       "<div>\n",
       "<style scoped>\n",
       "    .dataframe tbody tr th:only-of-type {\n",
       "        vertical-align: middle;\n",
       "    }\n",
       "\n",
       "    .dataframe tbody tr th {\n",
       "        vertical-align: top;\n",
       "    }\n",
       "\n",
       "    .dataframe thead th {\n",
       "        text-align: right;\n",
       "    }\n",
       "</style>\n",
       "<table border=\"1\" class=\"dataframe\">\n",
       "  <thead>\n",
       "    <tr style=\"text-align: right;\">\n",
       "      <th></th>\n",
       "      <th>TipoDiAnnotazione</th>\n",
       "      <th>Ontologies</th>\n",
       "      <th>AttributoNomeCompleto</th>\n",
       "      <th>NumElementi</th>\n",
       "      <th>GS</th>\n",
       "    </tr>\n",
       "  </thead>\n",
       "  <tbody>\n",
       "    <tr>\n",
       "      <th>30</th>\n",
       "      <td>MedicalGS</td>\n",
       "      <td>SNOMED-CT</td>\n",
       "      <td>person-person_source_value</td>\n",
       "      <td>2</td>\n",
       "      <td>{260753009, 125676002}</td>\n",
       "    </tr>\n",
       "    <tr>\n",
       "      <th>44</th>\n",
       "      <td>MedicalGS</td>\n",
       "      <td>UMLS</td>\n",
       "      <td>condition_occurrence-provider_id</td>\n",
       "      <td>1</td>\n",
       "      <td>{C1138603}</td>\n",
       "    </tr>\n",
       "    <tr>\n",
       "      <th>1</th>\n",
       "      <td>MedicalGS</td>\n",
       "      <td>SNOMED-CT</td>\n",
       "      <td>condition_occurrence-condition_end_date</td>\n",
       "      <td>2</td>\n",
       "      <td>{410671006, 64572001}</td>\n",
       "    </tr>\n",
       "    <tr>\n",
       "      <th>40</th>\n",
       "      <td>MedicalGS</td>\n",
       "      <td>UMLS</td>\n",
       "      <td>condition_occurrence-condition_start_datetime</td>\n",
       "      <td>3</td>\n",
       "      <td>{C1301880, C0011008, C0012634}</td>\n",
       "    </tr>\n",
       "  </tbody>\n",
       "</table>\n",
       "</div>"
      ]
     },
     "execution_count": 21,
     "metadata": {},
     "output_type": "execute_result"
    }
   ],
   "execution_count": 21
  },
  {
   "cell_type": "markdown",
   "source": [
    "## 7) da mettere nella tesi\n",
    "\n",
    "\n",
    "A questo punto, per ottenere in un unico DataFrame sia l'insieme *ANN* (annotazioni)  \n",
    "che l'insieme *GS* (gold standard), è sufficiente effettuare una **join** tra i due dataset.\n",
    "\n",
    "In particolare, utilizziamo una **full outer join** per assicurarci di considerare anche i casi  \n",
    "in cui un elemento sia presente **solo nel gold standard** oppure **solo nel file delle annotazioni**.\n",
    "\n",
    "L'output sarà un DataFrame che include **entrambi gli insiemi** per ogni combinazione rilevante  \n",
    "di *ontologia* e *attributo*.\n",
    "\n",
    "Includiamo queste operazioni in una funzione\n",
    "che ha come input\n",
    "sia i dataframe  *ANN* e  *GS* (gold standard),\n",
    "sia il *TipoAnnotazione* che vogliamo valutare sia ovviamente l'*Ontologia* rispetto alla quale è stata fatta l'annotazone\n",
    "\n"
   ],
   "metadata": {
    "id": "MNVKW4weOqGy"
   },
   "id": "MNVKW4weOqGy"
  },
  {
   "cell_type": "code",
   "source": [
    "def get_Annotazioni(FissaTipoAnnotazione, FissaOntologia,\n",
    "                      ANN_set, GS_set):\n",
    "\n",
    "    # Filtro annotazioni per tipo e ontologia\n",
    "    ANN_set_Fixed = ANN_set[\n",
    "        (ANN_set.TipoDiAnnotazione == FissaTipoAnnotazione) &\n",
    "        (ANN_set.Ontologies == FissaOntologia)\n",
    "    ]\n",
    "\n",
    "    # Filtro gold standard per ontologia\n",
    "    GS_set_Fixed = GS_set[\n",
    "        GS_set.Ontologies == FissaOntologia\n",
    "    ]\n",
    "\n",
    "    # Full outer join\n",
    "    merged = pd.merge(\n",
    "        GS_set_Fixed[['Ontologies', 'AttributoNomeCompleto', 'GS']],\n",
    "        ANN_set_Fixed[['Ontologies', 'AttributoNomeCompleto', 'TipoDiAnnotazione', 'ANN']],\n",
    "        on=['Ontologies', 'AttributoNomeCompleto'],\n",
    "        how='outer'\n",
    "    )\n",
    "\n",
    "    # Rinomina le colonne\n",
    "    merged = merged.rename(columns={\n",
    "        'GS': 'GS_set',\n",
    "        'ANN': 'ANN_set'\n",
    "    })\n",
    "\n",
    "    # Riordina le colonne\n",
    "    merged = merged[['TipoDiAnnotazione', 'Ontologies', 'AttributoNomeCompleto', 'GS_set', 'ANN_set']]\n",
    "\n",
    "    return merged\n",
    "\n",
    ""
   ],
   "metadata": {
    "id": "pi2YAsUcRZHc",
    "ExecuteTime": {
     "end_time": "2025-06-11T13:36:36.438611Z",
     "start_time": "2025-06-11T13:36:36.432902Z"
    }
   },
   "id": "pi2YAsUcRZHc",
   "outputs": [],
   "execution_count": 22
  },
  {
   "cell_type": "code",
   "source": [],
   "metadata": {
    "id": "X85MYNcGSYsb"
   },
   "id": "X85MYNcGSYsb",
   "execution_count": 25,
   "outputs": []
  },
  {
   "cell_type": "markdown",
   "source": [
    "Ad esempio"
   ],
   "metadata": {
    "id": "hr30TiJlS4aE"
   },
   "id": "hr30TiJlS4aE"
  },
  {
   "cell_type": "code",
   "source": [
    "get_Annotazioni('Medcat_UMLS_Df_Full_ANC',\n",
    "                'UMLS',\n",
    "                ANN_set,\n",
    "                GS_set\n",
    "                ).sample(4)"
   ],
   "metadata": {
    "colab": {
     "base_uri": "https://localhost:8080/",
     "height": 174
    },
    "id": "5XirJPCgSY32",
    "outputId": "60a8e5b4-6b1b-4f0d-eb26-1f003ca1f098",
    "ExecuteTime": {
     "end_time": "2025-06-11T13:36:45.238019Z",
     "start_time": "2025-06-11T13:36:45.205387Z"
    }
   },
   "id": "5XirJPCgSY32",
   "outputs": [
    {
     "data": {
      "text/plain": [
       "          TipoDiAnnotazione Ontologies                 AttributoNomeCompleto  \\\n",
       "29  Medcat_UMLS_Df_Full_ANC       UMLS              person-gender_concept_id   \n",
       "14  Medcat_UMLS_Df_Full_ANC       UMLS  condition_occurrence-visit_detail_id   \n",
       "26  Medcat_UMLS_Df_Full_ANC       UMLS           person-ethnicity_concept_id   \n",
       "31  Medcat_UMLS_Df_Full_ANC       UMLS            person-gender_source_value   \n",
       "\n",
       "                            GS_set                                   ANN_set  \n",
       "29            {C0178566, C0079399}  {C0027361, C0079399, C0178566, C0449416}  \n",
       "14            {C1512346, C2745955}            {C0027361, C0012634, C0449416}  \n",
       "26            {C0178566, C0015031}  {C0027361, C0015031, C0178566, C0449416}  \n",
       "31  {C0449416, C1522609, C0079399}  {C0027361, C0178566, C0079399, C0449416}  "
      ],
      "text/html": [
       "<div>\n",
       "<style scoped>\n",
       "    .dataframe tbody tr th:only-of-type {\n",
       "        vertical-align: middle;\n",
       "    }\n",
       "\n",
       "    .dataframe tbody tr th {\n",
       "        vertical-align: top;\n",
       "    }\n",
       "\n",
       "    .dataframe thead th {\n",
       "        text-align: right;\n",
       "    }\n",
       "</style>\n",
       "<table border=\"1\" class=\"dataframe\">\n",
       "  <thead>\n",
       "    <tr style=\"text-align: right;\">\n",
       "      <th></th>\n",
       "      <th>TipoDiAnnotazione</th>\n",
       "      <th>Ontologies</th>\n",
       "      <th>AttributoNomeCompleto</th>\n",
       "      <th>GS_set</th>\n",
       "      <th>ANN_set</th>\n",
       "    </tr>\n",
       "  </thead>\n",
       "  <tbody>\n",
       "    <tr>\n",
       "      <th>29</th>\n",
       "      <td>Medcat_UMLS_Df_Full_ANC</td>\n",
       "      <td>UMLS</td>\n",
       "      <td>person-gender_concept_id</td>\n",
       "      <td>{C0178566, C0079399}</td>\n",
       "      <td>{C0027361, C0079399, C0178566, C0449416}</td>\n",
       "    </tr>\n",
       "    <tr>\n",
       "      <th>14</th>\n",
       "      <td>Medcat_UMLS_Df_Full_ANC</td>\n",
       "      <td>UMLS</td>\n",
       "      <td>condition_occurrence-visit_detail_id</td>\n",
       "      <td>{C1512346, C2745955}</td>\n",
       "      <td>{C0027361, C0012634, C0449416}</td>\n",
       "    </tr>\n",
       "    <tr>\n",
       "      <th>26</th>\n",
       "      <td>Medcat_UMLS_Df_Full_ANC</td>\n",
       "      <td>UMLS</td>\n",
       "      <td>person-ethnicity_concept_id</td>\n",
       "      <td>{C0178566, C0015031}</td>\n",
       "      <td>{C0027361, C0015031, C0178566, C0449416}</td>\n",
       "    </tr>\n",
       "    <tr>\n",
       "      <th>31</th>\n",
       "      <td>Medcat_UMLS_Df_Full_ANC</td>\n",
       "      <td>UMLS</td>\n",
       "      <td>person-gender_source_value</td>\n",
       "      <td>{C0449416, C1522609, C0079399}</td>\n",
       "      <td>{C0027361, C0178566, C0079399, C0449416}</td>\n",
       "    </tr>\n",
       "  </tbody>\n",
       "</table>\n",
       "</div>"
      ]
     },
     "execution_count": 23,
     "metadata": {},
     "output_type": "execute_result"
    }
   ],
   "execution_count": 23
  },
  {
   "cell_type": "markdown",
   "source": [],
   "metadata": {
    "id": "8_iBlXRoQa0I"
   },
   "id": "8_iBlXRoQa0I"
  },
  {
   "cell_type": "code",
   "source": [
    "get_Annotazioni('BioportalDescrizioneCompleta',\n",
    "                'SNOMED-CT',\n",
    "                ANN_set,\n",
    "                GS_set\n",
    "                ).sort_values(\"AttributoNomeCompleto\").head()"
   ],
   "metadata": {
    "colab": {
     "base_uri": "https://localhost:8080/",
     "height": 206
    },
    "id": "4PqhA4dnTIfQ",
    "outputId": "2d920f46-933d-49fc-d903-dcd82f3608e7",
    "ExecuteTime": {
     "end_time": "2025-06-11T13:36:55.567918Z",
     "start_time": "2025-06-11T13:36:55.545801Z"
    }
   },
   "id": "4PqhA4dnTIfQ",
   "outputs": [
    {
     "data": {
      "text/plain": [
       "              TipoDiAnnotazione Ontologies  \\\n",
       "0  BioportalDescrizioneCompleta  SNOMED-CT   \n",
       "1  BioportalDescrizioneCompleta  SNOMED-CT   \n",
       "2  BioportalDescrizioneCompleta  SNOMED-CT   \n",
       "3  BioportalDescrizioneCompleta  SNOMED-CT   \n",
       "4  BioportalDescrizioneCompleta  SNOMED-CT   \n",
       "\n",
       "                              AttributoNomeCompleto  \\\n",
       "0         condition_occurrence-condition_concept_id   \n",
       "1           condition_occurrence-condition_end_date   \n",
       "2       condition_occurrence-condition_end_datetime   \n",
       "3      condition_occurrence-condition_occurrence_id   \n",
       "4  condition_occurrence-condition_source_concept_id   \n",
       "\n",
       "                             GS_set                ANN_set  \n",
       "0                        {64572001}  {64572001, 125676002}  \n",
       "1             {410671006, 64572001}  {64572001, 125676002}  \n",
       "2  {410671006, 397898000, 64572001}  {64572001, 125676002}  \n",
       "3             {246454002, 64572001}  {64572001, 125676002}  \n",
       "4             {64572001, 260753009}  {64572001, 125676002}  "
      ],
      "text/html": [
       "<div>\n",
       "<style scoped>\n",
       "    .dataframe tbody tr th:only-of-type {\n",
       "        vertical-align: middle;\n",
       "    }\n",
       "\n",
       "    .dataframe tbody tr th {\n",
       "        vertical-align: top;\n",
       "    }\n",
       "\n",
       "    .dataframe thead th {\n",
       "        text-align: right;\n",
       "    }\n",
       "</style>\n",
       "<table border=\"1\" class=\"dataframe\">\n",
       "  <thead>\n",
       "    <tr style=\"text-align: right;\">\n",
       "      <th></th>\n",
       "      <th>TipoDiAnnotazione</th>\n",
       "      <th>Ontologies</th>\n",
       "      <th>AttributoNomeCompleto</th>\n",
       "      <th>GS_set</th>\n",
       "      <th>ANN_set</th>\n",
       "    </tr>\n",
       "  </thead>\n",
       "  <tbody>\n",
       "    <tr>\n",
       "      <th>0</th>\n",
       "      <td>BioportalDescrizioneCompleta</td>\n",
       "      <td>SNOMED-CT</td>\n",
       "      <td>condition_occurrence-condition_concept_id</td>\n",
       "      <td>{64572001}</td>\n",
       "      <td>{64572001, 125676002}</td>\n",
       "    </tr>\n",
       "    <tr>\n",
       "      <th>1</th>\n",
       "      <td>BioportalDescrizioneCompleta</td>\n",
       "      <td>SNOMED-CT</td>\n",
       "      <td>condition_occurrence-condition_end_date</td>\n",
       "      <td>{410671006, 64572001}</td>\n",
       "      <td>{64572001, 125676002}</td>\n",
       "    </tr>\n",
       "    <tr>\n",
       "      <th>2</th>\n",
       "      <td>BioportalDescrizioneCompleta</td>\n",
       "      <td>SNOMED-CT</td>\n",
       "      <td>condition_occurrence-condition_end_datetime</td>\n",
       "      <td>{410671006, 397898000, 64572001}</td>\n",
       "      <td>{64572001, 125676002}</td>\n",
       "    </tr>\n",
       "    <tr>\n",
       "      <th>3</th>\n",
       "      <td>BioportalDescrizioneCompleta</td>\n",
       "      <td>SNOMED-CT</td>\n",
       "      <td>condition_occurrence-condition_occurrence_id</td>\n",
       "      <td>{246454002, 64572001}</td>\n",
       "      <td>{64572001, 125676002}</td>\n",
       "    </tr>\n",
       "    <tr>\n",
       "      <th>4</th>\n",
       "      <td>BioportalDescrizioneCompleta</td>\n",
       "      <td>SNOMED-CT</td>\n",
       "      <td>condition_occurrence-condition_source_concept_id</td>\n",
       "      <td>{64572001, 260753009}</td>\n",
       "      <td>{64572001, 125676002}</td>\n",
       "    </tr>\n",
       "  </tbody>\n",
       "</table>\n",
       "</div>"
      ]
     },
     "execution_count": 24,
     "metadata": {},
     "output_type": "execute_result"
    }
   ],
   "execution_count": 24
  },
  {
   "cell_type": "code",
   "source": [
    "get_Annotazioni('BioportalDescrizioneAttributo',\n",
    "                'SNOMED-CT',\n",
    "                ANN_set,\n",
    "                GS_set\n",
    "                ).sort_values(\"AttributoNomeCompleto\").head()"
   ],
   "metadata": {
    "colab": {
     "base_uri": "https://localhost:8080/",
     "height": 206
    },
    "id": "qaP3Oxy-Y39L",
    "outputId": "2e1b860a-3b32-46cb-9287-cdee1e28f99c",
    "ExecuteTime": {
     "end_time": "2025-06-11T13:36:59.521259Z",
     "start_time": "2025-06-11T13:36:59.502542Z"
    }
   },
   "id": "qaP3Oxy-Y39L",
   "outputs": [
    {
     "data": {
      "text/plain": [
       "               TipoDiAnnotazione Ontologies  \\\n",
       "0                            NaN  SNOMED-CT   \n",
       "1  BioportalDescrizioneAttributo  SNOMED-CT   \n",
       "2  BioportalDescrizioneAttributo  SNOMED-CT   \n",
       "3  BioportalDescrizioneAttributo  SNOMED-CT   \n",
       "4  BioportalDescrizioneAttributo  SNOMED-CT   \n",
       "\n",
       "                              AttributoNomeCompleto  \\\n",
       "0         condition_occurrence-condition_concept_id   \n",
       "1           condition_occurrence-condition_end_date   \n",
       "2       condition_occurrence-condition_end_datetime   \n",
       "3      condition_occurrence-condition_occurrence_id   \n",
       "4  condition_occurrence-condition_source_concept_id   \n",
       "\n",
       "                             GS_set                 ANN_set  \n",
       "0                        {64572001}                     NaN  \n",
       "1             {410671006, 64572001}             {410671006}  \n",
       "2  {410671006, 397898000, 64572001}             {410671006}  \n",
       "3             {246454002, 64572001}  {246454002, 272379006}  \n",
       "4             {64572001, 260753009}             {260753009}  "
      ],
      "text/html": [
       "<div>\n",
       "<style scoped>\n",
       "    .dataframe tbody tr th:only-of-type {\n",
       "        vertical-align: middle;\n",
       "    }\n",
       "\n",
       "    .dataframe tbody tr th {\n",
       "        vertical-align: top;\n",
       "    }\n",
       "\n",
       "    .dataframe thead th {\n",
       "        text-align: right;\n",
       "    }\n",
       "</style>\n",
       "<table border=\"1\" class=\"dataframe\">\n",
       "  <thead>\n",
       "    <tr style=\"text-align: right;\">\n",
       "      <th></th>\n",
       "      <th>TipoDiAnnotazione</th>\n",
       "      <th>Ontologies</th>\n",
       "      <th>AttributoNomeCompleto</th>\n",
       "      <th>GS_set</th>\n",
       "      <th>ANN_set</th>\n",
       "    </tr>\n",
       "  </thead>\n",
       "  <tbody>\n",
       "    <tr>\n",
       "      <th>0</th>\n",
       "      <td>NaN</td>\n",
       "      <td>SNOMED-CT</td>\n",
       "      <td>condition_occurrence-condition_concept_id</td>\n",
       "      <td>{64572001}</td>\n",
       "      <td>NaN</td>\n",
       "    </tr>\n",
       "    <tr>\n",
       "      <th>1</th>\n",
       "      <td>BioportalDescrizioneAttributo</td>\n",
       "      <td>SNOMED-CT</td>\n",
       "      <td>condition_occurrence-condition_end_date</td>\n",
       "      <td>{410671006, 64572001}</td>\n",
       "      <td>{410671006}</td>\n",
       "    </tr>\n",
       "    <tr>\n",
       "      <th>2</th>\n",
       "      <td>BioportalDescrizioneAttributo</td>\n",
       "      <td>SNOMED-CT</td>\n",
       "      <td>condition_occurrence-condition_end_datetime</td>\n",
       "      <td>{410671006, 397898000, 64572001}</td>\n",
       "      <td>{410671006}</td>\n",
       "    </tr>\n",
       "    <tr>\n",
       "      <th>3</th>\n",
       "      <td>BioportalDescrizioneAttributo</td>\n",
       "      <td>SNOMED-CT</td>\n",
       "      <td>condition_occurrence-condition_occurrence_id</td>\n",
       "      <td>{246454002, 64572001}</td>\n",
       "      <td>{246454002, 272379006}</td>\n",
       "    </tr>\n",
       "    <tr>\n",
       "      <th>4</th>\n",
       "      <td>BioportalDescrizioneAttributo</td>\n",
       "      <td>SNOMED-CT</td>\n",
       "      <td>condition_occurrence-condition_source_concept_id</td>\n",
       "      <td>{64572001, 260753009}</td>\n",
       "      <td>{260753009}</td>\n",
       "    </tr>\n",
       "  </tbody>\n",
       "</table>\n",
       "</div>"
      ]
     },
     "execution_count": 25,
     "metadata": {},
     "output_type": "execute_result"
    }
   ],
   "execution_count": 25
  },
  {
   "cell_type": "code",
   "source": [
    ""
   ],
   "metadata": {
    "id": "8UDN9RoeJrw7"
   },
   "id": "8UDN9RoeJrw7",
   "execution_count": null,
   "outputs": []
  },
  {
   "cell_type": "code",
   "source": [],
   "metadata": {
    "id": "MK7j_D0qJr0B"
   },
   "id": "MK7j_D0qJr0B",
   "execution_count": null,
   "outputs": []
  },
  {
   "cell_type": "code",
   "source": [],
   "metadata": {
    "id": "0gaHZYUXJr3e"
   },
   "id": "0gaHZYUXJr3e",
   "execution_count": null,
   "outputs": []
  },
  {
   "cell_type": "code",
   "source": [],
   "metadata": {
    "id": "FaPshN9FJr6p"
   },
   "id": "FaPshN9FJr6p",
   "execution_count": null,
   "outputs": []
  },
  {
   "cell_type": "markdown",
   "id": "52598cd9-da02-4b1d-b687-2a28bfe333be",
   "metadata": {
    "id": "52598cd9-da02-4b1d-b687-2a28bfe333be"
   },
   "source": [
    "# Precision, Recall e Jaccard Similarity\n",
    "\n",
    "\n",
    "\n",
    "Dato un attributo `AttributoNomeCompleto`, definiamo due insiemi:\n",
    "\n",
    "- **Gold Standard (GS)**: insieme dei concetti ritenuti corretti per quell’attributo.\n",
    "- **Annotazioni (ANN)**: insieme dei concetti predotti dall’annotator  per lo stesso attributo.\n",
    "\n",
    "\n",
    "**Formula delle metriche**\n",
    "\n",
    "- **Precision**:  \n",
    "$\n",
    "\\text{Precision} = \\frac{|GS \\cap ANN|}{|ANN|}\n",
    "$\n",
    "Indica la frazione degli elementi predetti da ANN che sono effettivamente corretti.\n",
    "\n",
    "- **Recall**:  \n",
    "$\n",
    "\\text{Recall} = \\frac{|GS \\cap ANN|}{|GS|}\n",
    "$\n",
    "Indica la frazione degli elementi effettivamente presenti in GS che sono stati trovati da ANN.\n",
    "\n",
    "- **Jaccard Similarity**:  \n",
    "$\n",
    "J(GS, ANN) = \\frac{|GS \\cap ANN|}{|GS \\cup ANN|}\n",
    "$\n",
    "Misura la sovrapposizione tra GS e ANN rispetto all’unione di entrambi."
   ]
  },
  {
   "cell_type": "markdown",
   "id": "94ff1eb0-6a6d-46ac-8c2a-7ae5bb3e6090",
   "metadata": {
    "id": "94ff1eb0-6a6d-46ac-8c2a-7ae5bb3e6090"
   },
   "source": [
    "Per fare un esempio significativo di questi concetti, individuo tre attributi in cui le annotazioni variano con TipoDiAnnotazione;\n",
    "ovviamente questi attributi devono anche avere il relativo gold standard\n",
    "\n",
    "Il codice che segue serve per individuare questi tre attributi (rispetto a tre TipiDiAnnotazione) per i quali si hanno valori significativi\n",
    "\n",
    "\n",
    "![immagine.png](attachment:ca920d53-6ec7-4111-8565-3de164851cb6.png)\n",
    "\n",
    "\n"
   ]
  },
  {
   "cell_type": "code",
   "id": "b2fd8d0e-2426-4082-a267-719c1b15bd1f",
   "metadata": {
    "colab": {
     "base_uri": "https://localhost:8080/",
     "height": 238
    },
    "id": "b2fd8d0e-2426-4082-a267-719c1b15bd1f",
    "outputId": "827d7d24-8ba8-42dd-fade-f2f18c028be6",
    "ExecuteTime": {
     "end_time": "2025-06-11T13:37:11.543307Z",
     "start_time": "2025-06-11T13:37:11.528027Z"
    }
   },
   "source": [
    "# QUESTA PARTE SERVE SOLO PER TROVARE TRE attributi che hanno annotazioni per tutte e tre i tipi e quindi valori significativi\n",
    "# Filtra le righe con tre tipi\n",
    "filtered = annotazioni_both[annotazioni_both['TipoDiAnnotazione'].isin(['Medcat_SNOMED_Df_Full_ANC',  'Medcat_SNOMED_Df_CS_1_ANC', 'BioportalDescrizioneCompleta'])]\n",
    "# Trova gli attributi che appaiono con entrambi i valori richiesti\n",
    "common_attributes = filtered.groupby('AttributoNomeCompleto')['TipoDiAnnotazione'].nunique()\n",
    "valid_attributes = common_attributes[common_attributes == 3].index.tolist()\n",
    "\n",
    "#filtered=filtered[filtered['AttributoNomeCompleto'].isin(valid_attributes[:3])]\n",
    "##### NON FUNZIONA BENE PER PRENDERE ESEMPI SIGNIFICATIVI CON DIVERSE ANNOTAZIONI\n",
    "# dopo alcune prove li scelgo a mano\n",
    "#filtered=filtered[filtered['AttributoNomeCompleto'].isin(['person-person_source_value', 'person-location_id', 'location-county'])]\n",
    "filtered=filtered[filtered['AttributoNomeCompleto'].isin(['person-person_source_value',\n",
    "'condition_occurrence-condition_status_source_value','location-location_id',\n",
    "                                                         # 'person-location_id', 'location-county'\n",
    "                                                         ])]\n",
    "\n",
    "\n",
    "valid_attributes=['person-person_source_value', 'condition_occurrence-condition_status_source_value','location-location_id']\n",
    "filtered[['Cui']].drop_duplicates()"
   ],
   "outputs": [
    {
     "data": {
      "text/plain": [
       "             Cui\n",
       "6374   125676002\n",
       "7765    64572001\n",
       "7772   263490005\n",
       "7863   246267002\n",
       "11388  260753009\n",
       "13340  397635003"
      ],
      "text/html": [
       "<div>\n",
       "<style scoped>\n",
       "    .dataframe tbody tr th:only-of-type {\n",
       "        vertical-align: middle;\n",
       "    }\n",
       "\n",
       "    .dataframe tbody tr th {\n",
       "        vertical-align: top;\n",
       "    }\n",
       "\n",
       "    .dataframe thead th {\n",
       "        text-align: right;\n",
       "    }\n",
       "</style>\n",
       "<table border=\"1\" class=\"dataframe\">\n",
       "  <thead>\n",
       "    <tr style=\"text-align: right;\">\n",
       "      <th></th>\n",
       "      <th>Cui</th>\n",
       "    </tr>\n",
       "  </thead>\n",
       "  <tbody>\n",
       "    <tr>\n",
       "      <th>6374</th>\n",
       "      <td>125676002</td>\n",
       "    </tr>\n",
       "    <tr>\n",
       "      <th>7765</th>\n",
       "      <td>64572001</td>\n",
       "    </tr>\n",
       "    <tr>\n",
       "      <th>7772</th>\n",
       "      <td>263490005</td>\n",
       "    </tr>\n",
       "    <tr>\n",
       "      <th>7863</th>\n",
       "      <td>246267002</td>\n",
       "    </tr>\n",
       "    <tr>\n",
       "      <th>11388</th>\n",
       "      <td>260753009</td>\n",
       "    </tr>\n",
       "    <tr>\n",
       "      <th>13340</th>\n",
       "      <td>397635003</td>\n",
       "    </tr>\n",
       "  </tbody>\n",
       "</table>\n",
       "</div>"
      ]
     },
     "execution_count": 26,
     "metadata": {},
     "output_type": "execute_result"
    }
   ],
   "execution_count": 26
  },
  {
   "cell_type": "code",
   "id": "ff86f0c8-def0-42f2-aeb3-f30a8140bea5",
   "metadata": {
    "id": "ff86f0c8-def0-42f2-aeb3-f30a8140bea5",
    "outputId": "10d21a8a-eafc-4312-f43a-55f95e3d938b",
    "ExecuteTime": {
     "end_time": "2025-06-11T13:37:14.775816Z",
     "start_time": "2025-06-11T13:37:14.765847Z"
    }
   },
   "source": [
    "############## PER CONSIDERARE INVECE TUTTI GLI ATTRIBUTI\n",
    "\n",
    "filtered = annotazioni_both\n",
    "filtered[['Cui']].drop_duplicates()"
   ],
   "outputs": [
    {
     "data": {
      "text/plain": [
       "             Cui\n",
       "1281   125676002\n",
       "1286   260753009\n",
       "1304   263495000\n",
       "1317   184099003\n",
       "1332   258706009\n",
       "1413   246267002\n",
       "1415   397635003\n",
       "2732    64572001\n",
       "2947   263490005\n",
       "3093   398070004\n",
       "12955  272379006\n",
       "13003  410671006\n",
       "18941   C0027361\n",
       "18946   C0449416\n",
       "18970   C0178566\n",
       "18972   C0079399\n",
       "19016   C0439231\n",
       "19038   C0439228\n",
       "19098   C0034510\n",
       "19121   C0015031\n",
       "19141   C0450429\n",
       "19143   C1442065\n",
       "19200   C0439849\n",
       "19273   C1522609\n",
       "21504   C0012634\n",
       "21523   C0441471\n",
       "21593   C0011008\n",
       "21730   C0392360\n",
       "21754   C1138603\n",
       "21879   C0449438\n",
       "22065   C0008848\n",
       "22107   C0454664\n",
       "33321  258703001\n",
       "33587  246454002"
      ],
      "text/html": [
       "<div>\n",
       "<style scoped>\n",
       "    .dataframe tbody tr th:only-of-type {\n",
       "        vertical-align: middle;\n",
       "    }\n",
       "\n",
       "    .dataframe tbody tr th {\n",
       "        vertical-align: top;\n",
       "    }\n",
       "\n",
       "    .dataframe thead th {\n",
       "        text-align: right;\n",
       "    }\n",
       "</style>\n",
       "<table border=\"1\" class=\"dataframe\">\n",
       "  <thead>\n",
       "    <tr style=\"text-align: right;\">\n",
       "      <th></th>\n",
       "      <th>Cui</th>\n",
       "    </tr>\n",
       "  </thead>\n",
       "  <tbody>\n",
       "    <tr>\n",
       "      <th>1281</th>\n",
       "      <td>125676002</td>\n",
       "    </tr>\n",
       "    <tr>\n",
       "      <th>1286</th>\n",
       "      <td>260753009</td>\n",
       "    </tr>\n",
       "    <tr>\n",
       "      <th>1304</th>\n",
       "      <td>263495000</td>\n",
       "    </tr>\n",
       "    <tr>\n",
       "      <th>1317</th>\n",
       "      <td>184099003</td>\n",
       "    </tr>\n",
       "    <tr>\n",
       "      <th>1332</th>\n",
       "      <td>258706009</td>\n",
       "    </tr>\n",
       "    <tr>\n",
       "      <th>1413</th>\n",
       "      <td>246267002</td>\n",
       "    </tr>\n",
       "    <tr>\n",
       "      <th>1415</th>\n",
       "      <td>397635003</td>\n",
       "    </tr>\n",
       "    <tr>\n",
       "      <th>2732</th>\n",
       "      <td>64572001</td>\n",
       "    </tr>\n",
       "    <tr>\n",
       "      <th>2947</th>\n",
       "      <td>263490005</td>\n",
       "    </tr>\n",
       "    <tr>\n",
       "      <th>3093</th>\n",
       "      <td>398070004</td>\n",
       "    </tr>\n",
       "    <tr>\n",
       "      <th>12955</th>\n",
       "      <td>272379006</td>\n",
       "    </tr>\n",
       "    <tr>\n",
       "      <th>13003</th>\n",
       "      <td>410671006</td>\n",
       "    </tr>\n",
       "    <tr>\n",
       "      <th>18941</th>\n",
       "      <td>C0027361</td>\n",
       "    </tr>\n",
       "    <tr>\n",
       "      <th>18946</th>\n",
       "      <td>C0449416</td>\n",
       "    </tr>\n",
       "    <tr>\n",
       "      <th>18970</th>\n",
       "      <td>C0178566</td>\n",
       "    </tr>\n",
       "    <tr>\n",
       "      <th>18972</th>\n",
       "      <td>C0079399</td>\n",
       "    </tr>\n",
       "    <tr>\n",
       "      <th>19016</th>\n",
       "      <td>C0439231</td>\n",
       "    </tr>\n",
       "    <tr>\n",
       "      <th>19038</th>\n",
       "      <td>C0439228</td>\n",
       "    </tr>\n",
       "    <tr>\n",
       "      <th>19098</th>\n",
       "      <td>C0034510</td>\n",
       "    </tr>\n",
       "    <tr>\n",
       "      <th>19121</th>\n",
       "      <td>C0015031</td>\n",
       "    </tr>\n",
       "    <tr>\n",
       "      <th>19141</th>\n",
       "      <td>C0450429</td>\n",
       "    </tr>\n",
       "    <tr>\n",
       "      <th>19143</th>\n",
       "      <td>C1442065</td>\n",
       "    </tr>\n",
       "    <tr>\n",
       "      <th>19200</th>\n",
       "      <td>C0439849</td>\n",
       "    </tr>\n",
       "    <tr>\n",
       "      <th>19273</th>\n",
       "      <td>C1522609</td>\n",
       "    </tr>\n",
       "    <tr>\n",
       "      <th>21504</th>\n",
       "      <td>C0012634</td>\n",
       "    </tr>\n",
       "    <tr>\n",
       "      <th>21523</th>\n",
       "      <td>C0441471</td>\n",
       "    </tr>\n",
       "    <tr>\n",
       "      <th>21593</th>\n",
       "      <td>C0011008</td>\n",
       "    </tr>\n",
       "    <tr>\n",
       "      <th>21730</th>\n",
       "      <td>C0392360</td>\n",
       "    </tr>\n",
       "    <tr>\n",
       "      <th>21754</th>\n",
       "      <td>C1138603</td>\n",
       "    </tr>\n",
       "    <tr>\n",
       "      <th>21879</th>\n",
       "      <td>C0449438</td>\n",
       "    </tr>\n",
       "    <tr>\n",
       "      <th>22065</th>\n",
       "      <td>C0008848</td>\n",
       "    </tr>\n",
       "    <tr>\n",
       "      <th>22107</th>\n",
       "      <td>C0454664</td>\n",
       "    </tr>\n",
       "    <tr>\n",
       "      <th>33321</th>\n",
       "      <td>258703001</td>\n",
       "    </tr>\n",
       "    <tr>\n",
       "      <th>33587</th>\n",
       "      <td>246454002</td>\n",
       "    </tr>\n",
       "  </tbody>\n",
       "</table>\n",
       "</div>"
      ]
     },
     "execution_count": 27,
     "metadata": {},
     "output_type": "execute_result"
    }
   ],
   "execution_count": 27
  },
  {
   "cell_type": "code",
   "id": "80003226-5a2f-4037-9b23-63586c6aec37",
   "metadata": {
    "colab": {
     "base_uri": "https://localhost:8080/",
     "height": 143
    },
    "id": "80003226-5a2f-4037-9b23-63586c6aec37",
    "outputId": "7821d44e-387a-4af6-a4c5-fcd55951bd34",
    "ExecuteTime": {
     "end_time": "2025-06-11T13:37:30.183052Z",
     "start_time": "2025-06-11T13:37:30.153788Z"
    }
   },
   "source": [
    "# Dizionario per salvare i risultati per ogni tipo di annotazione\n",
    "df_results_per_type = {}\n",
    "\n",
    "# Lista dei tipi di annotazione\n",
    "tipi_di_annotazione = [\n",
    "    'BioportalDescrizioneCompleta',\n",
    "    'Medcat_SNOMED_Df_CS_1_ANC',\n",
    "    'Medcat_SNOMED_Df_Full_ANC'\n",
    "]\n",
    "\n",
    "for tipo in tipi_di_annotazione:\n",
    "    # Filtra solo le righe con il TipoDiAnnotazione corrente\n",
    "    Xannotazioni_both = annotazioni_both[annotazioni_both['TipoDiAnnotazione'] == tipo]\n",
    "\n",
    "    # Filtra solo gli attributi validi\n",
    "    Xannotazioni_both = Xannotazioni_both[Xannotazioni_both['AttributoNomeCompleto'].isin(valid_attributes)]\n",
    "\n",
    "    # Ottieni gli attributi unici rimasti\n",
    "    attributi_filtered = Xannotazioni_both[['AttributoNomeCompleto']].drop_duplicates()\n",
    "\n",
    "    # Crea i dizionari per GS e ANN solo per gli attributi filtrati\n",
    "    GS_sets = GS_both.groupby('AttributoNomeCompleto')['Cui'].apply(set).reindex(attributi_filtered['AttributoNomeCompleto'], fill_value=set())\n",
    "    ANN_sets = Xannotazioni_both.groupby('AttributoNomeCompleto')['Cui'].apply(set).reindex(attributi_filtered['AttributoNomeCompleto'], fill_value=set())\n",
    "\n",
    "    # Creiamo il DataFrame per questo tipo di annotazione\n",
    "    df_result_tipo = attributi_filtered.copy()\n",
    "    df_result_tipo['GS_sets'] = df_result_tipo['AttributoNomeCompleto'].map(GS_sets)\n",
    "    df_result_tipo['ANN_sets'] = df_result_tipo['AttributoNomeCompleto'].map(ANN_sets)\n",
    "\n",
    "    # Salviamo il DataFrame nel dizionario con la chiave corrispondente al tipo di annotazione\n",
    "    df_results_per_type[tipo] = df_result_tipo\n",
    "\n",
    "# Ora puoi accedere ai risultati per ogni tipo di annotazione\n",
    "df_results_per_type['BioportalDescrizioneCompleta']\n"
   ],
   "outputs": [
    {
     "data": {
      "text/plain": [
       "                                   AttributoNomeCompleto  \\\n",
       "34060                         person-person_source_value   \n",
       "35147  condition_occurrence-condition_status_source_v...   \n",
       "35236                               location-location_id   \n",
       "\n",
       "                                                 GS_sets  \\\n",
       "34060  {C0027361, 125676002, 260753009, C0449416, C15...   \n",
       "35147  {64572001, 260753009, C0449438, C0012634, C044...   \n",
       "35236                              {C0450429, 246267002}   \n",
       "\n",
       "                     ANN_sets  \n",
       "34060  {260753009, 125676002}  \n",
       "35147   {64572001, 125676002}  \n",
       "35236  {397635003, 246267002}  "
      ],
      "text/html": [
       "<div>\n",
       "<style scoped>\n",
       "    .dataframe tbody tr th:only-of-type {\n",
       "        vertical-align: middle;\n",
       "    }\n",
       "\n",
       "    .dataframe tbody tr th {\n",
       "        vertical-align: top;\n",
       "    }\n",
       "\n",
       "    .dataframe thead th {\n",
       "        text-align: right;\n",
       "    }\n",
       "</style>\n",
       "<table border=\"1\" class=\"dataframe\">\n",
       "  <thead>\n",
       "    <tr style=\"text-align: right;\">\n",
       "      <th></th>\n",
       "      <th>AttributoNomeCompleto</th>\n",
       "      <th>GS_sets</th>\n",
       "      <th>ANN_sets</th>\n",
       "    </tr>\n",
       "  </thead>\n",
       "  <tbody>\n",
       "    <tr>\n",
       "      <th>34060</th>\n",
       "      <td>person-person_source_value</td>\n",
       "      <td>{C0027361, 125676002, 260753009, C0449416, C15...</td>\n",
       "      <td>{260753009, 125676002}</td>\n",
       "    </tr>\n",
       "    <tr>\n",
       "      <th>35147</th>\n",
       "      <td>condition_occurrence-condition_status_source_v...</td>\n",
       "      <td>{64572001, 260753009, C0449438, C0012634, C044...</td>\n",
       "      <td>{64572001, 125676002}</td>\n",
       "    </tr>\n",
       "    <tr>\n",
       "      <th>35236</th>\n",
       "      <td>location-location_id</td>\n",
       "      <td>{C0450429, 246267002}</td>\n",
       "      <td>{397635003, 246267002}</td>\n",
       "    </tr>\n",
       "  </tbody>\n",
       "</table>\n",
       "</div>"
      ]
     },
     "execution_count": 28,
     "metadata": {},
     "output_type": "execute_result"
    }
   ],
   "execution_count": 28
  },
  {
   "cell_type": "code",
   "id": "a23f654d-f067-40b3-9f89-a53d3e397840",
   "metadata": {
    "id": "a23f654d-f067-40b3-9f89-a53d3e397840",
    "outputId": "dafc80f5-1b2f-4804-f358-b417a593ed94",
    "ExecuteTime": {
     "end_time": "2025-06-11T13:37:45.075784Z",
     "start_time": "2025-06-11T13:37:45.028478Z"
    }
   },
   "source": [
    "import numpy as np\n",
    "\n",
    "# Lista dei tipi di annotazione\n",
    "tipi_di_annotazione = [\n",
    "    'BioportalDescrizioneCompleta',\n",
    "    'Medcat_SNOMED_Df_CS_1_ANC',\n",
    "    'Medcat_SNOMED_Df_Full_ANC'\n",
    "]\n",
    "\n",
    "# Lista per raccogliere i DataFrame elaborati\n",
    "df_list = []\n",
    "\n",
    "for tipo in tipi_di_annotazione:\n",
    "    X = df_results_per_type[tipo].copy()\n",
    "\n",
    "    # Calcoliamo l'intersezione\n",
    "    X['Intersezione'] = X.apply(lambda row: row['GS_sets'] & row['ANN_sets'], axis=1)\n",
    "\n",
    "    # Calcoliamo la Jaccard Similarity\n",
    "    X['Jaccard_Similarity'] = X.apply(\n",
    "        lambda row: len(row['Intersezione']) / len(row['GS_sets'] | row['ANN_sets']) if row['GS_sets'] | row['ANN_sets'] else np.nan,\n",
    "        axis=1\n",
    "    )\n",
    "\n",
    "    # Placeholder per il Weighted Overlap (sostituire con pesi reali se disponibili)\n",
    "    X['Weighted_Overlap'] = X['Jaccard_Similarity']  # Se non hai pesi, puoi usare Jaccard come proxy\n",
    "\n",
    "    # Calcoliamo Precision, Recall e F1-score\n",
    "    X['Precision'] = X.apply(\n",
    "        lambda row: len(row['Intersezione']) / len(row['ANN_sets']) if len(row['ANN_sets']) > 0 else np.nan,\n",
    "        axis=1\n",
    "    )\n",
    "\n",
    "    X['Recall'] = X.apply(\n",
    "        lambda row: len(row['Intersezione']) / len(row['GS_sets']) if len(row['GS_sets']) > 0 else np.nan,\n",
    "        axis=1\n",
    "    )\n",
    "\n",
    "    X['F1_score'] = X.apply(\n",
    "        lambda row: 2 * (row['Precision'] * row['Recall']) / (row['Precision'] + row['Recall'])\n",
    "        if (row['Precision'] + row['Recall']) > 0 else np.nan,\n",
    "        axis=1\n",
    "    )\n",
    "\n",
    "    # Aggiungiamo la colonna con il tipo di annotazione\n",
    "    X['TipoDiAnnotazione'] = tipo\n",
    "\n",
    "    # Aggiungiamo il DataFrame elaborato alla lista\n",
    "    df_list.append(X)\n",
    "\n",
    "# Concatenazione dei DataFrame in un unico DataFrame finale\n",
    "df_final = pd.concat(df_list, ignore_index=True)\n",
    "\n",
    "df_final.sort_values('F1_score', ascending=False).head(3)"
   ],
   "outputs": [
    {
     "data": {
      "text/plain": [
       "                               AttributoNomeCompleto  \\\n",
       "0                         person-person_source_value   \n",
       "6                         person-person_source_value   \n",
       "7  condition_occurrence-condition_status_source_v...   \n",
       "\n",
       "                                             GS_sets  \\\n",
       "0  {C0027361, 125676002, 260753009, C0449416, C15...   \n",
       "6  {C0027361, 125676002, 260753009, C0449416, C15...   \n",
       "7  {64572001, 260753009, C0449438, C0012634, C044...   \n",
       "\n",
       "                                      ANN_sets  \\\n",
       "0                       {260753009, 125676002}   \n",
       "6                       {260753009, 125676002}   \n",
       "7  {260753009, 263490005, 64572001, 125676002}   \n",
       "\n",
       "                       Intersezione  Jaccard_Similarity  Weighted_Overlap  \\\n",
       "0            {125676002, 260753009}               0.400             0.400   \n",
       "6            {125676002, 260753009}               0.400             0.400   \n",
       "7  {263490005, 64572001, 260753009}               0.375             0.375   \n",
       "\n",
       "   Precision    Recall  F1_score             TipoDiAnnotazione  \n",
       "0       1.00  0.400000  0.571429  BioportalDescrizioneCompleta  \n",
       "6       1.00  0.400000  0.571429     Medcat_SNOMED_Df_Full_ANC  \n",
       "7       0.75  0.428571  0.545455     Medcat_SNOMED_Df_Full_ANC  "
      ],
      "text/html": [
       "<div>\n",
       "<style scoped>\n",
       "    .dataframe tbody tr th:only-of-type {\n",
       "        vertical-align: middle;\n",
       "    }\n",
       "\n",
       "    .dataframe tbody tr th {\n",
       "        vertical-align: top;\n",
       "    }\n",
       "\n",
       "    .dataframe thead th {\n",
       "        text-align: right;\n",
       "    }\n",
       "</style>\n",
       "<table border=\"1\" class=\"dataframe\">\n",
       "  <thead>\n",
       "    <tr style=\"text-align: right;\">\n",
       "      <th></th>\n",
       "      <th>AttributoNomeCompleto</th>\n",
       "      <th>GS_sets</th>\n",
       "      <th>ANN_sets</th>\n",
       "      <th>Intersezione</th>\n",
       "      <th>Jaccard_Similarity</th>\n",
       "      <th>Weighted_Overlap</th>\n",
       "      <th>Precision</th>\n",
       "      <th>Recall</th>\n",
       "      <th>F1_score</th>\n",
       "      <th>TipoDiAnnotazione</th>\n",
       "    </tr>\n",
       "  </thead>\n",
       "  <tbody>\n",
       "    <tr>\n",
       "      <th>0</th>\n",
       "      <td>person-person_source_value</td>\n",
       "      <td>{C0027361, 125676002, 260753009, C0449416, C15...</td>\n",
       "      <td>{260753009, 125676002}</td>\n",
       "      <td>{125676002, 260753009}</td>\n",
       "      <td>0.400</td>\n",
       "      <td>0.400</td>\n",
       "      <td>1.00</td>\n",
       "      <td>0.400000</td>\n",
       "      <td>0.571429</td>\n",
       "      <td>BioportalDescrizioneCompleta</td>\n",
       "    </tr>\n",
       "    <tr>\n",
       "      <th>6</th>\n",
       "      <td>person-person_source_value</td>\n",
       "      <td>{C0027361, 125676002, 260753009, C0449416, C15...</td>\n",
       "      <td>{260753009, 125676002}</td>\n",
       "      <td>{125676002, 260753009}</td>\n",
       "      <td>0.400</td>\n",
       "      <td>0.400</td>\n",
       "      <td>1.00</td>\n",
       "      <td>0.400000</td>\n",
       "      <td>0.571429</td>\n",
       "      <td>Medcat_SNOMED_Df_Full_ANC</td>\n",
       "    </tr>\n",
       "    <tr>\n",
       "      <th>7</th>\n",
       "      <td>condition_occurrence-condition_status_source_v...</td>\n",
       "      <td>{64572001, 260753009, C0449438, C0012634, C044...</td>\n",
       "      <td>{260753009, 263490005, 64572001, 125676002}</td>\n",
       "      <td>{263490005, 64572001, 260753009}</td>\n",
       "      <td>0.375</td>\n",
       "      <td>0.375</td>\n",
       "      <td>0.75</td>\n",
       "      <td>0.428571</td>\n",
       "      <td>0.545455</td>\n",
       "      <td>Medcat_SNOMED_Df_Full_ANC</td>\n",
       "    </tr>\n",
       "  </tbody>\n",
       "</table>\n",
       "</div>"
      ]
     },
     "execution_count": 29,
     "metadata": {},
     "output_type": "execute_result"
    }
   ],
   "execution_count": 29
  },
  {
   "cell_type": "code",
   "id": "844e4542-6149-4c36-91f1-af84b7da115b",
   "metadata": {
    "id": "844e4542-6149-4c36-91f1-af84b7da115b",
    "outputId": "8e7aff30-eed5-40f3-d9a4-4dafb21d1e54",
    "ExecuteTime": {
     "end_time": "2025-06-11T13:37:49.911749Z",
     "start_time": "2025-06-11T13:37:49.847286Z"
    }
   },
   "source": [
    "\n",
    "# Selezioniamo i primi 5 attributi per ogni TipoDiAnnotazione ordinati per F1_score\n",
    "\n",
    "top_5_per_tipo = (\n",
    "    df_final.groupby('TipoDiAnnotazione')\n",
    "    .apply(lambda group: group.nlargest(5, 'F1_score')[df_final.columns])\n",
    "    .reset_index(drop=True)\n",
    ")\n",
    "\n",
    "# Visualizziamo il risultato\n",
    "top_5_per_tipo.sort_values('AttributoNomeCompleto')\n",
    "#"
   ],
   "outputs": [
    {
     "name": "stderr",
     "output_type": "stream",
     "text": [
      "C:\\Users\\gabry\\AppData\\Local\\Temp\\ipykernel_133268\\3442655723.py:5: DeprecationWarning: DataFrameGroupBy.apply operated on the grouping columns. This behavior is deprecated, and in a future version of pandas the grouping columns will be excluded from the operation. Either pass `include_groups=False` to exclude the groupings or explicitly select the grouping columns after groupby to silence this warning.\n",
      "  .apply(lambda group: group.nlargest(5, 'F1_score')[df_final.columns])\n"
     ]
    },
    {
     "data": {
      "text/plain": [
       "                               AttributoNomeCompleto  \\\n",
       "2  condition_occurrence-condition_status_source_v...   \n",
       "4  condition_occurrence-condition_status_source_v...   \n",
       "7  condition_occurrence-condition_status_source_v...   \n",
       "1                               location-location_id   \n",
       "3                               location-location_id   \n",
       "8                               location-location_id   \n",
       "0                         person-person_source_value   \n",
       "5                         person-person_source_value   \n",
       "6                         person-person_source_value   \n",
       "\n",
       "                                             GS_sets  \\\n",
       "2  {64572001, 260753009, C0449438, C0012634, C044...   \n",
       "4  {64572001, 260753009, C0449438, C0012634, C044...   \n",
       "7  {64572001, 260753009, C0449438, C0012634, C044...   \n",
       "1                              {C0450429, 246267002}   \n",
       "3                              {C0450429, 246267002}   \n",
       "8                              {C0450429, 246267002}   \n",
       "0  {C0027361, 125676002, 260753009, C0449416, C15...   \n",
       "5  {C0027361, 125676002, 260753009, C0449416, C15...   \n",
       "6  {C0027361, 125676002, 260753009, C0449416, C15...   \n",
       "\n",
       "                                      ANN_sets  \\\n",
       "2                        {64572001, 125676002}   \n",
       "4             {263490005, 64572001, 125676002}   \n",
       "7  {260753009, 263490005, 64572001, 125676002}   \n",
       "1                       {397635003, 246267002}   \n",
       "3                       {125676002, 246267002}   \n",
       "8            {125676002, 397635003, 246267002}   \n",
       "0                       {260753009, 125676002}   \n",
       "5                                  {125676002}   \n",
       "6                       {260753009, 125676002}   \n",
       "\n",
       "                       Intersezione  Jaccard_Similarity  Weighted_Overlap  \\\n",
       "2                        {64572001}            0.125000          0.125000   \n",
       "4             {263490005, 64572001}            0.250000          0.250000   \n",
       "7  {263490005, 64572001, 260753009}            0.375000          0.375000   \n",
       "1                       {246267002}            0.333333          0.333333   \n",
       "3                       {246267002}            0.333333          0.333333   \n",
       "8                       {246267002}            0.250000          0.250000   \n",
       "0            {125676002, 260753009}            0.400000          0.400000   \n",
       "5                       {125676002}            0.200000          0.200000   \n",
       "6            {125676002, 260753009}            0.400000          0.400000   \n",
       "\n",
       "   Precision    Recall  F1_score             TipoDiAnnotazione  \n",
       "2   0.500000  0.142857  0.222222  BioportalDescrizioneCompleta  \n",
       "4   0.666667  0.285714  0.400000     Medcat_SNOMED_Df_CS_1_ANC  \n",
       "7   0.750000  0.428571  0.545455     Medcat_SNOMED_Df_Full_ANC  \n",
       "1   0.500000  0.500000  0.500000  BioportalDescrizioneCompleta  \n",
       "3   0.500000  0.500000  0.500000     Medcat_SNOMED_Df_CS_1_ANC  \n",
       "8   0.333333  0.500000  0.400000     Medcat_SNOMED_Df_Full_ANC  \n",
       "0   1.000000  0.400000  0.571429  BioportalDescrizioneCompleta  \n",
       "5   1.000000  0.200000  0.333333     Medcat_SNOMED_Df_CS_1_ANC  \n",
       "6   1.000000  0.400000  0.571429     Medcat_SNOMED_Df_Full_ANC  "
      ],
      "text/html": [
       "<div>\n",
       "<style scoped>\n",
       "    .dataframe tbody tr th:only-of-type {\n",
       "        vertical-align: middle;\n",
       "    }\n",
       "\n",
       "    .dataframe tbody tr th {\n",
       "        vertical-align: top;\n",
       "    }\n",
       "\n",
       "    .dataframe thead th {\n",
       "        text-align: right;\n",
       "    }\n",
       "</style>\n",
       "<table border=\"1\" class=\"dataframe\">\n",
       "  <thead>\n",
       "    <tr style=\"text-align: right;\">\n",
       "      <th></th>\n",
       "      <th>AttributoNomeCompleto</th>\n",
       "      <th>GS_sets</th>\n",
       "      <th>ANN_sets</th>\n",
       "      <th>Intersezione</th>\n",
       "      <th>Jaccard_Similarity</th>\n",
       "      <th>Weighted_Overlap</th>\n",
       "      <th>Precision</th>\n",
       "      <th>Recall</th>\n",
       "      <th>F1_score</th>\n",
       "      <th>TipoDiAnnotazione</th>\n",
       "    </tr>\n",
       "  </thead>\n",
       "  <tbody>\n",
       "    <tr>\n",
       "      <th>2</th>\n",
       "      <td>condition_occurrence-condition_status_source_v...</td>\n",
       "      <td>{64572001, 260753009, C0449438, C0012634, C044...</td>\n",
       "      <td>{64572001, 125676002}</td>\n",
       "      <td>{64572001}</td>\n",
       "      <td>0.125000</td>\n",
       "      <td>0.125000</td>\n",
       "      <td>0.500000</td>\n",
       "      <td>0.142857</td>\n",
       "      <td>0.222222</td>\n",
       "      <td>BioportalDescrizioneCompleta</td>\n",
       "    </tr>\n",
       "    <tr>\n",
       "      <th>4</th>\n",
       "      <td>condition_occurrence-condition_status_source_v...</td>\n",
       "      <td>{64572001, 260753009, C0449438, C0012634, C044...</td>\n",
       "      <td>{263490005, 64572001, 125676002}</td>\n",
       "      <td>{263490005, 64572001}</td>\n",
       "      <td>0.250000</td>\n",
       "      <td>0.250000</td>\n",
       "      <td>0.666667</td>\n",
       "      <td>0.285714</td>\n",
       "      <td>0.400000</td>\n",
       "      <td>Medcat_SNOMED_Df_CS_1_ANC</td>\n",
       "    </tr>\n",
       "    <tr>\n",
       "      <th>7</th>\n",
       "      <td>condition_occurrence-condition_status_source_v...</td>\n",
       "      <td>{64572001, 260753009, C0449438, C0012634, C044...</td>\n",
       "      <td>{260753009, 263490005, 64572001, 125676002}</td>\n",
       "      <td>{263490005, 64572001, 260753009}</td>\n",
       "      <td>0.375000</td>\n",
       "      <td>0.375000</td>\n",
       "      <td>0.750000</td>\n",
       "      <td>0.428571</td>\n",
       "      <td>0.545455</td>\n",
       "      <td>Medcat_SNOMED_Df_Full_ANC</td>\n",
       "    </tr>\n",
       "    <tr>\n",
       "      <th>1</th>\n",
       "      <td>location-location_id</td>\n",
       "      <td>{C0450429, 246267002}</td>\n",
       "      <td>{397635003, 246267002}</td>\n",
       "      <td>{246267002}</td>\n",
       "      <td>0.333333</td>\n",
       "      <td>0.333333</td>\n",
       "      <td>0.500000</td>\n",
       "      <td>0.500000</td>\n",
       "      <td>0.500000</td>\n",
       "      <td>BioportalDescrizioneCompleta</td>\n",
       "    </tr>\n",
       "    <tr>\n",
       "      <th>3</th>\n",
       "      <td>location-location_id</td>\n",
       "      <td>{C0450429, 246267002}</td>\n",
       "      <td>{125676002, 246267002}</td>\n",
       "      <td>{246267002}</td>\n",
       "      <td>0.333333</td>\n",
       "      <td>0.333333</td>\n",
       "      <td>0.500000</td>\n",
       "      <td>0.500000</td>\n",
       "      <td>0.500000</td>\n",
       "      <td>Medcat_SNOMED_Df_CS_1_ANC</td>\n",
       "    </tr>\n",
       "    <tr>\n",
       "      <th>8</th>\n",
       "      <td>location-location_id</td>\n",
       "      <td>{C0450429, 246267002}</td>\n",
       "      <td>{125676002, 397635003, 246267002}</td>\n",
       "      <td>{246267002}</td>\n",
       "      <td>0.250000</td>\n",
       "      <td>0.250000</td>\n",
       "      <td>0.333333</td>\n",
       "      <td>0.500000</td>\n",
       "      <td>0.400000</td>\n",
       "      <td>Medcat_SNOMED_Df_Full_ANC</td>\n",
       "    </tr>\n",
       "    <tr>\n",
       "      <th>0</th>\n",
       "      <td>person-person_source_value</td>\n",
       "      <td>{C0027361, 125676002, 260753009, C0449416, C15...</td>\n",
       "      <td>{260753009, 125676002}</td>\n",
       "      <td>{125676002, 260753009}</td>\n",
       "      <td>0.400000</td>\n",
       "      <td>0.400000</td>\n",
       "      <td>1.000000</td>\n",
       "      <td>0.400000</td>\n",
       "      <td>0.571429</td>\n",
       "      <td>BioportalDescrizioneCompleta</td>\n",
       "    </tr>\n",
       "    <tr>\n",
       "      <th>5</th>\n",
       "      <td>person-person_source_value</td>\n",
       "      <td>{C0027361, 125676002, 260753009, C0449416, C15...</td>\n",
       "      <td>{125676002}</td>\n",
       "      <td>{125676002}</td>\n",
       "      <td>0.200000</td>\n",
       "      <td>0.200000</td>\n",
       "      <td>1.000000</td>\n",
       "      <td>0.200000</td>\n",
       "      <td>0.333333</td>\n",
       "      <td>Medcat_SNOMED_Df_CS_1_ANC</td>\n",
       "    </tr>\n",
       "    <tr>\n",
       "      <th>6</th>\n",
       "      <td>person-person_source_value</td>\n",
       "      <td>{C0027361, 125676002, 260753009, C0449416, C15...</td>\n",
       "      <td>{260753009, 125676002}</td>\n",
       "      <td>{125676002, 260753009}</td>\n",
       "      <td>0.400000</td>\n",
       "      <td>0.400000</td>\n",
       "      <td>1.000000</td>\n",
       "      <td>0.400000</td>\n",
       "      <td>0.571429</td>\n",
       "      <td>Medcat_SNOMED_Df_Full_ANC</td>\n",
       "    </tr>\n",
       "  </tbody>\n",
       "</table>\n",
       "</div>"
      ]
     },
     "execution_count": 30,
     "metadata": {},
     "output_type": "execute_result"
    }
   ],
   "execution_count": 30
  },
  {
   "cell_type": "code",
   "id": "76e4f637-213d-4031-8bd6-be37eff2f53d",
   "metadata": {
    "id": "76e4f637-213d-4031-8bd6-be37eff2f53d",
    "outputId": "c3063ad8-3998-4ad0-c138-9df47cb3ae93",
    "ExecuteTime": {
     "end_time": "2025-06-11T13:38:03.582703Z",
     "start_time": "2025-06-11T13:38:03.563558Z"
    }
   },
   "source": [
    "# Lista per raccogliere i risultati\n",
    "results = []\n",
    "\n",
    "# Iteriamo su ogni tipo di annotazione\n",
    "for tipo in df_final['TipoDiAnnotazione'].unique():\n",
    "    X = df_final[df_final['TipoDiAnnotazione'] == tipo]\n",
    "\n",
    "    # Aggregazione Macro-average\n",
    "    precision_macro = X['Precision'].mean()\n",
    "    recall_macro = X['Recall'].mean()\n",
    "    f1_macro = X['F1_score'].mean()\n",
    "\n",
    "    # Aggregazione Micro-average\n",
    "    total_tp = X['Intersezione'].apply(len).sum()\n",
    "    total_ann = X['ANN_sets'].apply(len).sum()\n",
    "    total_gs = X['GS_sets'].apply(len).sum()\n",
    "\n",
    "    precision_micro = total_tp / total_ann if total_ann > 0 else np.nan\n",
    "    recall_micro = total_tp / total_gs if total_gs > 0 else np.nan\n",
    "    f1_micro = (\n",
    "        2 * (precision_micro * recall_micro) / (precision_micro + recall_micro)\n",
    "        if (precision_micro + recall_micro) > 0 else np.nan\n",
    "    )\n",
    "\n",
    "    # Aggiungiamo i risultati alla lista\n",
    "    results.append([tipo, precision_macro, recall_macro, f1_macro, precision_micro, recall_micro, f1_micro])\n",
    "\n",
    "# Creiamo il DataFrame finale\n",
    "columns = ['TipoDiAnnotazione', 'Macro Precision', 'Macro Recall', 'Macro F1-score',\n",
    "           'Micro Precision', 'Micro Recall', 'Micro F1-score']\n",
    "df_metrics = pd.DataFrame(results, columns=columns)\n",
    "\n",
    "# Visualizziamo il risultato\n",
    "df_metrics"
   ],
   "outputs": [
    {
     "data": {
      "text/plain": [
       "              TipoDiAnnotazione  Macro Precision  Macro Recall  \\\n",
       "0  BioportalDescrizioneCompleta         0.666667      0.347619   \n",
       "1     Medcat_SNOMED_Df_CS_1_ANC         0.722222      0.328571   \n",
       "2     Medcat_SNOMED_Df_Full_ANC         0.694444      0.442857   \n",
       "\n",
       "   Macro F1-score  Micro Precision  Micro Recall  Micro F1-score  \n",
       "0        0.431217         0.666667      0.285714        0.400000  \n",
       "1        0.411111         0.666667      0.285714        0.400000  \n",
       "2        0.505628         0.666667      0.428571        0.521739  "
      ],
      "text/html": [
       "<div>\n",
       "<style scoped>\n",
       "    .dataframe tbody tr th:only-of-type {\n",
       "        vertical-align: middle;\n",
       "    }\n",
       "\n",
       "    .dataframe tbody tr th {\n",
       "        vertical-align: top;\n",
       "    }\n",
       "\n",
       "    .dataframe thead th {\n",
       "        text-align: right;\n",
       "    }\n",
       "</style>\n",
       "<table border=\"1\" class=\"dataframe\">\n",
       "  <thead>\n",
       "    <tr style=\"text-align: right;\">\n",
       "      <th></th>\n",
       "      <th>TipoDiAnnotazione</th>\n",
       "      <th>Macro Precision</th>\n",
       "      <th>Macro Recall</th>\n",
       "      <th>Macro F1-score</th>\n",
       "      <th>Micro Precision</th>\n",
       "      <th>Micro Recall</th>\n",
       "      <th>Micro F1-score</th>\n",
       "    </tr>\n",
       "  </thead>\n",
       "  <tbody>\n",
       "    <tr>\n",
       "      <th>0</th>\n",
       "      <td>BioportalDescrizioneCompleta</td>\n",
       "      <td>0.666667</td>\n",
       "      <td>0.347619</td>\n",
       "      <td>0.431217</td>\n",
       "      <td>0.666667</td>\n",
       "      <td>0.285714</td>\n",
       "      <td>0.400000</td>\n",
       "    </tr>\n",
       "    <tr>\n",
       "      <th>1</th>\n",
       "      <td>Medcat_SNOMED_Df_CS_1_ANC</td>\n",
       "      <td>0.722222</td>\n",
       "      <td>0.328571</td>\n",
       "      <td>0.411111</td>\n",
       "      <td>0.666667</td>\n",
       "      <td>0.285714</td>\n",
       "      <td>0.400000</td>\n",
       "    </tr>\n",
       "    <tr>\n",
       "      <th>2</th>\n",
       "      <td>Medcat_SNOMED_Df_Full_ANC</td>\n",
       "      <td>0.694444</td>\n",
       "      <td>0.442857</td>\n",
       "      <td>0.505628</td>\n",
       "      <td>0.666667</td>\n",
       "      <td>0.428571</td>\n",
       "      <td>0.521739</td>\n",
       "    </tr>\n",
       "  </tbody>\n",
       "</table>\n",
       "</div>"
      ]
     },
     "execution_count": 31,
     "metadata": {},
     "output_type": "execute_result"
    }
   ],
   "execution_count": 31
  },
  {
   "cell_type": "code",
   "id": "58930e7b-fcf6-4f7e-b1be-5fc06edc9b0c",
   "metadata": {
    "ExecuteTime": {
     "end_time": "2025-06-04T16:01:50.379958Z",
     "start_time": "2025-06-04T16:01:50.375589Z"
    },
    "id": "58930e7b-fcf6-4f7e-b1be-5fc06edc9b0c"
   },
   "source": [
    "# indicativamente sembrano significativi\n",
    "# la recall di MedCat Full è maggiore delle altre\n",
    "# la recall di 1 è inferiore perchè prendi pochi elementi\n",
    "# bioportal sembra avere valori confrontabili con MedCat full"
   ],
   "outputs": [],
   "execution_count": null
  },
  {
   "cell_type": "code",
   "execution_count": null,
   "id": "1614900b-1e91-473f-85da-1314eba3eb7f",
   "metadata": {
    "id": "1614900b-1e91-473f-85da-1314eba3eb7f"
   },
   "outputs": [],
   "source": []
  },
  {
   "cell_type": "code",
   "execution_count": null,
   "id": "0c794a5c-117b-4631-851e-8369ae976354",
   "metadata": {
    "id": "0c794a5c-117b-4631-851e-8369ae976354"
   },
   "outputs": [],
   "source": [
    "#"
   ]
  },
  {
   "cell_type": "markdown",
   "id": "d9ebecac-0eae-445a-9802-02c8f3546d41",
   "metadata": {
    "id": "d9ebecac-0eae-445a-9802-02c8f3546d41"
   },
   "source": [
    "\n",
    "\n",
    "###  Jaccard vs Precision/Recall/F1\n",
    "\n",
    "Finora abbiamo usato Precision/Recall/F1\n",
    "\n",
    "Se e a cosa serve la Jaccard\n",
    "\n",
    "\n",
    "- **Jaccard** misura la sovrapposizione generale tra due insiemi.  \n",
    "- **Precision, Recall e F1-score** valutano l’accuratezza dell’annotatore\n",
    "\n",
    "vediamo la correlazione\n",
    "\n",
    "**Caso in cui Recall = 1**\n",
    "\n",
    "Quando la Recall è 1, significa che ANN ha trovato tutti gli elementi di GS.  \n",
    "Quindi:\n",
    "$\n",
    "|GS \\cap ANN| = |GS|\n",
    "$\n",
    "\n",
    "Ma sappiamo anche che:\n",
    "$\n",
    "|GS \\cup ANN| = |GS| + |ANN| - |GS \\cap ANN|\n",
    "$\n",
    "\n",
    "Sostituendo \\( |GS \\cap ANN| = |GS| \\), otteniamo:\n",
    "$\n",
    "|GS \\cup ANN| = |GS| + |ANN| - |GS| = |ANN|\n",
    "$\n",
    "\n",
    "Quindi:\n",
    "$\n",
    "Jaccard = \\frac{|GS \\cap ANN|}{|GS \\cup ANN|} = \\frac{|GS|}{|ANN|} = Precision\n",
    "$\n",
    "\n",
    "Quindi, se \\( Recall = 1 \\), la **Jaccard Similarity** è uguale alla **Precision** perché ANN contiene tutto GS, e quindi l’unione \\( |GS \\cup ANN| \\) è semplicemente \\( |ANN| \\).  \n",
    "\n",
    "**Caso in cui Recall < 1**\n",
    "\n",
    "Quando **Recall è inferiore a 1**, significa che ANN ha perso alcuni elementi di GS.  \n",
    "Quindi \\( |GS \\cap ANN| < |GS| \\), e di conseguenza l’unione \\( |GS \\cup ANN| \\) aumenta:\n",
    "$\n",
    "|GS \\cup ANN| > |ANN|\n",
    "$\n",
    "Poiché il denominatore della **Jaccard** aumenta rispetto alla **Precision**, si ha che:\n",
    "$\n",
    "Jaccard < Precision\n",
    "$\n"
   ]
  },
  {
   "cell_type": "code",
   "execution_count": null,
   "id": "abfc6579-367f-427f-8e85-9f4ad068abc4",
   "metadata": {
    "id": "abfc6579-367f-427f-8e85-9f4ad068abc4"
   },
   "outputs": [],
   "source": []
  },
  {
   "cell_type": "code",
   "execution_count": null,
   "id": "7ea7edd2-6eaa-491b-b856-bc64fb33d48a",
   "metadata": {
    "id": "7ea7edd2-6eaa-491b-b856-bc64fb33d48a"
   },
   "outputs": [],
   "source": []
  },
  {
   "cell_type": "code",
   "execution_count": null,
   "id": "6ee6e50c-8dd8-4ec6-8284-001501ccac6e",
   "metadata": {
    "id": "6ee6e50c-8dd8-4ec6-8284-001501ccac6e"
   },
   "outputs": [],
   "source": []
  },
  {
   "cell_type": "code",
   "id": "f35510cd5da10dfc",
   "metadata": {
    "id": "f35510cd5da10dfc",
    "outputId": "68682cf3-3c23-4e31-ba0d-0ab096ee4112",
    "ExecuteTime": {
     "end_time": "2025-06-11T13:38:14.438001Z",
     "start_time": "2025-06-11T13:38:14.413973Z"
    }
   },
   "source": [
    "#dettagliare questa analisi rispetto alle diverse annotazioni --- QUESTO LO VERIFICHIAMO DOPO\n",
    "# Aggiungiamo un annotatore fittizio per GS\n",
    "GS['Annotator'] = 'Gold_Standard'\n",
    "\n",
    "# Cambiamo il nome della colonna 'source' in 'Provenienza'\n",
    "GS['Provenienza'] = 'GS'\n",
    "annotazioni['Provenienza'] = 'annotazioni'\n",
    "df_combined = pd.concat([GS, annotazioni])\n",
    "\n",
    "# Raggruppiamo per Ontology e Annotator\n",
    "ontology_annotator_counts = df_combined.groupby(['Ontologies', 'Annotator', 'Provenienza']).size().unstack(fill_value=0)\n",
    "\n",
    "# Rinominiamo le colonne\n",
    "ontology_annotator_counts.columns = ['Nleft', 'Nright']\n",
    "ontology_annotator_counts['Nboth'] = ontology_annotator_counts.min(axis=1)\n",
    "\n",
    "# Output finale\n",
    "print(ontology_annotator_counts)"
   ],
   "outputs": [
    {
     "name": "stdout",
     "output_type": "stream",
     "text": [
      "                          Nleft  Nright  Nboth\n",
      "Ontologies Annotator                          \n",
      "LOINC      Bioportal          0    7903      0\n",
      "SNOMED-CT  Bioportal          0    4791      0\n",
      "           Gold_Standard    127       0      0\n",
      "           MedCAT             0   15607      0\n",
      "UMLS       Gold_Standard    196       0      0\n",
      "           MedCAT             0    9801      0\n"
     ]
    }
   ],
   "execution_count": 32
  },
  {
   "cell_type": "code",
   "id": "068d48dd-d890-4705-95c7-e8cb8bfdd687",
   "metadata": {
    "id": "068d48dd-d890-4705-95c7-e8cb8bfdd687",
    "outputId": "0c703c1e-4338-4a93-82bb-100364a7664e",
    "ExecuteTime": {
     "end_time": "2025-06-08T15:13:20.042724Z",
     "start_time": "2025-06-08T15:13:20.035600Z"
    }
   },
   "source": [
    "GS.columns"
   ],
   "outputs": [
    {
     "data": {
      "text/plain": [
       "Index(['TipoDiAnnotazione', 'Ontologies', 'Source', 'AttributoNomeCompleto',\n",
       "       'EntityID', 'PrettyName', 'Cui', 'Annotator', 'Provenienza'],\n",
       "      dtype='object')"
      ]
     },
     "execution_count": 34,
     "metadata": {},
     "output_type": "execute_result"
    }
   ],
   "execution_count": 34
  },
  {
   "cell_type": "code",
   "execution_count": null,
   "id": "302753a2-bb98-4d8c-bd97-da10f9654bfa",
   "metadata": {
    "id": "302753a2-bb98-4d8c-bd97-da10f9654bfa"
   },
   "outputs": [],
   "source": []
  },
  {
   "cell_type": "markdown",
   "id": "85a147f005ad95ba",
   "metadata": {
    "id": "85a147f005ad95ba"
   },
   "source": [
    "# Valutazione della Qualità degli Annotatori"
   ]
  },
  {
   "cell_type": "markdown",
   "id": "e192a161d0778319",
   "metadata": {
    "id": "e192a161d0778319"
   },
   "source": [
    "## Metriche di valutazione"
   ]
  },
  {
   "cell_type": "code",
   "id": "90f9fdc865e71bf3",
   "metadata": {
    "id": "90f9fdc865e71bf3",
    "outputId": "dae3d649-3b54-4ff5-d575-fcdc55e06685",
    "ExecuteTime": {
     "end_time": "2025-06-11T13:38:19.777585Z",
     "start_time": "2025-06-11T13:38:19.762985Z"
    }
   },
   "source": [
    "def evaluate_annotation(gs_df, ann_df, column):\n",
    "\n",
    "    gs = set(gs_df[column].dropna())\n",
    "    ann = set(ann_df[column].dropna())\n",
    "\n",
    "    true_positives = len(gs & ann)  # Elementi corretti\n",
    "    precision = true_positives / len(ann) if len(ann) > 0 else 0\n",
    "    recall = true_positives / len(gs) if len(gs) > 0 else 0\n",
    "    f1_score = (2 * precision * recall) / (precision + recall) if (precision + recall) > 0 else 0\n",
    "\n",
    "    return {\n",
    "        \"Precision\": round(precision, 4),\n",
    "        \"Recall\": round(recall, 4),\n",
    "        \"F1-score\": round(f1_score, 4)\n",
    "    }\n",
    "\n",
    "# Esempio di utilizzo\n",
    "\n",
    "\n",
    "metrics = evaluate_annotation(GS, annotazioni, \"AttributoNomeCompleto\")\n",
    "print(metrics)"
   ],
   "outputs": [
    {
     "name": "stdout",
     "output_type": "stream",
     "text": [
      "{'Precision': 0.0576, 'Recall': 0.5541, 'F1-score': 0.1043}\n"
     ]
    }
   ],
   "execution_count": 33
  },
  {
   "metadata": {
    "id": "5b4a145c683b4d9",
    "ExecuteTime": {
     "end_time": "2025-06-11T13:38:28.865793Z",
     "start_time": "2025-06-11T13:38:28.856215Z"
    }
   },
   "cell_type": "code",
   "source": [
    "def evaluate_macro_micro(gs_df, ann_df, columns):\n",
    "    import pandas as pd\n",
    "\n",
    "    def normalize(val):\n",
    "        # converte stringhe separate da virgola in set di valori puliti e lowercase\n",
    "        if pd.isna(val):\n",
    "            return set()\n",
    "        return set(v.strip().lower() for v in str(val).split(\",\") if v.strip())\n",
    "\n",
    "    macro_precisions = []\n",
    "    macro_recalls = []\n",
    "    macro_f1s = []\n",
    "\n",
    "    micro_tp = 0\n",
    "    micro_ann_total = 0\n",
    "    micro_gs_total = 0\n",
    "\n",
    "    for col in columns:\n",
    "        col_tp = 0\n",
    "        col_ann_total = 0\n",
    "        col_gs_total = 0\n",
    "\n",
    "        for i in range(len(gs_df)):\n",
    "            gs = normalize(gs_df.iloc[i][col])\n",
    "            ann = normalize(ann_df.iloc[i][col])\n",
    "\n",
    "            tp = len(gs & ann)\n",
    "            ann_total = len(ann)\n",
    "            gs_total = len(gs)\n",
    "\n",
    "            col_tp += tp\n",
    "            col_ann_total += ann_total\n",
    "            col_gs_total += gs_total\n",
    "\n",
    "        # Precision, recall, f1 per attributo (colonna)\n",
    "        precision = col_tp / col_ann_total if col_ann_total > 0 else 0\n",
    "        recall = col_tp / col_gs_total if col_gs_total > 0 else 0\n",
    "        f1 = 2 * precision * recall / (precision + recall) if (precision + recall) > 0 else 0\n",
    "\n",
    "        macro_precisions.append(precision)\n",
    "        macro_recalls.append(recall)\n",
    "        macro_f1s.append(f1)\n",
    "\n",
    "        # accumulo per micro\n",
    "        micro_tp += col_tp\n",
    "        micro_ann_total += col_ann_total\n",
    "        micro_gs_total += col_gs_total\n",
    "\n",
    "    # Macro-average (media semplice sulle colonne)\n",
    "    precision_macro = sum(macro_precisions) / len(columns) if columns else 0\n",
    "    recall_macro = sum(macro_recalls) / len(columns) if columns else 0\n",
    "    f1_macro = sum(macro_f1s) / len(columns) if columns else 0\n",
    "\n",
    "    # Micro-average (totale veri positivi su totale annotazioni e ground truth)\n",
    "    precision_micro = micro_tp / micro_ann_total if micro_ann_total > 0 else 0\n",
    "    recall_micro = micro_tp / micro_gs_total if micro_gs_total > 0 else 0\n",
    "    f1_micro = 2 * precision_micro * recall_micro / (precision_micro + recall_micro) if (precision_micro + recall_micro) > 0 else 0\n",
    "\n",
    "    return {\n",
    "        \"Macro Precision\": round(precision_macro, 4),\n",
    "        \"Macro Recall\": round(recall_macro, 4),\n",
    "        \"Macro F1-score\": round(f1_macro, 4),\n",
    "        \"Micro Precision\": round(precision_micro, 4),\n",
    "        \"Micro Recall\": round(recall_micro, 4),\n",
    "        \"Micro F1-score\": round(f1_micro, 4)\n",
    "    }\n",
    "\n",
    "\n"
   ],
   "id": "5b4a145c683b4d9",
   "outputs": [],
   "execution_count": 34
  },
  {
   "cell_type": "markdown",
   "id": "0fb9b0cf-46b3-456c-8fcb-5d361bcac1df",
   "metadata": {
    "ExecuteTime": {
     "end_time": "2025-06-04T16:16:09.242226Z",
     "start_time": "2025-06-04T16:16:09.233484Z"
    },
    "id": "0fb9b0cf-46b3-456c-8fcb-5d361bcac1df"
   },
   "source": [
    "# DOMANDA\n",
    "\n",
    "però in questo modo confronto tutti gli elementi del gs  con tutti gli elementi dell'annotazioni,\n",
    "*indipendentemente dagli attributi ai quali sono associati*\n",
    "\n",
    "vediamo cosa succede con i tre attributi di sopra"
   ]
  },
  {
   "cell_type": "code",
   "id": "3673b35a-df35-4242-abc1-f6a7f3ba122a",
   "metadata": {
    "id": "3673b35a-df35-4242-abc1-f6a7f3ba122a",
    "ExecuteTime": {
     "end_time": "2025-06-11T13:51:06.697579Z",
     "start_time": "2025-06-11T13:51:06.690522Z"
    }
   },
   "source": [
    "GS_filtered=GS[GS['AttributoNomeCompleto'].isin(['person-person_source_value',\n",
    "'condition_occurrence-condition_status_source_value','location-location_id',\n",
    "                                                         # 'person-location_id', 'location-county'\n",
    "                                                         ])]\n",
    "\n",
    "annotazioni_filtered=annotazioni[annotazioni['AttributoNomeCompleto'].isin(['person-person_source_value',\n",
    "'condition_occurrence-condition_status_source_value','location-location_id',\n",
    "                                                         # 'person-location_id', 'location-county'\n",
    "                                                         ])]"
   ],
   "outputs": [],
   "execution_count": 46
  },
  {
   "cell_type": "code",
   "id": "bebefda1-9d45-4161-bd9b-a2a4f2f755c2",
   "metadata": {
    "id": "bebefda1-9d45-4161-bd9b-a2a4f2f755c2",
    "outputId": "4c9c2f72-1dd0-4d0b-f6f6-dfa8a4400d63",
    "ExecuteTime": {
     "end_time": "2025-06-11T13:51:08.638103Z",
     "start_time": "2025-06-11T13:51:08.630542Z"
    }
   },
   "source": [
    "evaluate_annotation(GS_filtered, annotazioni_filtered, \"AttributoNomeCompleto\")"
   ],
   "outputs": [
    {
     "data": {
      "text/plain": [
       "{'Precision': 1.0, 'Recall': 1.0, 'F1-score': 1.0}"
      ]
     },
     "execution_count": 47,
     "metadata": {},
     "output_type": "execute_result"
    }
   ],
   "execution_count": 47
  },
  {
   "metadata": {
    "id": "8c87f27fdde56e37",
    "outputId": "abd086be-91be-4bb1-de9a-96c2392c4c5b",
    "ExecuteTime": {
     "end_time": "2025-06-11T13:51:10.169491Z",
     "start_time": "2025-06-11T13:51:10.161993Z"
    }
   },
   "cell_type": "code",
   "source": [
    "evaluate_macro_micro(GS_filtered, annotazioni_filtered, [\"AttributoNomeCompleto\"])"
   ],
   "id": "8c87f27fdde56e37",
   "outputs": [
    {
     "data": {
      "text/plain": [
       "{'Macro Precision': 0.1875,\n",
       " 'Macro Recall': 0.1875,\n",
       " 'Macro F1-score': 0.1875,\n",
       " 'Micro Precision': 0.1875,\n",
       " 'Micro Recall': 0.1875,\n",
       " 'Micro F1-score': 0.1875}"
      ]
     },
     "execution_count": 48,
     "metadata": {},
     "output_type": "execute_result"
    }
   ],
   "execution_count": 48
  },
  {
   "cell_type": "markdown",
   "id": "b6520dc9-191d-42dc-ab6f-b1dd760cf54b",
   "metadata": {
    "ExecuteTime": {
     "end_time": "2025-06-04T16:02:14.002663Z",
     "start_time": "2025-06-04T16:02:13.994529Z"
    },
    "id": "b6520dc9-191d-42dc-ab6f-b1dd760cf54b"
   },
   "source": [
    "non tengo conto del confronto attributo per attributo (oltre al fatto di considerare tutti assieme tutti i tipi di annotazione)\n",
    "quindi del fatto che che ad ogni attributo il GS associa un certo insieme di attributi e un tipo di annotazione un altro\n",
    "come appunto in questo esempio di riferimento (ricordo che era riferito ad un particolare TipoDiAnnotazione)\n",
    "\n",
    "![immagine.png](attachment:65ceaf74-adf2-4cef-b576-ecb2cb011822.png)\n",
    "\n"
   ]
  },
  {
   "cell_type": "markdown",
   "id": "3e9dc98f-b7ba-4dd9-b699-3470a12936e8",
   "metadata": {
    "ExecuteTime": {
     "end_time": "2025-06-04T16:16:14.118477Z",
     "start_time": "2025-06-04T16:16:13.883054Z"
    },
    "id": "3e9dc98f-b7ba-4dd9-b699-3470a12936e8"
   },
   "source": [
    "prova a rivedere tutto il discorso fatto fin qui, poi si prosegue con il resto\n",
    "\n",
    "\n",
    "un'altra prova che si potrebbe fare: fare l'unione (o l'intersezione) delle annotazioni prodotte dai vari tipi di annotazione\n",
    "e verificare come cambiano i risultati"
   ]
  },
  {
   "metadata": {
    "id": "771c31d6c9e2bad4"
   },
   "cell_type": "markdown",
   "source": [
    "### UNIONE E INTERSEZIONE TRA DATABASE MEDCAT E BIOPORTAL"
   ],
   "id": "771c31d6c9e2bad4"
  },
  {
   "metadata": {
    "id": "a5450213ce5add2a",
    "outputId": "963978b2-01a4-4d30-d662-62178e5925a0",
    "ExecuteTime": {
     "end_time": "2025-06-11T13:51:12.667299Z",
     "start_time": "2025-06-11T13:51:12.661264Z"
    }
   },
   "cell_type": "code",
   "source": [
    "annotazioni.columns"
   ],
   "id": "a5450213ce5add2a",
   "outputs": [
    {
     "data": {
      "text/plain": [
       "Index(['TipoDiAnnotazione', 'Ontologies', 'Source', 'AttributoNomeCompleto',\n",
       "       'EntityID', 'PrettyName', 'Cui', 'Annotator', 'Provenienza'],\n",
       "      dtype='object')"
      ]
     },
     "execution_count": 49,
     "metadata": {},
     "output_type": "execute_result"
    }
   ],
   "execution_count": 49
  },
  {
   "cell_type": "code",
   "id": "71e51516-2f7a-4c93-8597-37f505660f97",
   "metadata": {
    "id": "71e51516-2f7a-4c93-8597-37f505660f97",
    "ExecuteTime": {
     "end_time": "2025-06-11T13:51:19.919292Z",
     "start_time": "2025-06-11T13:51:19.909069Z"
    }
   },
   "source": [
    "def filtra_annotazioni(df, Sistema):\n",
    "    # Mappatura colonne\n",
    "    col_A = 'AttributoNomeCompleto'\n",
    "    col_VOC = 'Ontologies'\n",
    "    col_C = 'Cui'\n",
    "    col_i = 'EntityID'\n",
    "    col_SISTEMA = 'Annotator'\n",
    "\n",
    "    # Normalizza annotator in maiuscolo per confronto\n",
    "    df = df.copy()\n",
    "    df[col_SISTEMA] = df[col_SISTEMA].str.upper()\n",
    "\n",
    "    if Sistema == 'M':\n",
    "        return df[df[col_SISTEMA] == 'MEDCAT'].copy()\n",
    "\n",
    "    elif Sistema == 'B':\n",
    "        return df[df[col_SISTEMA] == 'BIOPORTAL'].copy()\n",
    "\n",
    "    elif Sistema == 'B_AND_M':\n",
    "        medcat_triples = set(df[df[col_SISTEMA] == 'MEDCAT'][[col_A, col_VOC, col_C]].apply(tuple, axis=1))\n",
    "        bioportal_triples = set(df[df[col_SISTEMA] == 'BIOPORTAL'][[col_A, col_VOC, col_C]].apply(tuple, axis=1))\n",
    "        comuni = medcat_triples & bioportal_triples\n",
    "\n",
    "        df_comuni = df[df.apply(lambda row: (row[col_A], row[col_VOC], row[col_C]) in comuni, axis=1)].copy()\n",
    "        df_comuni[col_SISTEMA] = 'MEDCAT_AND_BIOPORTAL'\n",
    "        return df_comuni\n",
    "\n",
    "    elif Sistema == 'B_OR_M':\n",
    "        medcat = df[df[col_SISTEMA] == 'MEDCAT']\n",
    "        bioportal = df[df[col_SISTEMA] == 'BIOPORTAL']\n",
    "\n",
    "        medcat_triples = set(medcat[[col_A, col_VOC, col_C]].apply(tuple, axis=1))\n",
    "        bioportal_triples = set(bioportal[[col_A, col_VOC, col_C]].apply(tuple, axis=1))\n",
    "        comuni = medcat_triples & bioportal_triples\n",
    "\n",
    "        comuni_df = df[df.apply(\n",
    "            lambda row: (row[col_A], row[col_VOC], row[col_C]) in comuni and row[col_SISTEMA] in ['MEDCAT', 'BIOPORTAL'],\n",
    "            axis=1\n",
    "        )]\n",
    "\n",
    "        nuovi = comuni_df.copy()\n",
    "        nuovi[col_SISTEMA] = 'BIOPORTAL_OR_MEDCAT'\n",
    "\n",
    "        df_filtrato = df[~df.apply(\n",
    "            lambda row: (row[col_A], row[col_VOC], row[col_C]) in comuni and row[col_SISTEMA] in ['MEDCAT', 'BIOPORTAL'],\n",
    "            axis=1\n",
    "        )]\n",
    "\n",
    "        df_finale = pd.concat([df_filtrato, nuovi], ignore_index=True).sort_values(by=[col_A, col_i]).reset_index(drop=True)\n",
    "        return df_finale\n",
    "\n",
    "    else:\n",
    "        raise ValueError(\"Parametro Sistema non valido. Usa 'M', 'B', 'B_AND_M' o 'B_OR_M'.\")\n"
   ],
   "outputs": [],
   "execution_count": 51
  },
  {
   "metadata": {},
   "cell_type": "markdown",
   "source": "## 11 giugno",
   "id": "c33a8d9c6abe020e"
  },
  {
   "metadata": {
    "ExecuteTime": {
     "end_time": "2025-06-11T13:51:23.227296Z",
     "start_time": "2025-06-11T13:51:23.221675Z"
    }
   },
   "cell_type": "code",
   "source": [
    "def get_Annotazioni(FissaTipoAnnotazione, FissaOntologia,\n",
    "                    ANN_set, GS_set):\n",
    "\n",
    "    # Filtro annotazioni per tipo e ontologia\n",
    "    ANN_set_Fixed = ANN_set[\n",
    "        ANN_set.TipoDiAnnotazione.str.startswith(FissaTipoAnnotazione) &\n",
    "        (ANN_set.Ontologies == FissaOntologia)\n",
    "    ]\n",
    "\n",
    "    # Filtro gold standard per ontologia\n",
    "    GS_set_Fixed = GS_set[\n",
    "        GS_set.Ontologies == FissaOntologia\n",
    "    ]\n",
    "\n",
    "    # Full outer join\n",
    "    merged = pd.merge(\n",
    "        GS_set_Fixed[['Ontologies', 'AttributoNomeCompleto', 'GS']],\n",
    "        ANN_set_Fixed[['Ontologies', 'AttributoNomeCompleto', 'TipoDiAnnotazione', 'ANN']],\n",
    "        on=['Ontologies', 'AttributoNomeCompleto'],\n",
    "        how='outer'\n",
    "    )\n",
    "\n",
    "    # Rinomina le colonne\n",
    "    merged = merged.rename(columns={\n",
    "        'GS': 'GS_set',\n",
    "        'ANN': 'ANN_set'\n",
    "    })\n",
    "\n",
    "    # Riordina le colonne\n",
    "    merged = merged[['TipoDiAnnotazione', 'Ontologies', 'AttributoNomeCompleto', 'GS_set', 'ANN_set']]\n",
    "\n",
    "    return merged\n"
   ],
   "id": "ad585b39e1299f6b",
   "outputs": [],
   "execution_count": 52
  },
  {
   "metadata": {
    "ExecuteTime": {
     "end_time": "2025-06-11T14:10:28.121194Z",
     "start_time": "2025-06-11T14:10:28.092227Z"
    }
   },
   "cell_type": "code",
   "source": [
    "medcat=get_Annotazioni('Medcat_SNOMED',\n",
    "                'SNOMED-CT',\n",
    "                ANN_set,\n",
    "                GS_set)\n",
    "medcat.drop(columns='GS_set')"
   ],
   "id": "72a774c2787f658b",
   "outputs": [
    {
     "data": {
      "text/plain": [
       "              TipoDiAnnotazione Ontologies  \\\n",
       "0    Medcat_SNOMED_Df_CS_08_ANC  SNOMED-CT   \n",
       "1     Medcat_SNOMED_Df_CS_1_ANC  SNOMED-CT   \n",
       "2     Medcat_SNOMED_Df_Full_ANC  SNOMED-CT   \n",
       "3    Medcat_SNOMED_Df_CS_08_ANC  SNOMED-CT   \n",
       "4     Medcat_SNOMED_Df_CS_1_ANC  SNOMED-CT   \n",
       "..                          ...        ...   \n",
       "118   Medcat_SNOMED_Df_CS_1_ANC  SNOMED-CT   \n",
       "119   Medcat_SNOMED_Df_Full_ANC  SNOMED-CT   \n",
       "120  Medcat_SNOMED_Df_CS_08_ANC  SNOMED-CT   \n",
       "121   Medcat_SNOMED_Df_CS_1_ANC  SNOMED-CT   \n",
       "122   Medcat_SNOMED_Df_Full_ANC  SNOMED-CT   \n",
       "\n",
       "                         AttributoNomeCompleto  \\\n",
       "0    condition_occurrence-condition_concept_id   \n",
       "1    condition_occurrence-condition_concept_id   \n",
       "2    condition_occurrence-condition_concept_id   \n",
       "3      condition_occurrence-condition_end_date   \n",
       "4      condition_occurrence-condition_end_date   \n",
       "..                                         ...   \n",
       "118                   person-race_source_value   \n",
       "119                   person-race_source_value   \n",
       "120                       person-year_of_birth   \n",
       "121                       person-year_of_birth   \n",
       "122                       person-year_of_birth   \n",
       "\n",
       "                               ANN_set  \n",
       "0                {64572001, 125676002}  \n",
       "1                {64572001, 125676002}  \n",
       "2                {64572001, 125676002}  \n",
       "3                {64572001, 125676002}  \n",
       "4                {64572001, 125676002}  \n",
       "..                                 ...  \n",
       "118                        {125676002}  \n",
       "119             {260753009, 125676002}  \n",
       "120  {260753009, 184099003, 125676002}  \n",
       "121             {184099003, 125676002}  \n",
       "122  {260753009, 184099003, 125676002}  \n",
       "\n",
       "[123 rows x 4 columns]"
      ],
      "text/html": [
       "<div>\n",
       "<style scoped>\n",
       "    .dataframe tbody tr th:only-of-type {\n",
       "        vertical-align: middle;\n",
       "    }\n",
       "\n",
       "    .dataframe tbody tr th {\n",
       "        vertical-align: top;\n",
       "    }\n",
       "\n",
       "    .dataframe thead th {\n",
       "        text-align: right;\n",
       "    }\n",
       "</style>\n",
       "<table border=\"1\" class=\"dataframe\">\n",
       "  <thead>\n",
       "    <tr style=\"text-align: right;\">\n",
       "      <th></th>\n",
       "      <th>TipoDiAnnotazione</th>\n",
       "      <th>Ontologies</th>\n",
       "      <th>AttributoNomeCompleto</th>\n",
       "      <th>ANN_set</th>\n",
       "    </tr>\n",
       "  </thead>\n",
       "  <tbody>\n",
       "    <tr>\n",
       "      <th>0</th>\n",
       "      <td>Medcat_SNOMED_Df_CS_08_ANC</td>\n",
       "      <td>SNOMED-CT</td>\n",
       "      <td>condition_occurrence-condition_concept_id</td>\n",
       "      <td>{64572001, 125676002}</td>\n",
       "    </tr>\n",
       "    <tr>\n",
       "      <th>1</th>\n",
       "      <td>Medcat_SNOMED_Df_CS_1_ANC</td>\n",
       "      <td>SNOMED-CT</td>\n",
       "      <td>condition_occurrence-condition_concept_id</td>\n",
       "      <td>{64572001, 125676002}</td>\n",
       "    </tr>\n",
       "    <tr>\n",
       "      <th>2</th>\n",
       "      <td>Medcat_SNOMED_Df_Full_ANC</td>\n",
       "      <td>SNOMED-CT</td>\n",
       "      <td>condition_occurrence-condition_concept_id</td>\n",
       "      <td>{64572001, 125676002}</td>\n",
       "    </tr>\n",
       "    <tr>\n",
       "      <th>3</th>\n",
       "      <td>Medcat_SNOMED_Df_CS_08_ANC</td>\n",
       "      <td>SNOMED-CT</td>\n",
       "      <td>condition_occurrence-condition_end_date</td>\n",
       "      <td>{64572001, 125676002}</td>\n",
       "    </tr>\n",
       "    <tr>\n",
       "      <th>4</th>\n",
       "      <td>Medcat_SNOMED_Df_CS_1_ANC</td>\n",
       "      <td>SNOMED-CT</td>\n",
       "      <td>condition_occurrence-condition_end_date</td>\n",
       "      <td>{64572001, 125676002}</td>\n",
       "    </tr>\n",
       "    <tr>\n",
       "      <th>...</th>\n",
       "      <td>...</td>\n",
       "      <td>...</td>\n",
       "      <td>...</td>\n",
       "      <td>...</td>\n",
       "    </tr>\n",
       "    <tr>\n",
       "      <th>118</th>\n",
       "      <td>Medcat_SNOMED_Df_CS_1_ANC</td>\n",
       "      <td>SNOMED-CT</td>\n",
       "      <td>person-race_source_value</td>\n",
       "      <td>{125676002}</td>\n",
       "    </tr>\n",
       "    <tr>\n",
       "      <th>119</th>\n",
       "      <td>Medcat_SNOMED_Df_Full_ANC</td>\n",
       "      <td>SNOMED-CT</td>\n",
       "      <td>person-race_source_value</td>\n",
       "      <td>{260753009, 125676002}</td>\n",
       "    </tr>\n",
       "    <tr>\n",
       "      <th>120</th>\n",
       "      <td>Medcat_SNOMED_Df_CS_08_ANC</td>\n",
       "      <td>SNOMED-CT</td>\n",
       "      <td>person-year_of_birth</td>\n",
       "      <td>{260753009, 184099003, 125676002}</td>\n",
       "    </tr>\n",
       "    <tr>\n",
       "      <th>121</th>\n",
       "      <td>Medcat_SNOMED_Df_CS_1_ANC</td>\n",
       "      <td>SNOMED-CT</td>\n",
       "      <td>person-year_of_birth</td>\n",
       "      <td>{184099003, 125676002}</td>\n",
       "    </tr>\n",
       "    <tr>\n",
       "      <th>122</th>\n",
       "      <td>Medcat_SNOMED_Df_Full_ANC</td>\n",
       "      <td>SNOMED-CT</td>\n",
       "      <td>person-year_of_birth</td>\n",
       "      <td>{260753009, 184099003, 125676002}</td>\n",
       "    </tr>\n",
       "  </tbody>\n",
       "</table>\n",
       "<p>123 rows × 4 columns</p>\n",
       "</div>"
      ]
     },
     "execution_count": 100,
     "metadata": {},
     "output_type": "execute_result"
    }
   ],
   "execution_count": 100
  },
  {
   "metadata": {
    "ExecuteTime": {
     "end_time": "2025-06-11T14:10:25.989822Z",
     "start_time": "2025-06-11T14:10:25.967627Z"
    }
   },
   "cell_type": "code",
   "source": [
    "Bioportal =get_Annotazioni('Bioportal',\n",
    "                'SNOMED-CT',\n",
    "                ANN_set,\n",
    "                GS_set)\n",
    "Bioportal.drop(columns='GS_set')"
   ],
   "id": "5e6af4917a9f2452",
   "outputs": [
    {
     "data": {
      "text/plain": [
       "                  TipoDiAnnotazione Ontologies  \\\n",
       "0    BioportalAttributoNomeCompleto  SNOMED-CT   \n",
       "1      BioportalDescrizioneCompleta  SNOMED-CT   \n",
       "2                BioportalAttributo  SNOMED-CT   \n",
       "3    BioportalAttributoNomeCompleto  SNOMED-CT   \n",
       "4     BioportalDescrizioneAttributo  SNOMED-CT   \n",
       "..                              ...        ...   \n",
       "137   BioportalDescrizioneAttributo  SNOMED-CT   \n",
       "138    BioportalDescrizioneCompleta  SNOMED-CT   \n",
       "139  BioportalAttributoNomeCompleto  SNOMED-CT   \n",
       "140   BioportalDescrizioneAttributo  SNOMED-CT   \n",
       "141    BioportalDescrizioneCompleta  SNOMED-CT   \n",
       "\n",
       "                         AttributoNomeCompleto  \\\n",
       "0    condition_occurrence-condition_concept_id   \n",
       "1    condition_occurrence-condition_concept_id   \n",
       "2      condition_occurrence-condition_end_date   \n",
       "3      condition_occurrence-condition_end_date   \n",
       "4      condition_occurrence-condition_end_date   \n",
       "..                                         ...   \n",
       "137                   person-race_source_value   \n",
       "138                   person-race_source_value   \n",
       "139                       person-year_of_birth   \n",
       "140                       person-year_of_birth   \n",
       "141                       person-year_of_birth   \n",
       "\n",
       "                               ANN_set  \n",
       "0                          {246454002}  \n",
       "1                {64572001, 125676002}  \n",
       "2                          {410671006}  \n",
       "3               {246454002, 410671006}  \n",
       "4                          {410671006}  \n",
       "..                                 ...  \n",
       "137             {125676002, 260753009}  \n",
       "138             {260753009, 125676002}  \n",
       "139                        {125676002}  \n",
       "140  {410671006, 184099003, 125676002}  \n",
       "141             {260753009, 125676002}  \n",
       "\n",
       "[142 rows x 4 columns]"
      ],
      "text/html": [
       "<div>\n",
       "<style scoped>\n",
       "    .dataframe tbody tr th:only-of-type {\n",
       "        vertical-align: middle;\n",
       "    }\n",
       "\n",
       "    .dataframe tbody tr th {\n",
       "        vertical-align: top;\n",
       "    }\n",
       "\n",
       "    .dataframe thead th {\n",
       "        text-align: right;\n",
       "    }\n",
       "</style>\n",
       "<table border=\"1\" class=\"dataframe\">\n",
       "  <thead>\n",
       "    <tr style=\"text-align: right;\">\n",
       "      <th></th>\n",
       "      <th>TipoDiAnnotazione</th>\n",
       "      <th>Ontologies</th>\n",
       "      <th>AttributoNomeCompleto</th>\n",
       "      <th>ANN_set</th>\n",
       "    </tr>\n",
       "  </thead>\n",
       "  <tbody>\n",
       "    <tr>\n",
       "      <th>0</th>\n",
       "      <td>BioportalAttributoNomeCompleto</td>\n",
       "      <td>SNOMED-CT</td>\n",
       "      <td>condition_occurrence-condition_concept_id</td>\n",
       "      <td>{246454002}</td>\n",
       "    </tr>\n",
       "    <tr>\n",
       "      <th>1</th>\n",
       "      <td>BioportalDescrizioneCompleta</td>\n",
       "      <td>SNOMED-CT</td>\n",
       "      <td>condition_occurrence-condition_concept_id</td>\n",
       "      <td>{64572001, 125676002}</td>\n",
       "    </tr>\n",
       "    <tr>\n",
       "      <th>2</th>\n",
       "      <td>BioportalAttributo</td>\n",
       "      <td>SNOMED-CT</td>\n",
       "      <td>condition_occurrence-condition_end_date</td>\n",
       "      <td>{410671006}</td>\n",
       "    </tr>\n",
       "    <tr>\n",
       "      <th>3</th>\n",
       "      <td>BioportalAttributoNomeCompleto</td>\n",
       "      <td>SNOMED-CT</td>\n",
       "      <td>condition_occurrence-condition_end_date</td>\n",
       "      <td>{246454002, 410671006}</td>\n",
       "    </tr>\n",
       "    <tr>\n",
       "      <th>4</th>\n",
       "      <td>BioportalDescrizioneAttributo</td>\n",
       "      <td>SNOMED-CT</td>\n",
       "      <td>condition_occurrence-condition_end_date</td>\n",
       "      <td>{410671006}</td>\n",
       "    </tr>\n",
       "    <tr>\n",
       "      <th>...</th>\n",
       "      <td>...</td>\n",
       "      <td>...</td>\n",
       "      <td>...</td>\n",
       "      <td>...</td>\n",
       "    </tr>\n",
       "    <tr>\n",
       "      <th>137</th>\n",
       "      <td>BioportalDescrizioneAttributo</td>\n",
       "      <td>SNOMED-CT</td>\n",
       "      <td>person-race_source_value</td>\n",
       "      <td>{125676002, 260753009}</td>\n",
       "    </tr>\n",
       "    <tr>\n",
       "      <th>138</th>\n",
       "      <td>BioportalDescrizioneCompleta</td>\n",
       "      <td>SNOMED-CT</td>\n",
       "      <td>person-race_source_value</td>\n",
       "      <td>{260753009, 125676002}</td>\n",
       "    </tr>\n",
       "    <tr>\n",
       "      <th>139</th>\n",
       "      <td>BioportalAttributoNomeCompleto</td>\n",
       "      <td>SNOMED-CT</td>\n",
       "      <td>person-year_of_birth</td>\n",
       "      <td>{125676002}</td>\n",
       "    </tr>\n",
       "    <tr>\n",
       "      <th>140</th>\n",
       "      <td>BioportalDescrizioneAttributo</td>\n",
       "      <td>SNOMED-CT</td>\n",
       "      <td>person-year_of_birth</td>\n",
       "      <td>{410671006, 184099003, 125676002}</td>\n",
       "    </tr>\n",
       "    <tr>\n",
       "      <th>141</th>\n",
       "      <td>BioportalDescrizioneCompleta</td>\n",
       "      <td>SNOMED-CT</td>\n",
       "      <td>person-year_of_birth</td>\n",
       "      <td>{260753009, 125676002}</td>\n",
       "    </tr>\n",
       "  </tbody>\n",
       "</table>\n",
       "<p>142 rows × 4 columns</p>\n",
       "</div>"
      ]
     },
     "execution_count": 99,
     "metadata": {},
     "output_type": "execute_result"
    }
   ],
   "execution_count": 99
  },
  {
   "metadata": {
    "ExecuteTime": {
     "end_time": "2025-06-11T14:11:29.816539Z",
     "start_time": "2025-06-11T14:11:29.803139Z"
    }
   },
   "cell_type": "code",
   "source": [
    "unione = (pd.concat([medcat, Bioportal]).drop(columns='GS_set'))\n",
    "unione.head(5)"
   ],
   "id": "2600ca855febc13b",
   "outputs": [
    {
     "data": {
      "text/plain": [
       "            TipoDiAnnotazione Ontologies  \\\n",
       "0  Medcat_SNOMED_Df_CS_08_ANC  SNOMED-CT   \n",
       "1   Medcat_SNOMED_Df_CS_1_ANC  SNOMED-CT   \n",
       "2   Medcat_SNOMED_Df_Full_ANC  SNOMED-CT   \n",
       "3  Medcat_SNOMED_Df_CS_08_ANC  SNOMED-CT   \n",
       "4   Medcat_SNOMED_Df_CS_1_ANC  SNOMED-CT   \n",
       "\n",
       "                       AttributoNomeCompleto                ANN_set  \n",
       "0  condition_occurrence-condition_concept_id  {64572001, 125676002}  \n",
       "1  condition_occurrence-condition_concept_id  {64572001, 125676002}  \n",
       "2  condition_occurrence-condition_concept_id  {64572001, 125676002}  \n",
       "3    condition_occurrence-condition_end_date  {64572001, 125676002}  \n",
       "4    condition_occurrence-condition_end_date  {64572001, 125676002}  "
      ],
      "text/html": [
       "<div>\n",
       "<style scoped>\n",
       "    .dataframe tbody tr th:only-of-type {\n",
       "        vertical-align: middle;\n",
       "    }\n",
       "\n",
       "    .dataframe tbody tr th {\n",
       "        vertical-align: top;\n",
       "    }\n",
       "\n",
       "    .dataframe thead th {\n",
       "        text-align: right;\n",
       "    }\n",
       "</style>\n",
       "<table border=\"1\" class=\"dataframe\">\n",
       "  <thead>\n",
       "    <tr style=\"text-align: right;\">\n",
       "      <th></th>\n",
       "      <th>TipoDiAnnotazione</th>\n",
       "      <th>Ontologies</th>\n",
       "      <th>AttributoNomeCompleto</th>\n",
       "      <th>ANN_set</th>\n",
       "    </tr>\n",
       "  </thead>\n",
       "  <tbody>\n",
       "    <tr>\n",
       "      <th>0</th>\n",
       "      <td>Medcat_SNOMED_Df_CS_08_ANC</td>\n",
       "      <td>SNOMED-CT</td>\n",
       "      <td>condition_occurrence-condition_concept_id</td>\n",
       "      <td>{64572001, 125676002}</td>\n",
       "    </tr>\n",
       "    <tr>\n",
       "      <th>1</th>\n",
       "      <td>Medcat_SNOMED_Df_CS_1_ANC</td>\n",
       "      <td>SNOMED-CT</td>\n",
       "      <td>condition_occurrence-condition_concept_id</td>\n",
       "      <td>{64572001, 125676002}</td>\n",
       "    </tr>\n",
       "    <tr>\n",
       "      <th>2</th>\n",
       "      <td>Medcat_SNOMED_Df_Full_ANC</td>\n",
       "      <td>SNOMED-CT</td>\n",
       "      <td>condition_occurrence-condition_concept_id</td>\n",
       "      <td>{64572001, 125676002}</td>\n",
       "    </tr>\n",
       "    <tr>\n",
       "      <th>3</th>\n",
       "      <td>Medcat_SNOMED_Df_CS_08_ANC</td>\n",
       "      <td>SNOMED-CT</td>\n",
       "      <td>condition_occurrence-condition_end_date</td>\n",
       "      <td>{64572001, 125676002}</td>\n",
       "    </tr>\n",
       "    <tr>\n",
       "      <th>4</th>\n",
       "      <td>Medcat_SNOMED_Df_CS_1_ANC</td>\n",
       "      <td>SNOMED-CT</td>\n",
       "      <td>condition_occurrence-condition_end_date</td>\n",
       "      <td>{64572001, 125676002}</td>\n",
       "    </tr>\n",
       "  </tbody>\n",
       "</table>\n",
       "</div>"
      ]
     },
     "execution_count": 104,
     "metadata": {},
     "output_type": "execute_result"
    }
   ],
   "execution_count": 104
  },
  {
   "metadata": {
    "ExecuteTime": {
     "end_time": "2025-06-11T14:11:33.291998Z",
     "start_time": "2025-06-11T14:11:33.285188Z"
    }
   },
   "cell_type": "code",
   "source": "evaluate_annotation(GS_set, unione, 'AttributoNomeCompleto')",
   "id": "d793cbb9a3e8ac41",
   "outputs": [
    {
     "data": {
      "text/plain": [
       "{'Precision': 0.9024, 'Recall': 1.0, 'F1-score': 0.9487}"
      ]
     },
     "execution_count": 105,
     "metadata": {},
     "output_type": "execute_result"
    }
   ],
   "execution_count": 105
  },
  {
   "metadata": {
    "ExecuteTime": {
     "end_time": "2025-06-11T14:11:35.480722Z",
     "start_time": "2025-06-11T14:11:35.468550Z"
    }
   },
   "cell_type": "code",
   "source": "evaluate_macro_micro(GS_set, unione, ['AttributoNomeCompleto'])",
   "id": "856a175d4f64d498",
   "outputs": [
    {
     "data": {
      "text/plain": [
       "{'Macro Precision': 0.0429,\n",
       " 'Macro Recall': 0.0429,\n",
       " 'Macro F1-score': 0.0429,\n",
       " 'Micro Precision': 0.0429,\n",
       " 'Micro Recall': 0.0429,\n",
       " 'Micro F1-score': 0.0429}"
      ]
     },
     "execution_count": 106,
     "metadata": {},
     "output_type": "execute_result"
    }
   ],
   "execution_count": 106
  },
  {
   "metadata": {
    "ExecuteTime": {
     "end_time": "2025-06-11T14:14:33.560618Z",
     "start_time": "2025-06-11T14:14:33.535966Z"
    }
   },
   "cell_type": "code",
   "source": "evaluate_macro_micro(GS_set, unione, ['TipoDiAnnotazione', 'Ontologies', 'AttributoNomeCompleto'])",
   "id": "d3137a653e04efa8",
   "outputs": [
    {
     "data": {
      "text/plain": [
       "{'Macro Precision': 0.1714,\n",
       " 'Macro Recall': 0.1714,\n",
       " 'Macro F1-score': 0.1714,\n",
       " 'Micro Precision': 0.1714,\n",
       " 'Micro Recall': 0.1714,\n",
       " 'Micro F1-score': 0.1714}"
      ]
     },
     "execution_count": 119,
     "metadata": {},
     "output_type": "execute_result"
    }
   ],
   "execution_count": 119
  },
  {
   "cell_type": "code",
   "id": "2d1505a2-68f9-4364-ad48-a87ec439b52d",
   "metadata": {
    "id": "2d1505a2-68f9-4364-ad48-a87ec439b52d",
    "outputId": "2afefec9-1c39-4050-b948-309330ad4cdb",
    "ExecuteTime": {
     "end_time": "2025-06-11T14:12:25.252203Z",
     "start_time": "2025-06-11T14:12:25.232792Z"
    }
   },
   "source": [
    "intersezione = pd.merge(medcat,Bioportal, on=['AttributoNomeCompleto']).drop(columns=['GS_set_x','GS_set_y'])\n",
    "intersezione.head(5)"
   ],
   "outputs": [
    {
     "data": {
      "text/plain": [
       "          TipoDiAnnotazione_x Ontologies_x  \\\n",
       "0  Medcat_SNOMED_Df_CS_08_ANC    SNOMED-CT   \n",
       "1  Medcat_SNOMED_Df_CS_08_ANC    SNOMED-CT   \n",
       "2   Medcat_SNOMED_Df_CS_1_ANC    SNOMED-CT   \n",
       "3   Medcat_SNOMED_Df_CS_1_ANC    SNOMED-CT   \n",
       "4   Medcat_SNOMED_Df_Full_ANC    SNOMED-CT   \n",
       "\n",
       "                       AttributoNomeCompleto              ANN_set_x  \\\n",
       "0  condition_occurrence-condition_concept_id  {64572001, 125676002}   \n",
       "1  condition_occurrence-condition_concept_id  {64572001, 125676002}   \n",
       "2  condition_occurrence-condition_concept_id  {64572001, 125676002}   \n",
       "3  condition_occurrence-condition_concept_id  {64572001, 125676002}   \n",
       "4  condition_occurrence-condition_concept_id  {64572001, 125676002}   \n",
       "\n",
       "              TipoDiAnnotazione_y Ontologies_y              ANN_set_y  \n",
       "0  BioportalAttributoNomeCompleto    SNOMED-CT            {246454002}  \n",
       "1    BioportalDescrizioneCompleta    SNOMED-CT  {64572001, 125676002}  \n",
       "2  BioportalAttributoNomeCompleto    SNOMED-CT            {246454002}  \n",
       "3    BioportalDescrizioneCompleta    SNOMED-CT  {64572001, 125676002}  \n",
       "4  BioportalAttributoNomeCompleto    SNOMED-CT            {246454002}  "
      ],
      "text/html": [
       "<div>\n",
       "<style scoped>\n",
       "    .dataframe tbody tr th:only-of-type {\n",
       "        vertical-align: middle;\n",
       "    }\n",
       "\n",
       "    .dataframe tbody tr th {\n",
       "        vertical-align: top;\n",
       "    }\n",
       "\n",
       "    .dataframe thead th {\n",
       "        text-align: right;\n",
       "    }\n",
       "</style>\n",
       "<table border=\"1\" class=\"dataframe\">\n",
       "  <thead>\n",
       "    <tr style=\"text-align: right;\">\n",
       "      <th></th>\n",
       "      <th>TipoDiAnnotazione_x</th>\n",
       "      <th>Ontologies_x</th>\n",
       "      <th>AttributoNomeCompleto</th>\n",
       "      <th>ANN_set_x</th>\n",
       "      <th>TipoDiAnnotazione_y</th>\n",
       "      <th>Ontologies_y</th>\n",
       "      <th>ANN_set_y</th>\n",
       "    </tr>\n",
       "  </thead>\n",
       "  <tbody>\n",
       "    <tr>\n",
       "      <th>0</th>\n",
       "      <td>Medcat_SNOMED_Df_CS_08_ANC</td>\n",
       "      <td>SNOMED-CT</td>\n",
       "      <td>condition_occurrence-condition_concept_id</td>\n",
       "      <td>{64572001, 125676002}</td>\n",
       "      <td>BioportalAttributoNomeCompleto</td>\n",
       "      <td>SNOMED-CT</td>\n",
       "      <td>{246454002}</td>\n",
       "    </tr>\n",
       "    <tr>\n",
       "      <th>1</th>\n",
       "      <td>Medcat_SNOMED_Df_CS_08_ANC</td>\n",
       "      <td>SNOMED-CT</td>\n",
       "      <td>condition_occurrence-condition_concept_id</td>\n",
       "      <td>{64572001, 125676002}</td>\n",
       "      <td>BioportalDescrizioneCompleta</td>\n",
       "      <td>SNOMED-CT</td>\n",
       "      <td>{64572001, 125676002}</td>\n",
       "    </tr>\n",
       "    <tr>\n",
       "      <th>2</th>\n",
       "      <td>Medcat_SNOMED_Df_CS_1_ANC</td>\n",
       "      <td>SNOMED-CT</td>\n",
       "      <td>condition_occurrence-condition_concept_id</td>\n",
       "      <td>{64572001, 125676002}</td>\n",
       "      <td>BioportalAttributoNomeCompleto</td>\n",
       "      <td>SNOMED-CT</td>\n",
       "      <td>{246454002}</td>\n",
       "    </tr>\n",
       "    <tr>\n",
       "      <th>3</th>\n",
       "      <td>Medcat_SNOMED_Df_CS_1_ANC</td>\n",
       "      <td>SNOMED-CT</td>\n",
       "      <td>condition_occurrence-condition_concept_id</td>\n",
       "      <td>{64572001, 125676002}</td>\n",
       "      <td>BioportalDescrizioneCompleta</td>\n",
       "      <td>SNOMED-CT</td>\n",
       "      <td>{64572001, 125676002}</td>\n",
       "    </tr>\n",
       "    <tr>\n",
       "      <th>4</th>\n",
       "      <td>Medcat_SNOMED_Df_Full_ANC</td>\n",
       "      <td>SNOMED-CT</td>\n",
       "      <td>condition_occurrence-condition_concept_id</td>\n",
       "      <td>{64572001, 125676002}</td>\n",
       "      <td>BioportalAttributoNomeCompleto</td>\n",
       "      <td>SNOMED-CT</td>\n",
       "      <td>{246454002}</td>\n",
       "    </tr>\n",
       "  </tbody>\n",
       "</table>\n",
       "</div>"
      ]
     },
     "execution_count": 108,
     "metadata": {},
     "output_type": "execute_result"
    }
   ],
   "execution_count": 108
  },
  {
   "metadata": {
    "id": "a33a88f30a14cdf0",
    "outputId": "97d22c7f-f26a-461a-e3ab-23637e374477",
    "ExecuteTime": {
     "end_time": "2025-06-11T14:12:30.000709Z",
     "start_time": "2025-06-11T14:12:29.994662Z"
    }
   },
   "cell_type": "code",
   "source": "evaluate_annotation(GS_set, intersezione, 'AttributoNomeCompleto')",
   "id": "a33a88f30a14cdf0",
   "outputs": [
    {
     "data": {
      "text/plain": [
       "{'Precision': 0.9024, 'Recall': 1.0, 'F1-score': 0.9487}"
      ]
     },
     "execution_count": 109,
     "metadata": {},
     "output_type": "execute_result"
    }
   ],
   "execution_count": 109
  },
  {
   "metadata": {
    "id": "e6bcba353fa278d4",
    "outputId": "2eee8234-25a6-4ee5-ede5-eceba37cfd27",
    "ExecuteTime": {
     "end_time": "2025-06-11T14:13:16.246089Z",
     "start_time": "2025-06-11T14:13:16.232493Z"
    }
   },
   "cell_type": "code",
   "source": "evaluate_macro_micro(GS_set, intersezione, ['AttributoNomeCompleto'])",
   "id": "e6bcba353fa278d4",
   "outputs": [
    {
     "data": {
      "text/plain": [
       "{'Macro Precision': 0.0286,\n",
       " 'Macro Recall': 0.0286,\n",
       " 'Macro F1-score': 0.0286,\n",
       " 'Micro Precision': 0.0286,\n",
       " 'Micro Recall': 0.0286,\n",
       " 'Micro F1-score': 0.0286}"
      ]
     },
     "execution_count": 115,
     "metadata": {},
     "output_type": "execute_result"
    }
   ],
   "execution_count": 115
  },
  {
   "metadata": {},
   "cell_type": "markdown",
   "source": "## fine 11 giugno",
   "id": "68007910cdab3125"
  },
  {
   "metadata": {
    "ExecuteTime": {
     "end_time": "2025-06-11T14:15:13.805922Z",
     "start_time": "2025-06-11T14:15:13.800259Z"
    }
   },
   "cell_type": "code",
   "source": "intersezione.columns",
   "id": "938925d1d88a51e1",
   "outputs": [
    {
     "data": {
      "text/plain": [
       "Index(['TipoDiAnnotazione_x', 'Ontologies_x', 'AttributoNomeCompleto',\n",
       "       'ANN_set_x', 'TipoDiAnnotazione_y', 'Ontologies_y', 'ANN_set_y'],\n",
       "      dtype='object')"
      ]
     },
     "execution_count": 122,
     "metadata": {},
     "output_type": "execute_result"
    }
   ],
   "execution_count": 122
  },
  {
   "metadata": {
    "id": "3d53f2f98eb084fe",
    "outputId": "c75b4bd1-21c6-4800-ea4c-a855000e0355",
    "ExecuteTime": {
     "end_time": "2025-06-11T14:15:26.784904Z",
     "start_time": "2025-06-11T14:15:26.710007Z"
    }
   },
   "cell_type": "code",
   "source": "evaluate_macro_micro(GS_set, intersezione)",
   "id": "3d53f2f98eb084fe",
   "outputs": [
    {
     "ename": "KeyError",
     "evalue": "'TipoDiAnnotazione_x'",
     "output_type": "error",
     "traceback": [
      "\u001B[1;31m---------------------------------------------------------------------------\u001B[0m",
      "\u001B[1;31mKeyError\u001B[0m                                  Traceback (most recent call last)",
      "File \u001B[1;32m~\\PycharmProjects\\Tirocinio\\.venv\\Lib\\site-packages\\pandas\\core\\indexes\\base.py:3805\u001B[0m, in \u001B[0;36mIndex.get_loc\u001B[1;34m(self, key)\u001B[0m\n\u001B[0;32m   3804\u001B[0m \u001B[38;5;28;01mtry\u001B[39;00m:\n\u001B[1;32m-> 3805\u001B[0m     \u001B[38;5;28;01mreturn\u001B[39;00m \u001B[38;5;28;43mself\u001B[39;49m\u001B[38;5;241;43m.\u001B[39;49m\u001B[43m_engine\u001B[49m\u001B[38;5;241;43m.\u001B[39;49m\u001B[43mget_loc\u001B[49m\u001B[43m(\u001B[49m\u001B[43mcasted_key\u001B[49m\u001B[43m)\u001B[49m\n\u001B[0;32m   3806\u001B[0m \u001B[38;5;28;01mexcept\u001B[39;00m \u001B[38;5;167;01mKeyError\u001B[39;00m \u001B[38;5;28;01mas\u001B[39;00m err:\n",
      "File \u001B[1;32mindex.pyx:167\u001B[0m, in \u001B[0;36mpandas._libs.index.IndexEngine.get_loc\u001B[1;34m()\u001B[0m\n",
      "File \u001B[1;32mindex.pyx:196\u001B[0m, in \u001B[0;36mpandas._libs.index.IndexEngine.get_loc\u001B[1;34m()\u001B[0m\n",
      "File \u001B[1;32mpandas\\\\_libs\\\\hashtable_class_helper.pxi:7081\u001B[0m, in \u001B[0;36mpandas._libs.hashtable.PyObjectHashTable.get_item\u001B[1;34m()\u001B[0m\n",
      "File \u001B[1;32mpandas\\\\_libs\\\\hashtable_class_helper.pxi:7089\u001B[0m, in \u001B[0;36mpandas._libs.hashtable.PyObjectHashTable.get_item\u001B[1;34m()\u001B[0m\n",
      "\u001B[1;31mKeyError\u001B[0m: 'TipoDiAnnotazione_x'",
      "\nThe above exception was the direct cause of the following exception:\n",
      "\u001B[1;31mKeyError\u001B[0m                                  Traceback (most recent call last)",
      "Cell \u001B[1;32mIn[123], line 1\u001B[0m\n\u001B[1;32m----> 1\u001B[0m \u001B[43mevaluate_macro_micro\u001B[49m\u001B[43m(\u001B[49m\u001B[43mGS_set\u001B[49m\u001B[43m,\u001B[49m\u001B[43m \u001B[49m\u001B[43mintersezione\u001B[49m\u001B[43m,\u001B[49m\u001B[43m \u001B[49m\u001B[43mintersezione\u001B[49m\u001B[38;5;241;43m.\u001B[39;49m\u001B[43mcolumns\u001B[49m\u001B[43m)\u001B[49m\n",
      "Cell \u001B[1;32mIn[34], line 24\u001B[0m, in \u001B[0;36mevaluate_macro_micro\u001B[1;34m(gs_df, ann_df, columns)\u001B[0m\n\u001B[0;32m     21\u001B[0m col_gs_total \u001B[38;5;241m=\u001B[39m \u001B[38;5;241m0\u001B[39m\n\u001B[0;32m     23\u001B[0m \u001B[38;5;28;01mfor\u001B[39;00m i \u001B[38;5;129;01min\u001B[39;00m \u001B[38;5;28mrange\u001B[39m(\u001B[38;5;28mlen\u001B[39m(gs_df)):\n\u001B[1;32m---> 24\u001B[0m     gs \u001B[38;5;241m=\u001B[39m normalize(\u001B[43mgs_df\u001B[49m\u001B[38;5;241;43m.\u001B[39;49m\u001B[43miloc\u001B[49m\u001B[43m[\u001B[49m\u001B[43mi\u001B[49m\u001B[43m]\u001B[49m\u001B[43m[\u001B[49m\u001B[43mcol\u001B[49m\u001B[43m]\u001B[49m)\n\u001B[0;32m     25\u001B[0m     ann \u001B[38;5;241m=\u001B[39m normalize(ann_df\u001B[38;5;241m.\u001B[39miloc[i][col])\n\u001B[0;32m     27\u001B[0m     tp \u001B[38;5;241m=\u001B[39m \u001B[38;5;28mlen\u001B[39m(gs \u001B[38;5;241m&\u001B[39m ann)\n",
      "File \u001B[1;32m~\\PycharmProjects\\Tirocinio\\.venv\\Lib\\site-packages\\pandas\\core\\series.py:1121\u001B[0m, in \u001B[0;36mSeries.__getitem__\u001B[1;34m(self, key)\u001B[0m\n\u001B[0;32m   1118\u001B[0m     \u001B[38;5;28;01mreturn\u001B[39;00m \u001B[38;5;28mself\u001B[39m\u001B[38;5;241m.\u001B[39m_values[key]\n\u001B[0;32m   1120\u001B[0m \u001B[38;5;28;01melif\u001B[39;00m key_is_scalar:\n\u001B[1;32m-> 1121\u001B[0m     \u001B[38;5;28;01mreturn\u001B[39;00m \u001B[38;5;28;43mself\u001B[39;49m\u001B[38;5;241;43m.\u001B[39;49m\u001B[43m_get_value\u001B[49m\u001B[43m(\u001B[49m\u001B[43mkey\u001B[49m\u001B[43m)\u001B[49m\n\u001B[0;32m   1123\u001B[0m \u001B[38;5;66;03m# Convert generator to list before going through hashable part\u001B[39;00m\n\u001B[0;32m   1124\u001B[0m \u001B[38;5;66;03m# (We will iterate through the generator there to check for slices)\u001B[39;00m\n\u001B[0;32m   1125\u001B[0m \u001B[38;5;28;01mif\u001B[39;00m is_iterator(key):\n",
      "File \u001B[1;32m~\\PycharmProjects\\Tirocinio\\.venv\\Lib\\site-packages\\pandas\\core\\series.py:1237\u001B[0m, in \u001B[0;36mSeries._get_value\u001B[1;34m(self, label, takeable)\u001B[0m\n\u001B[0;32m   1234\u001B[0m     \u001B[38;5;28;01mreturn\u001B[39;00m \u001B[38;5;28mself\u001B[39m\u001B[38;5;241m.\u001B[39m_values[label]\n\u001B[0;32m   1236\u001B[0m \u001B[38;5;66;03m# Similar to Index.get_value, but we do not fall back to positional\u001B[39;00m\n\u001B[1;32m-> 1237\u001B[0m loc \u001B[38;5;241m=\u001B[39m \u001B[38;5;28;43mself\u001B[39;49m\u001B[38;5;241;43m.\u001B[39;49m\u001B[43mindex\u001B[49m\u001B[38;5;241;43m.\u001B[39;49m\u001B[43mget_loc\u001B[49m\u001B[43m(\u001B[49m\u001B[43mlabel\u001B[49m\u001B[43m)\u001B[49m\n\u001B[0;32m   1239\u001B[0m \u001B[38;5;28;01mif\u001B[39;00m is_integer(loc):\n\u001B[0;32m   1240\u001B[0m     \u001B[38;5;28;01mreturn\u001B[39;00m \u001B[38;5;28mself\u001B[39m\u001B[38;5;241m.\u001B[39m_values[loc]\n",
      "File \u001B[1;32m~\\PycharmProjects\\Tirocinio\\.venv\\Lib\\site-packages\\pandas\\core\\indexes\\base.py:3812\u001B[0m, in \u001B[0;36mIndex.get_loc\u001B[1;34m(self, key)\u001B[0m\n\u001B[0;32m   3807\u001B[0m     \u001B[38;5;28;01mif\u001B[39;00m \u001B[38;5;28misinstance\u001B[39m(casted_key, \u001B[38;5;28mslice\u001B[39m) \u001B[38;5;129;01mor\u001B[39;00m (\n\u001B[0;32m   3808\u001B[0m         \u001B[38;5;28misinstance\u001B[39m(casted_key, abc\u001B[38;5;241m.\u001B[39mIterable)\n\u001B[0;32m   3809\u001B[0m         \u001B[38;5;129;01mand\u001B[39;00m \u001B[38;5;28many\u001B[39m(\u001B[38;5;28misinstance\u001B[39m(x, \u001B[38;5;28mslice\u001B[39m) \u001B[38;5;28;01mfor\u001B[39;00m x \u001B[38;5;129;01min\u001B[39;00m casted_key)\n\u001B[0;32m   3810\u001B[0m     ):\n\u001B[0;32m   3811\u001B[0m         \u001B[38;5;28;01mraise\u001B[39;00m InvalidIndexError(key)\n\u001B[1;32m-> 3812\u001B[0m     \u001B[38;5;28;01mraise\u001B[39;00m \u001B[38;5;167;01mKeyError\u001B[39;00m(key) \u001B[38;5;28;01mfrom\u001B[39;00m \u001B[38;5;21;01merr\u001B[39;00m\n\u001B[0;32m   3813\u001B[0m \u001B[38;5;28;01mexcept\u001B[39;00m \u001B[38;5;167;01mTypeError\u001B[39;00m:\n\u001B[0;32m   3814\u001B[0m     \u001B[38;5;66;03m# If we have a listlike key, _check_indexing_error will raise\u001B[39;00m\n\u001B[0;32m   3815\u001B[0m     \u001B[38;5;66;03m#  InvalidIndexError. Otherwise we fall through and re-raise\u001B[39;00m\n\u001B[0;32m   3816\u001B[0m     \u001B[38;5;66;03m#  the TypeError.\u001B[39;00m\n\u001B[0;32m   3817\u001B[0m     \u001B[38;5;28mself\u001B[39m\u001B[38;5;241m.\u001B[39m_check_indexing_error(key)\n",
      "\u001B[1;31mKeyError\u001B[0m: 'TipoDiAnnotazione_x'"
     ]
    }
   ],
   "execution_count": 123
  },
  {
   "metadata": {
    "ExecuteTime": {
     "end_time": "2025-06-04T16:44:09.834888Z",
     "start_time": "2025-06-04T16:44:09.826520Z"
    },
    "id": "66330b758f0b719a",
    "outputId": "c64aecf3-a238-4323-91d2-dc21b771fae6"
   },
   "cell_type": "code",
   "source": [
    "evaluate_annotation(GS, unione, 'AttributoNomeCompleto')"
   ],
   "id": "66330b758f0b719a",
   "outputs": [
    {
     "data": {
      "text/plain": [
       "{'Precision': 0.1536, 'Recall': 0.5541, 'F1-score': 0.2405}"
      ]
     },
     "execution_count": 61,
     "metadata": {},
     "output_type": "execute_result"
    }
   ],
   "execution_count": null
  },
  {
   "metadata": {
    "ExecuteTime": {
     "end_time": "2025-06-04T16:44:10.859132Z",
     "start_time": "2025-06-04T16:44:10.806407Z"
    },
    "id": "8a17a5e649aaaf40",
    "outputId": "5fd70c7c-635d-4e58-b9c0-2722564acc87"
   },
   "cell_type": "code",
   "source": [
    "evaluate_macro_micro(GS, unione, ['AttributoNomeCompleto'])"
   ],
   "id": "8a17a5e649aaaf40",
   "outputs": [
    {
     "data": {
      "text/plain": [
       "{'Macro Precision': 0.0,\n",
       " 'Macro Recall': 0.0,\n",
       " 'Macro F1-score': 0.0,\n",
       " 'Micro Precision': 0.0,\n",
       " 'Micro Recall': 0.0,\n",
       " 'Micro F1-score': 0}"
      ]
     },
     "execution_count": 62,
     "metadata": {},
     "output_type": "execute_result"
    }
   ],
   "execution_count": null
  },
  {
   "metadata": {
    "ExecuteTime": {
     "end_time": "2025-06-04T16:48:36.106965Z",
     "start_time": "2025-06-04T16:48:35.500729Z"
    },
    "id": "1c68ff4a933e944f",
    "outputId": "02dd5d38-3ac5-4b6d-a85d-216fed7c32d5"
   },
   "cell_type": "code",
   "source": [
    "evaluate_macro_micro(GS, unione, ['TipoDiAnnotazione', 'Ontologies', 'Source', 'AttributoNomeCompleto',\n",
    "       'EntityID', 'PrettyName', 'Cui', 'Annotator', 'Provenienza'])"
   ],
   "id": "1c68ff4a933e944f",
   "outputs": [
    {
     "data": {
      "text/plain": [
       "{'Macro Precision': 0.1629,\n",
       " 'Macro Recall': 0.1631,\n",
       " 'Macro F1-score': 0.163,\n",
       " 'Micro Precision': 0.1618,\n",
       " 'Micro Recall': 0.1631,\n",
       " 'Micro F1-score': 0.1624}"
      ]
     },
     "execution_count": 75,
     "metadata": {},
     "output_type": "execute_result"
    }
   ],
   "execution_count": null
  },
  {
   "metadata": {
    "id": "757315be00025b85"
   },
   "cell_type": "markdown",
   "source": [
    "analizzando le due valutazioni, si riscontra come ci sia un aumento della precision e dell' f1 score e recall uguale"
   ],
   "id": "757315be00025b85"
  },
  {
   "metadata": {
    "ExecuteTime": {
     "end_time": "2025-06-04T16:44:14.982544Z",
     "start_time": "2025-06-04T16:44:12.583431Z"
    },
    "id": "451be6a6773acca5",
    "outputId": "4e65f299-11a8-4c0d-cbfb-804d4bc7ccf6"
   },
   "cell_type": "code",
   "source": [
    "intersezione = filtra_annotazioni(annotazioni, 'B_OR_M')\n",
    "intersezione.head(5)"
   ],
   "id": "451be6a6773acca5",
   "outputs": [
    {
     "data": {
      "text/plain": [
       "            TipoDiAnnotazione Ontologies Source  \\\n",
       "0  Medcat_SNOMED_Df_CS_08_ANC  SNOMED-CT  Mimic   \n",
       "1   Medcat_SNOMED_Df_CS_1_ANC  SNOMED-CT  Mimic   \n",
       "2   Medcat_SNOMED_Df_Full_ANC  SNOMED-CT  Mimic   \n",
       "3     Medcat_UMLS_Df_Full_ANC       UMLS  Mimic   \n",
       "4  Medcat_SNOMED_Df_CS_08_ANC  SNOMED-CT  Mimic   \n",
       "\n",
       "           AttributoNomeCompleto  EntityID          PrettyName       Cui  \\\n",
       "0  admissions-admission_location         0  Hospital admission  32485007   \n",
       "1  admissions-admission_location         0  Hospital admission  32485007   \n",
       "2  admissions-admission_location         0  Hospital admission  32485007   \n",
       "3  admissions-admission_location         0  Admission, Patient  C0030673   \n",
       "4  admissions-admission_location         1       Table, device  86407004   \n",
       "\n",
       "  Annotator  Provenienza  \n",
       "0    MEDCAT  annotazioni  \n",
       "1    MEDCAT  annotazioni  \n",
       "2    MEDCAT  annotazioni  \n",
       "3    MEDCAT  annotazioni  \n",
       "4    MEDCAT  annotazioni  "
      ],
      "text/html": [
       "<div>\n",
       "<style scoped>\n",
       "    .dataframe tbody tr th:only-of-type {\n",
       "        vertical-align: middle;\n",
       "    }\n",
       "\n",
       "    .dataframe tbody tr th {\n",
       "        vertical-align: top;\n",
       "    }\n",
       "\n",
       "    .dataframe thead th {\n",
       "        text-align: right;\n",
       "    }\n",
       "</style>\n",
       "<table border=\"1\" class=\"dataframe\">\n",
       "  <thead>\n",
       "    <tr style=\"text-align: right;\">\n",
       "      <th></th>\n",
       "      <th>TipoDiAnnotazione</th>\n",
       "      <th>Ontologies</th>\n",
       "      <th>Source</th>\n",
       "      <th>AttributoNomeCompleto</th>\n",
       "      <th>EntityID</th>\n",
       "      <th>PrettyName</th>\n",
       "      <th>Cui</th>\n",
       "      <th>Annotator</th>\n",
       "      <th>Provenienza</th>\n",
       "    </tr>\n",
       "  </thead>\n",
       "  <tbody>\n",
       "    <tr>\n",
       "      <th>0</th>\n",
       "      <td>Medcat_SNOMED_Df_CS_08_ANC</td>\n",
       "      <td>SNOMED-CT</td>\n",
       "      <td>Mimic</td>\n",
       "      <td>admissions-admission_location</td>\n",
       "      <td>0</td>\n",
       "      <td>Hospital admission</td>\n",
       "      <td>32485007</td>\n",
       "      <td>MEDCAT</td>\n",
       "      <td>annotazioni</td>\n",
       "    </tr>\n",
       "    <tr>\n",
       "      <th>1</th>\n",
       "      <td>Medcat_SNOMED_Df_CS_1_ANC</td>\n",
       "      <td>SNOMED-CT</td>\n",
       "      <td>Mimic</td>\n",
       "      <td>admissions-admission_location</td>\n",
       "      <td>0</td>\n",
       "      <td>Hospital admission</td>\n",
       "      <td>32485007</td>\n",
       "      <td>MEDCAT</td>\n",
       "      <td>annotazioni</td>\n",
       "    </tr>\n",
       "    <tr>\n",
       "      <th>2</th>\n",
       "      <td>Medcat_SNOMED_Df_Full_ANC</td>\n",
       "      <td>SNOMED-CT</td>\n",
       "      <td>Mimic</td>\n",
       "      <td>admissions-admission_location</td>\n",
       "      <td>0</td>\n",
       "      <td>Hospital admission</td>\n",
       "      <td>32485007</td>\n",
       "      <td>MEDCAT</td>\n",
       "      <td>annotazioni</td>\n",
       "    </tr>\n",
       "    <tr>\n",
       "      <th>3</th>\n",
       "      <td>Medcat_UMLS_Df_Full_ANC</td>\n",
       "      <td>UMLS</td>\n",
       "      <td>Mimic</td>\n",
       "      <td>admissions-admission_location</td>\n",
       "      <td>0</td>\n",
       "      <td>Admission, Patient</td>\n",
       "      <td>C0030673</td>\n",
       "      <td>MEDCAT</td>\n",
       "      <td>annotazioni</td>\n",
       "    </tr>\n",
       "    <tr>\n",
       "      <th>4</th>\n",
       "      <td>Medcat_SNOMED_Df_CS_08_ANC</td>\n",
       "      <td>SNOMED-CT</td>\n",
       "      <td>Mimic</td>\n",
       "      <td>admissions-admission_location</td>\n",
       "      <td>1</td>\n",
       "      <td>Table, device</td>\n",
       "      <td>86407004</td>\n",
       "      <td>MEDCAT</td>\n",
       "      <td>annotazioni</td>\n",
       "    </tr>\n",
       "  </tbody>\n",
       "</table>\n",
       "</div>"
      ]
     },
     "execution_count": 63,
     "metadata": {},
     "output_type": "execute_result"
    }
   ],
   "execution_count": null
  },
  {
   "metadata": {
    "ExecuteTime": {
     "end_time": "2025-06-04T16:44:16.841675Z",
     "start_time": "2025-06-04T16:44:16.828887Z"
    },
    "id": "fe55d9c051e5ac1b",
    "outputId": "aac62e44-3435-45f6-9e3b-aefc8c6551dd"
   },
   "cell_type": "code",
   "source": [
    "evaluate_annotation(GS, intersezione, 'AttributoNomeCompleto')"
   ],
   "id": "fe55d9c051e5ac1b",
   "outputs": [
    {
     "data": {
      "text/plain": [
       "{'Precision': 0.0576, 'Recall': 0.5541, 'F1-score': 0.1043}"
      ]
     },
     "execution_count": 64,
     "metadata": {},
     "output_type": "execute_result"
    }
   ],
   "execution_count": null
  },
  {
   "metadata": {
    "ExecuteTime": {
     "end_time": "2025-06-04T16:49:01.426466Z",
     "start_time": "2025-06-04T16:49:01.361850Z"
    },
    "id": "c53d2748a2a1f31d",
    "outputId": "33636416-fcc3-4ac0-c5f6-c6a500e03587"
   },
   "cell_type": "code",
   "source": [
    "evaluate_macro_micro(GS, intersezione, ['AttributoNomeCompleto'])"
   ],
   "id": "c53d2748a2a1f31d",
   "outputs": [
    {
     "data": {
      "text/plain": [
       "{'Macro Precision': 0.0,\n",
       " 'Macro Recall': 0.0,\n",
       " 'Macro F1-score': 0.0,\n",
       " 'Micro Precision': 0.0,\n",
       " 'Micro Recall': 0.0,\n",
       " 'Micro F1-score': 0}"
      ]
     },
     "execution_count": 76,
     "metadata": {},
     "output_type": "execute_result"
    }
   ],
   "execution_count": null
  },
  {
   "metadata": {
    "ExecuteTime": {
     "end_time": "2025-06-04T16:49:15.300657Z",
     "start_time": "2025-06-04T16:49:14.592580Z"
    },
    "id": "1617ed0a68934764",
    "outputId": "753b12da-a539-4957-f14d-893db2621e92"
   },
   "cell_type": "code",
   "source": [
    "evaluate_macro_micro(GS, intersezione, ['TipoDiAnnotazione', 'Ontologies', 'Source', 'AttributoNomeCompleto',\n",
    "       'EntityID', 'PrettyName', 'Cui', 'Annotator', 'Provenienza'])"
   ],
   "id": "1617ed0a68934764",
   "outputs": [
    {
     "data": {
      "text/plain": [
       "{'Macro Precision': 0.0556,\n",
       " 'Macro Recall': 0.0557,\n",
       " 'Macro F1-score': 0.0557,\n",
       " 'Micro Precision': 0.0549,\n",
       " 'Micro Recall': 0.0557,\n",
       " 'Micro F1-score': 0.0553}"
      ]
     },
     "execution_count": 77,
     "metadata": {},
     "output_type": "execute_result"
    }
   ],
   "execution_count": null
  },
  {
   "cell_type": "markdown",
   "id": "333b879df4ca615b",
   "metadata": {
    "id": "333b879df4ca615b"
   },
   "source": [
    "## Metodi di confronto"
   ]
  },
  {
   "cell_type": "code",
   "execution_count": null,
   "id": "328885d22be2c67b",
   "metadata": {
    "ExecuteTime": {
     "end_time": "2025-03-27T16:59:47.606163Z",
     "start_time": "2025-03-27T16:59:47.592577Z"
    },
    "id": "328885d22be2c67b",
    "outputId": "89f4ff9e-0a0e-4038-cd8c-fd4598013587"
   },
   "outputs": [
    {
     "name": "stdout",
     "output_type": "stream",
     "text": [
      "{'Jaccard Similarity': 0.055, 'Weighted Overlap': 0.5541, 'Intersection': 41, \"Valori dell'intersezione\": {'person-gender_source_concept_id', 'condition_occurrence-provider_id', 'condition_occurrence-condition_source_concept_id', 'person-ethnicity_source_value', 'condition_occurrence-condition_type_concept_id', 'location-zip', 'location-address_1', 'condition_occurrence-condition_status_source_value', 'person-year_of_birth', 'location-address_2', 'condition_occurrence-stop_reason', 'person-race_source_concept_id', 'person-gender_source_value', 'condition_occurrence-person_id', 'location-county', 'person-person_id', 'condition_occurrence-condition_concept_id', 'location-city', 'person-ethnicity_concept_id', 'person-month_of_birth', 'location-location_id', 'location-state', 'location-location_source_value', 'condition_occurrence-condition_occurrence_id', 'person-ethnicity_source_concept_id', 'condition_occurrence-visit_detail_id', 'person-race_source_value', 'condition_occurrence-condition_end_date', 'condition_occurrence-condition_end_datetime', 'person-gender_concept_id', 'person-race_concept_id', 'condition_occurrence-visit_occurrence_id', 'person-day_of_birth', 'condition_occurrence-condition_start_datetime', 'person-location_id', 'person-person_source_value', 'condition_occurrence-condition_start_date', 'condition_occurrence-condition_status_concept_id', 'condition_occurrence-condition_source_value', 'person-care_site_id', 'person-provider_id'}}\n"
     ]
    }
   ],
   "source": [
    "def metodi_confronto(gs_df, ann_df, column):\n",
    "\n",
    "    gs = set(gs_df[column].dropna())\n",
    "    ann = set(ann_df[column].dropna())\n",
    "\n",
    "    intersection = gs & ann  # Concetti comuni\n",
    "\n",
    "    # Jaccard Similarity\n",
    "    jaccard = len(intersection) / len(gs | ann) if len(gs | ann) > 0 else 0\n",
    "\n",
    "    # Weighted Overlap\n",
    "    weighted_overlap = sum(1 for concept in intersection) / sum(1 for concept in gs) if len(gs) > 0 else 0\n",
    "\n",
    "    return {\n",
    "        \"Intersection\": len(intersection),\n",
    "        \"Jaccard Similarity\": round(jaccard, 4),\n",
    "        \"Weighted Overlap\": round(weighted_overlap, 4),\n",
    "        \"Valori dell'intersezione\": intersection\n",
    "    }\n",
    "\n",
    "\n",
    "\n",
    "metrics = metodi_confronto(GS, annotazioni, \"AttributoNomeCompleto\")\n",
    "print(metrics)"
   ]
  },
  {
   "cell_type": "code",
   "execution_count": null,
   "id": "e8981cfebaa8e691",
   "metadata": {
    "ExecuteTime": {
     "end_time": "2025-03-27T17:20:13.811867Z",
     "start_time": "2025-03-27T17:20:13.726865Z"
    },
    "id": "e8981cfebaa8e691",
    "outputId": "444657d7-6c04-4a06-8992-1e544297f067"
   },
   "outputs": [
    {
     "name": "stdout",
     "output_type": "stream",
     "text": [
      "Overlap Ponderato: 0.0\n"
     ]
    }
   ],
   "source": [
    "gs_df = GS.assign(source='GS')\n",
    "# Calcoliamo la frequenza d'uso dei concetti nel Gold Standard\n",
    "gs_freq = gs_df['AttributoNomeCompleto'].value_counts()\n",
    "\n",
    "\n",
    "# Mappiamo la frequenza come peso nei concetti di GS\n",
    "gs_df['Peso'] = gs_df['AttributoNomeCompleto'].map(gs_freq)\n",
    "\n",
    "\n",
    "# Uniamo i due DataFrame per ottenere i concetti comuni\n",
    "merged_df = pd.merge(gs_df, annotazioni, on='AttributoNomeCompleto', how='inner')\n",
    "\n",
    "# Calcoliamo l'overlap ponderato sommando i pesi dei concetti comuni\n",
    "overlap_ponderato = (merged_df['Peso'] * gs_freq[merged_df['AttributoNomeCompleto']]).sum()\n",
    "\n",
    "print(f'Overlap Ponderato: {overlap_ponderato}')\n"
   ]
  },
  {
   "cell_type": "markdown",
   "id": "9c878221db047eb0",
   "metadata": {
    "id": "9c878221db047eb0"
   },
   "source": [
    "NON CAPISCO PERCHÈ L'OVERLAP PONDERATO SIA UGUALE A 0"
   ]
  },
  {
   "cell_type": "code",
   "execution_count": null,
   "id": "e470e527729d04f",
   "metadata": {
    "ExecuteTime": {
     "end_time": "2025-03-27T17:22:32.480247Z",
     "start_time": "2025-03-27T17:22:32.466894Z"
    },
    "id": "e470e527729d04f",
    "outputId": "50457cbd-7e23-4e3d-f6a1-f647b0987023"
   },
   "outputs": [
    {
     "name": "stdout",
     "output_type": "stream",
     "text": [
      "Concetti totali nel Gold Standard: 323\n",
      "Concetti correttamente annotati: 41\n",
      "Accuratezza delle annotazioni: 12.69%\n"
     ]
    }
   ],
   "source": [
    "#Troviamo l'intersezione tra Gold Standard e Annotazioni\n",
    "common_concepts = set(GS['AttributoNomeCompleto']).intersection(set(annotazioni['AttributoNomeCompleto']))\n",
    "\n",
    "# 3. Calcoliamo la percentuale di concetti del Gold Standard presenti nelle Annotazioni\n",
    "total_concepts_gs = len(GS)\n",
    "correctly_annotated = len(common_concepts)\n",
    "\n",
    "# Percentuale di concetti correttamente annotati\n",
    "annotation_accuracy = (correctly_annotated / total_concepts_gs) * 100\n",
    "\n",
    "# 4. Valutiamo la bontà degli annotatori\n",
    "print(f'Concetti totali nel Gold Standard: {total_concepts_gs}')\n",
    "print(f'Concetti correttamente annotati: {correctly_annotated}')\n",
    "print(f'Accuratezza delle annotazioni: {annotation_accuracy:.2f}%')"
   ]
  },
  {
   "cell_type": "markdown",
   "id": "c56fe77ca1bcb8fa",
   "metadata": {
    "id": "c56fe77ca1bcb8fa"
   },
   "source": [
    "## Calcolo metriche su più attributi"
   ]
  },
  {
   "cell_type": "code",
   "execution_count": null,
   "id": "efe28a1747d9e75a",
   "metadata": {
    "ExecuteTime": {
     "end_time": "2025-03-27T17:38:09.431146Z",
     "start_time": "2025-03-27T17:38:09.124234Z"
    },
    "id": "efe28a1747d9e75a",
    "outputId": "3cb673c5-5f1f-40b7-b6d8-fe3744fe1cf5"
   },
   "outputs": [
    {
     "name": "stdout",
     "output_type": "stream",
     "text": [
      "Metriche Aggregate:\n",
      "Precisionmacro: 0.5540540540540541\n",
      "Recallmacro: 0.5540540540540541\n",
      "F1macro: 0.5540540540540541\n",
      "Precisionmicro: 1.0\n",
      "Recallmicro: 1.0\n",
      "F1micro: 1.0\n"
     ]
    }
   ],
   "source": [
    "def calculate_metrics(gs_df, ann_df):\n",
    "    # Inizializziamo un dizionario per memorizzare i risultati per ogni concetto\n",
    "    metrics = {'AttributoNomeCompleto': [], 'Precision': [], 'Recall': [], 'F1': []}\n",
    "\n",
    "    # Elenco dei concetti unici presenti nel GS\n",
    "    all_concepts = gs_df['AttributoNomeCompleto'].unique()\n",
    "\n",
    "    for concept in all_concepts:\n",
    "        # Filtra i concetti corrispondenti nel GS e nelle Annotazioni\n",
    "        gs_concepts = set(gs_df[gs_df['AttributoNomeCompleto'] == concept]['AttributoNomeCompleto'])\n",
    "        ann_concepts = set(ann_df[ann_df['AttributoNomeCompleto'] == concept]['AttributoNomeCompleto'])\n",
    "\n",
    "        # Calcolo della Precision\n",
    "        precision = len(gs_concepts.intersection(ann_concepts)) / len(ann_concepts) if len(ann_concepts) > 0 else 0\n",
    "\n",
    "        # Calcolo del Recall\n",
    "        recall = len(gs_concepts.intersection(ann_concepts)) / len(gs_concepts) if len(gs_concepts) > 0 else 0\n",
    "\n",
    "        # Calcolo del F1-Score\n",
    "        f1 = (2 * precision * recall) / (precision + recall) if (precision + recall) > 0 else 0\n",
    "\n",
    "        # Memorizza i risultati per ogni concetto\n",
    "        metrics['AttributoNomeCompleto'].append(concept)\n",
    "        metrics['Precision'].append(precision)\n",
    "        metrics['Recall'].append(recall)\n",
    "        metrics['F1'].append(f1)\n",
    "\n",
    "    # Convertiamo in DataFrame per una migliore visualizzazione\n",
    "    metrics_df = pd.DataFrame(metrics)\n",
    "\n",
    "    return metrics_df\n",
    "\n",
    "def calculate_aggregated_metrics(metrics_df):\n",
    "    # Macro-average: media delle metriche\n",
    "    precision_macro = metrics_df['Precision'].mean()\n",
    "    recall_macro = metrics_df['Recall'].mean()\n",
    "    f1_macro = metrics_df['F1'].mean()\n",
    "\n",
    "    # Micro-average: somma dei veri positivi, falsi positivi e falsi negativi\n",
    "    total_tp = sum([metrics_df.iloc[i]['Precision'] * metrics_df.iloc[i]['Recall'] for i in range(len(metrics_df))])\n",
    "    total_fp = sum([metrics_df.iloc[i]['Precision'] * (1 - metrics_df.iloc[i]['Recall']) for i in range(len(metrics_df))])\n",
    "    total_fn = sum([metrics_df.iloc[i]['Recall'] * (1 - metrics_df.iloc[i]['Precision']) for i in range(len(metrics_df))])\n",
    "\n",
    "    precision_micro = total_tp / (total_tp + total_fp) if (total_tp + total_fp) > 0 else 0\n",
    "    recall_micro = total_tp / (total_tp + total_fn) if (total_tp + total_fn) > 0 else 0\n",
    "    f1_micro = (2 * precision_micro * recall_micro) / (precision_micro + recall_micro) if (precision_micro + recall_micro) > 0 else 0\n",
    "\n",
    "    # Restituisce le metriche aggregate\n",
    "    aggregated_metrics = {\n",
    "        'Precisionmacro': precision_macro,\n",
    "        'Recallmacro': recall_macro,\n",
    "        'F1macro': f1_macro,\n",
    "        'Precisionmicro': precision_micro,\n",
    "        'Recallmicro': recall_micro,\n",
    "        'F1micro': f1_micro\n",
    "    }\n",
    "\n",
    "    return aggregated_metrics\n",
    "\n",
    "# Calcoliamo le metriche per ciascun concetto (AttributoNomeCompleto)\n",
    "metrics_df = calculate_metrics(gs_df, annotazioni)\n",
    "\n",
    "# Calcoliamo le metriche aggregate (Macro e Micro)\n",
    "aggregated_metrics = calculate_aggregated_metrics(metrics_df)\n",
    "\n",
    "# Visualizziamo le metriche aggregate\n",
    "print(\"Metriche Aggregate:\")\n",
    "for metric, value in aggregated_metrics.items():\n",
    "    print(f\"{metric}: {value}\")\n"
   ]
  },
  {
   "cell_type": "markdown",
   "id": "a1239dfbd55d143c",
   "metadata": {
    "id": "a1239dfbd55d143c"
   },
   "source": [
    "## Analisi della Similarit`a tra Attributi con Annotazioni Diverse"
   ]
  },
  {
   "cell_type": "code",
   "execution_count": null,
   "id": "afbd67d391614ac1",
   "metadata": {
    "ExecuteTime": {
     "end_time": "2025-03-27T17:59:40.052558Z",
     "start_time": "2025-03-27T17:59:39.760321Z"
    },
    "id": "afbd67d391614ac1",
    "outputId": "571f5431-2044-4570-be44-fcd823980d10"
   },
   "outputs": [
    {
     "name": "stdout",
     "output_type": "stream",
     "text": [
      "                 AttributoNomeCompleto   Jaccard  Sorensen-Dice  \\\n",
      "0                    location-location  0.000000       0.000000   \n",
      "1                 location-location_id  0.043478       0.083333   \n",
      "2                   location-address_1  0.040000       0.076923   \n",
      "3                   location-address_2  0.038462       0.074074   \n",
      "4                        location-city  0.080000       0.148148   \n",
      "..                                 ...       ...            ...   \n",
      "69     person-gender_source_concept_id  0.071429       0.133333   \n",
      "70            person-race_source_value  0.081081       0.150000   \n",
      "71       person-race_source_concept_id  0.034483       0.066667   \n",
      "72       person-ethnicity_source_value  0.027027       0.052632   \n",
      "73  person-ethnicity_source_concept_id  0.033333       0.064516   \n",
      "\n",
      "    Corrispondenza  \n",
      "0                0  \n",
      "1                0  \n",
      "2                0  \n",
      "3                0  \n",
      "4                0  \n",
      "..             ...  \n",
      "69               0  \n",
      "70               0  \n",
      "71               0  \n",
      "72               0  \n",
      "73               0  \n",
      "\n",
      "[74 rows x 4 columns]\n"
     ]
    }
   ],
   "source": [
    "import pandas as pd\n",
    "\n",
    "# Funzione per calcolare l'intersezione tra due insiemi\n",
    "def intersection(set1, set2):\n",
    "    return len(set1.intersection(set2))\n",
    "\n",
    "# Funzione per calcolare la similarità di Jaccard\n",
    "def jaccard_similarity(set1, set2):\n",
    "    return len(set1.intersection(set2)) / len(set1.union(set2)) if len(set1.union(set2)) > 0 else 0\n",
    "\n",
    "# Funzione per calcolare il coefficiente di Sorensen-Dice\n",
    "def sorensen_dice(set1, set2):\n",
    "    return (2 * len(set1.intersection(set2))) / (len(set1) + len(set2)) if (len(set1) + len(set2)) > 0 else 0\n",
    "\n",
    "# Funzione per calcolare la corrispondenza per ogni attributo\n",
    "def calculate_similarity(gs_df, ann_df, threshold):\n",
    "    similarity_results = {\n",
    "        'AttributoNomeCompleto': [],\n",
    "        'Jaccard': [],\n",
    "        'Sorensen-Dice': [],\n",
    "        'Corrispondenza': []\n",
    "    }\n",
    "\n",
    "    # Iteriamo su ciascun attributo\n",
    "    for attribute in gs_df['AttributoNomeCompleto'].unique():\n",
    "        # Prendiamo gli insiemi di annotazioni per l'attributo in entrambi gli schemi\n",
    "        gs_annotations = set(gs_df[gs_df['AttributoNomeCompleto'] == attribute]['PrettyName'])\n",
    "        ann_annotations = set(ann_df[ann_df['AttributoNomeCompleto'] == attribute]['PrettyName'])\n",
    "\n",
    "        # Calcoliamo le metriche di similarità\n",
    "        jaccard = jaccard_similarity(gs_annotations, ann_annotations)\n",
    "        dice = sorensen_dice(gs_annotations, ann_annotations)\n",
    "\n",
    "        # Verifica della corrispondenza (Jaccard)\n",
    "        corrispondenza = 1 if jaccard >= threshold else 0\n",
    "\n",
    "        # Aggiungiamo i risultati\n",
    "        similarity_results['AttributoNomeCompleto'].append(attribute)\n",
    "        similarity_results['Jaccard'].append(jaccard)\n",
    "        similarity_results['Sorensen-Dice'].append(dice)\n",
    "        similarity_results['Corrispondenza'].append(corrispondenza)\n",
    "\n",
    "    # Creiamo un DataFrame con i risultati\n",
    "    similarity_df = pd.DataFrame(similarity_results)\n",
    "\n",
    "    return similarity_df\n",
    "\n",
    "\n",
    "\n",
    "# Definiamo una soglia di similarità per la corrispondenza\n",
    "threshold = 0.8\n",
    "\n",
    "# Calcoliamo la similarità tra gli attributi\n",
    "similarity_df = calculate_similarity(GS, annotazioni, threshold)\n",
    "\n",
    "# Visualizziamo i risultati\n",
    "print(similarity_df)\n"
   ]
  },
  {
   "cell_type": "markdown",
   "id": "5c62aa58f238e8fb",
   "metadata": {
    "id": "5c62aa58f238e8fb"
   },
   "source": [
    "## Valutazione della Corrispondenza con Precision, Recall e F1"
   ]
  },
  {
   "cell_type": "code",
   "execution_count": null,
   "id": "8925638bab3a8ae9",
   "metadata": {
    "ExecuteTime": {
     "end_time": "2025-03-27T18:03:23.428383Z",
     "start_time": "2025-03-27T18:03:23.143402Z"
    },
    "id": "8925638bab3a8ae9",
    "outputId": "c5cfd52a-b8fd-469b-e70e-98b21515b445"
   },
   "outputs": [
    {
     "name": "stdout",
     "output_type": "stream",
     "text": [
      "Attributo: location-location\n",
      "Precision: 0\n",
      "Recall: 0.0\n",
      "F1: 0\n",
      "\n",
      "Attributo: location-location_id\n",
      "Precision: 0.045454545454545456\n",
      "Recall: 0.5\n",
      "F1: 0.08333333333333334\n",
      "\n",
      "Attributo: location-address_1\n",
      "Precision: 0.04\n",
      "Recall: 1.0\n",
      "F1: 0.07692307692307693\n",
      "\n",
      "Attributo: location-address_2\n",
      "Precision: 0.038461538461538464\n",
      "Recall: 1.0\n",
      "F1: 0.07407407407407407\n",
      "\n",
      "Attributo: location-city\n",
      "Precision: 0.08\n",
      "Recall: 1.0\n",
      "F1: 0.14814814814814814\n",
      "\n",
      "Attributo: location-state\n",
      "Precision: 0.041666666666666664\n",
      "Recall: 0.5\n",
      "F1: 0.07692307692307693\n",
      "\n",
      "Attributo: location-zip\n",
      "Precision: 0.09090909090909091\n",
      "Recall: 0.6666666666666666\n",
      "F1: 0.16\n",
      "\n",
      "Attributo: location-county\n",
      "Precision: 0.10526315789473684\n",
      "Recall: 1.0\n",
      "F1: 0.1904761904761905\n",
      "\n",
      "Attributo: location-country\n",
      "Precision: 0\n",
      "Recall: 0.0\n",
      "F1: 0\n",
      "\n",
      "Attributo: location-location_source_value\n",
      "Precision: 0.08695652173913043\n",
      "Recall: 1.0\n",
      "F1: 0.16\n",
      "\n",
      "Attributo: location-latitude\n",
      "Precision: 0\n",
      "Recall: 0.0\n",
      "F1: 0\n",
      "\n",
      "Attributo: location-longitude\n",
      "Precision: 0\n",
      "Recall: 0.0\n",
      "F1: 0\n",
      "\n",
      "Attributo: cost-cost\n",
      "Precision: 0\n",
      "Recall: 0.0\n",
      "F1: 0\n",
      "\n",
      "Attributo: cost-payer_plan_period_id\n",
      "Precision: 0\n",
      "Recall: 0.0\n",
      "F1: 0\n",
      "\n",
      "Attributo: cost-person_id\n",
      "Precision: 0\n",
      "Recall: 0.0\n",
      "F1: 0\n",
      "\n",
      "Attributo: cost-cost_id\n",
      "Precision: 0\n",
      "Recall: 0.0\n",
      "F1: 0\n",
      "\n",
      "Attributo: cost-cost_event_id\n",
      "Precision: 0\n",
      "Recall: 0.0\n",
      "F1: 0\n",
      "\n",
      "Attributo: cost-cost_event_field_concept_id\n",
      "Precision: 0\n",
      "Recall: 0.0\n",
      "F1: 0\n",
      "\n",
      "Attributo: cost-cost_concept_id\n",
      "Precision: 0\n",
      "Recall: 0.0\n",
      "F1: 0\n",
      "\n",
      "Attributo: cost-cost_type_concept_id\n",
      "Precision: 0\n",
      "Recall: 0.0\n",
      "F1: 0\n",
      "\n",
      "Attributo: cost-cost_source_concept_id\n",
      "Precision: 0\n",
      "Recall: 0.0\n",
      "F1: 0\n",
      "\n",
      "Attributo: cost-cost_source_value\n",
      "Precision: 0\n",
      "Recall: 0.0\n",
      "F1: 0\n",
      "\n",
      "Attributo: cost-currency_concept_id\n",
      "Precision: 0\n",
      "Recall: 0.0\n",
      "F1: 0\n",
      "\n",
      "Attributo: cost-incurred_date\n",
      "Precision: 0\n",
      "Recall: 0.0\n",
      "F1: 0\n",
      "\n",
      "Attributo: cost-billed_date\n",
      "Precision: 0\n",
      "Recall: 0.0\n",
      "F1: 0\n",
      "\n",
      "Attributo: cost-paid_date\n",
      "Precision: 0\n",
      "Recall: 0.0\n",
      "F1: 0\n",
      "\n",
      "Attributo: cost-revenue_code_concept_id\n",
      "Precision: 0\n",
      "Recall: 0.0\n",
      "F1: 0\n",
      "\n",
      "Attributo: cost-DRG_concept_id\n",
      "Precision: 0\n",
      "Recall: 0.0\n",
      "F1: 0\n",
      "\n",
      "Attributo: cost-revenue_code_source_value\n",
      "Precision: 0\n",
      "Recall: 0.0\n",
      "F1: 0\n",
      "\n",
      "Attributo: cost-DRG_source_value\n",
      "Precision: 0\n",
      "Recall: 0.0\n",
      "F1: 0\n",
      "\n",
      "Attributo: relationship-relationship\n",
      "Precision: 0\n",
      "Recall: 0.0\n",
      "F1: 0\n",
      "\n",
      "Attributo: relationship-relationship_id\n",
      "Precision: 0\n",
      "Recall: 0.0\n",
      "F1: 0\n",
      "\n",
      "Attributo: relationship-relationship_name\n",
      "Precision: 0\n",
      "Recall: 0.0\n",
      "F1: 0\n",
      "\n",
      "Attributo: relationship-is_the_relationship_hierarchical\n",
      "Precision: 0\n",
      "Recall: 0.0\n",
      "F1: 0\n",
      "\n",
      "Attributo: relationship-define_ancestry\n",
      "Precision: 0\n",
      "Recall: 0.0\n",
      "F1: 0\n",
      "\n",
      "Attributo: relationship-reverse_relationship_id\n",
      "Precision: 0\n",
      "Recall: 0.0\n",
      "F1: 0\n",
      "\n",
      "Attributo: relationship-reverse_concept_id\n",
      "Precision: 0\n",
      "Recall: 0.0\n",
      "F1: 0\n",
      "\n",
      "Attributo: condition_occurrence-condition_occurrence\n",
      "Precision: 0\n",
      "Recall: 0.0\n",
      "F1: 0\n",
      "\n",
      "Attributo: condition_occurrence-condition_occurrence_id\n",
      "Precision: 0.05128205128205128\n",
      "Recall: 0.6666666666666666\n",
      "F1: 0.09523809523809523\n",
      "\n",
      "Attributo: condition_occurrence-person_id\n",
      "Precision: 0.0\n",
      "Recall: 0.0\n",
      "F1: 0\n",
      "\n",
      "Attributo: condition_occurrence-condition_concept_id\n",
      "Precision: 0.043478260869565216\n",
      "Recall: 0.6666666666666666\n",
      "F1: 0.08163265306122448\n",
      "\n",
      "Attributo: condition_occurrence-condition_start_date\n",
      "Precision: 0.05128205128205128\n",
      "Recall: 1.0\n",
      "F1: 0.09756097560975609\n",
      "\n",
      "Attributo: condition_occurrence-condition_start_datetime\n",
      "Precision: 0.046511627906976744\n",
      "Recall: 0.6666666666666666\n",
      "F1: 0.08695652173913045\n",
      "\n",
      "Attributo: condition_occurrence-condition_end_date\n",
      "Precision: 0.04878048780487805\n",
      "Recall: 1.0\n",
      "F1: 0.09302325581395349\n",
      "\n",
      "Attributo: condition_occurrence-condition_end_datetime\n",
      "Precision: 0.04878048780487805\n",
      "Recall: 0.6666666666666666\n",
      "F1: 0.0909090909090909\n",
      "\n",
      "Attributo: condition_occurrence-condition_type_concept_id\n",
      "Precision: 0.06\n",
      "Recall: 0.75\n",
      "F1: 0.1111111111111111\n",
      "\n",
      "Attributo: condition_occurrence-condition_status_concept_id\n",
      "Precision: 0.058823529411764705\n",
      "Recall: 0.75\n",
      "F1: 0.10909090909090909\n",
      "\n",
      "Attributo: condition_occurrence-stop_reason\n",
      "Precision: 0.05\n",
      "Recall: 0.5\n",
      "F1: 0.09090909090909091\n",
      "\n",
      "Attributo: condition_occurrence-provider_id\n",
      "Precision: 0.025\n",
      "Recall: 0.5\n",
      "F1: 0.047619047619047616\n",
      "\n",
      "Attributo: condition_occurrence-visit_occurrence_id\n",
      "Precision: 0.024390243902439025\n",
      "Recall: 0.3333333333333333\n",
      "F1: 0.04545454545454545\n",
      "\n",
      "Attributo: condition_occurrence-visit_detail_id\n",
      "Precision: 0.023255813953488372\n",
      "Recall: 0.3333333333333333\n",
      "F1: 0.04347826086956522\n",
      "\n",
      "Attributo: condition_occurrence-condition_source_value\n",
      "Precision: 0.041666666666666664\n",
      "Recall: 0.6666666666666666\n",
      "F1: 0.0784313725490196\n",
      "\n",
      "Attributo: condition_occurrence-condition_source_concept_id\n",
      "Precision: 0.05263157894736842\n",
      "Recall: 0.5\n",
      "F1: 0.09523809523809525\n",
      "\n",
      "Attributo: condition_occurrence-condition_status_source_value\n",
      "Precision: 0.057692307692307696\n",
      "Recall: 0.75\n",
      "F1: 0.10714285714285714\n",
      "\n",
      "Attributo: person-person\n",
      "Precision: 0\n",
      "Recall: 0.0\n",
      "F1: 0\n",
      "\n",
      "Attributo: person-person_id\n",
      "Precision: 0.0\n",
      "Recall: 0.0\n",
      "F1: 0\n",
      "\n",
      "Attributo: person-gender_concept_id\n",
      "Precision: 0.06451612903225806\n",
      "Recall: 0.6666666666666666\n",
      "F1: 0.1176470588235294\n",
      "\n",
      "Attributo: person-year_of_birth\n",
      "Precision: 0.0\n",
      "Recall: 0.0\n",
      "F1: 0\n",
      "\n",
      "Attributo: person-month_of_birth\n",
      "Precision: 0.029411764705882353\n",
      "Recall: 1.0\n",
      "F1: 0.05714285714285715\n",
      "\n",
      "Attributo: person-day_of_birth\n",
      "Precision: 0.02857142857142857\n",
      "Recall: 1.0\n",
      "F1: 0.05555555555555556\n",
      "\n",
      "Attributo: person-datetime_of_birth\n",
      "Precision: 0\n",
      "Recall: 0.0\n",
      "F1: 0\n",
      "\n",
      "Attributo: person-datetime_of_death\n",
      "Precision: 0\n",
      "Recall: 0.0\n",
      "F1: 0\n",
      "\n",
      "Attributo: person-race_concept_id\n",
      "Precision: 0.058823529411764705\n",
      "Recall: 0.6666666666666666\n",
      "F1: 0.10810810810810811\n",
      "\n",
      "Attributo: person-ethnicity_concept_id\n",
      "Precision: 0.058823529411764705\n",
      "Recall: 0.6666666666666666\n",
      "F1: 0.10810810810810811\n",
      "\n",
      "Attributo: person-location_id\n",
      "Precision: 0.029411764705882353\n",
      "Recall: 0.5\n",
      "F1: 0.05555555555555555\n",
      "\n",
      "Attributo: person-provider_id\n",
      "Precision: 0.030303030303030304\n",
      "Recall: 0.5\n",
      "F1: 0.05714285714285715\n",
      "\n",
      "Attributo: person-care_site_id\n",
      "Precision: 0.0\n",
      "Recall: 0.0\n",
      "F1: 0\n",
      "\n",
      "Attributo: person-person_source_value\n",
      "Precision: 0.05555555555555555\n",
      "Recall: 0.6666666666666666\n",
      "F1: 0.10256410256410256\n",
      "\n",
      "Attributo: person-gender_source_value\n",
      "Precision: 0.06666666666666667\n",
      "Recall: 0.6666666666666666\n",
      "F1: 0.1212121212121212\n",
      "\n",
      "Attributo: person-gender_source_concept_id\n",
      "Precision: 0.07692307692307693\n",
      "Recall: 0.5\n",
      "F1: 0.13333333333333336\n",
      "\n",
      "Attributo: person-race_source_value\n",
      "Precision: 0.08108108108108109\n",
      "Recall: 1.0\n",
      "F1: 0.15\n",
      "\n",
      "Attributo: person-race_source_concept_id\n",
      "Precision: 0.038461538461538464\n",
      "Recall: 0.25\n",
      "F1: 0.06666666666666668\n",
      "\n",
      "Attributo: person-ethnicity_source_value\n",
      "Precision: 0.02857142857142857\n",
      "Recall: 0.3333333333333333\n",
      "F1: 0.05263157894736842\n",
      "\n",
      "Attributo: person-ethnicity_source_concept_id\n",
      "Precision: 0.037037037037037035\n",
      "Recall: 0.25\n",
      "F1: 0.06451612903225806\n",
      "\n"
     ]
    }
   ],
   "source": [
    "# Funzioni per calcolare TP, FP e FN\n",
    "def true_positives(gs_set, ann_set):\n",
    "    return len(gs_set.intersection(ann_set))\n",
    "\n",
    "def false_positives(gs_set, ann_set):\n",
    "    return len(ann_set - gs_set)\n",
    "\n",
    "def false_negatives(gs_set, ann_set):\n",
    "    return len(gs_set - ann_set)\n",
    "\n",
    "# Funzione per calcolare Precision, Recall e F1-Score\n",
    "def calculate_metrics(gs_set, ann_set):\n",
    "    tp = true_positives(gs_set, ann_set)\n",
    "    fp = false_positives(gs_set, ann_set)\n",
    "    fn = false_negatives(gs_set, ann_set)\n",
    "\n",
    "    precision = tp / (tp + fp) if (tp + fp) != 0 else 0\n",
    "    recall = tp / (tp + fn) if (tp + fn) != 0 else 0\n",
    "    f1 = (2 * precision * recall) / (precision + recall) if (precision + recall) != 0 else 0\n",
    "\n",
    "    return precision, recall, f1\n",
    "\n",
    "# Funzione per confrontare gli attributi e calcolare le metriche aggregate\n",
    "def compare_attributes(gs_df, ann_df, threshold=0.5):\n",
    "    comparison_results = {}\n",
    "\n",
    "    for attribute in gs_df['AttributoNomeCompleto'].unique():\n",
    "        # Estrai gli insiemi di annotazioni per l'attributo corrente\n",
    "        gs_annotations = set(gs_df[gs_df['AttributoNomeCompleto'] == attribute]['PrettyName'])\n",
    "        ann_annotations = set(ann_df[ann_df['AttributoNomeCompleto'] == attribute]['PrettyName'])\n",
    "\n",
    "        # Calcolo delle metriche di Precision, Recall e F1-Score\n",
    "        precision, recall, f1 = calculate_metrics(gs_annotations, ann_annotations)\n",
    "\n",
    "        # Salva i risultati\n",
    "        comparison_results[attribute] = {\n",
    "            'Precision': precision,\n",
    "            'Recall': recall,\n",
    "            'F1': f1\n",
    "        }\n",
    "\n",
    "    return comparison_results\n",
    "\n",
    "# Supponiamo che gs_df e ann_df siano i tuoi DataFrame contenenti i dati per GS e Annotator X\n",
    "# gs_df = pd.read_csv('gold_standard.csv')\n",
    "# ann_df = pd.read_csv('annotator.csv')\n",
    "\n",
    "# Confrontiamo gli attributi\n",
    "comparison_results = compare_attributes(GS, annotazioni)\n",
    "\n",
    "# Visualizziamo i risultati\n",
    "for attribute, metrics in comparison_results.items():\n",
    "    print(f\"Attributo: {attribute}\")\n",
    "    print(f\"Precision: {metrics['Precision']}\")\n",
    "    print(f\"Recall: {metrics['Recall']}\")\n",
    "    print(f\"F1: {metrics['F1']}\")\n",
    "    print()"
   ]
  }
 ],
 "metadata": {
  "kernelspec": {
   "display_name": "Python 3 (ipykernel)",
   "language": "python",
   "name": "python3"
  },
  "language_info": {
   "codemirror_mode": {
    "name": "ipython",
    "version": 3
   },
   "file_extension": ".py",
   "mimetype": "text/x-python",
   "name": "python",
   "nbconvert_exporter": "python",
   "pygments_lexer": "ipython3",
   "version": "3.13.2"
  },
  "colab": {
   "provenance": []
  }
 },
 "nbformat": 4,
 "nbformat_minor": 5
}
