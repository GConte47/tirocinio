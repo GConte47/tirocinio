{
 "cells": [
  {
   "metadata": {},
   "cell_type": "markdown",
   "source": "#CREAZIONE ED ESTRAZIONE CONCETTI DA DATAMODEL",
   "id": "32414ae5787f6881"
  },
  {
   "cell_type": "code",
   "id": "initial_id",
   "metadata": {
    "collapsed": true,
    "ExecuteTime": {
     "end_time": "2025-02-28T16:30:56.333101Z",
     "start_time": "2025-02-28T16:30:56.327598Z"
    }
   },
   "source": [
    "import pandas as pd\n",
    "import xml.etree.ElementTree as ET"
   ],
   "outputs": [],
   "execution_count": 4
  },
  {
   "metadata": {
    "ExecuteTime": {
     "end_time": "2025-02-28T16:30:57.877082Z",
     "start_time": "2025-02-28T16:30:57.870960Z"
    }
   },
   "cell_type": "code",
   "source": [
    "def parse_odm_xml(xml_file):\n",
    "    tree = ET.parse(xml_file)\n",
    "    root = tree.getroot()\n",
    "\n",
    "    ns = {'odm': 'http://www.cdisc.org/ns/odm/v1.3'}  # Namespace del file\n",
    "    items = []\n",
    "\n",
    "    # Estraggo gli ItemDef (che contengono gli attributi della condizione)\n",
    "    for item in root.findall('.//odm:ItemDef', ns):\n",
    "        item_data = {\n",
    "            'OID': item.get('OID'),\n",
    "            'Name': item.get('Name'),\n",
    "            'DataType': item.get('DataType'),\n",
    "            'Length': item.get('Length', 'N/A'),  # Alcuni elementi potrebbero non avere Length\n",
    "            'Description': item.find('.//odm:TranslatedText', ns).text if item.find('.//odm:TranslatedText', ns) is not None else 'N/A'\n",
    "        }\n",
    "\n",
    "        # Estraggo gli alias\n",
    "        aliases = [alias.get('Name') for alias in item.findall('.//odm:Alias', ns)]\n",
    "        item_data['Aliases'] = \", \".join(aliases) if aliases else 'N/A'\n",
    "\n",
    "        items.append(item_data)\n",
    "\n",
    "    # Convertiamo in DataFrame\n",
    "    df = pd.DataFrame(items)\n",
    "    return df"
   ],
   "id": "ba4eae7c8a9151ef",
   "outputs": [],
   "execution_count": 5
  },
  {
   "metadata": {
    "ExecuteTime": {
     "end_time": "2025-02-28T16:31:07.981103Z",
     "start_time": "2025-02-28T16:31:07.964500Z"
    }
   },
   "cell_type": "code",
   "source": [
    "# Esempio di utilizzo\n",
    "xml_file = \"esempi/Esempio.xml\"  # Sostituisci con il percorso corretto\n",
    "parsed_df = parse_odm_xml(xml_file)\n",
    "parsed_df.head(5)"
   ],
   "id": "6ac30161c8d81d0e",
   "outputs": [
    {
     "data": {
      "text/plain": [
       "   OID                     Name DataType Length  \\\n",
       "0  I.1  Condition Occurrence ID  integer    255   \n",
       "1  I.2                Person ID  integer    255   \n",
       "2  I.3     Condition concept ID  integer    255   \n",
       "3  I.4     Condition start date     date    N/A   \n",
       "4  I.5       Condition end date     date    N/A   \n",
       "\n",
       "                                         Description  \\\n",
       "0  A unique identifier for each condition occurre...   \n",
       "1  A foreign key identifier to the person who is\\...   \n",
       "2  A foreign key that refers to a standard condit...   \n",
       "3  The date when the instance of the condition is...   \n",
       "4  The date when the instance of the condition is...   \n",
       "\n",
       "                        Aliases  \n",
       "0  C0012634, C2745955, C1300638  \n",
       "1                      C2348585  \n",
       "2  C0012634, C0178566, C1300638  \n",
       "3            C0012634, C0011008  \n",
       "4            C0012634, C0011008  "
      ],
      "text/html": [
       "<div>\n",
       "<style scoped>\n",
       "    .dataframe tbody tr th:only-of-type {\n",
       "        vertical-align: middle;\n",
       "    }\n",
       "\n",
       "    .dataframe tbody tr th {\n",
       "        vertical-align: top;\n",
       "    }\n",
       "\n",
       "    .dataframe thead th {\n",
       "        text-align: right;\n",
       "    }\n",
       "</style>\n",
       "<table border=\"1\" class=\"dataframe\">\n",
       "  <thead>\n",
       "    <tr style=\"text-align: right;\">\n",
       "      <th></th>\n",
       "      <th>OID</th>\n",
       "      <th>Name</th>\n",
       "      <th>DataType</th>\n",
       "      <th>Length</th>\n",
       "      <th>Description</th>\n",
       "      <th>Aliases</th>\n",
       "    </tr>\n",
       "  </thead>\n",
       "  <tbody>\n",
       "    <tr>\n",
       "      <th>0</th>\n",
       "      <td>I.1</td>\n",
       "      <td>Condition Occurrence ID</td>\n",
       "      <td>integer</td>\n",
       "      <td>255</td>\n",
       "      <td>A unique identifier for each condition occurre...</td>\n",
       "      <td>C0012634, C2745955, C1300638</td>\n",
       "    </tr>\n",
       "    <tr>\n",
       "      <th>1</th>\n",
       "      <td>I.2</td>\n",
       "      <td>Person ID</td>\n",
       "      <td>integer</td>\n",
       "      <td>255</td>\n",
       "      <td>A foreign key identifier to the person who is\\...</td>\n",
       "      <td>C2348585</td>\n",
       "    </tr>\n",
       "    <tr>\n",
       "      <th>2</th>\n",
       "      <td>I.3</td>\n",
       "      <td>Condition concept ID</td>\n",
       "      <td>integer</td>\n",
       "      <td>255</td>\n",
       "      <td>A foreign key that refers to a standard condit...</td>\n",
       "      <td>C0012634, C0178566, C1300638</td>\n",
       "    </tr>\n",
       "    <tr>\n",
       "      <th>3</th>\n",
       "      <td>I.4</td>\n",
       "      <td>Condition start date</td>\n",
       "      <td>date</td>\n",
       "      <td>N/A</td>\n",
       "      <td>The date when the instance of the condition is...</td>\n",
       "      <td>C0012634, C0011008</td>\n",
       "    </tr>\n",
       "    <tr>\n",
       "      <th>4</th>\n",
       "      <td>I.5</td>\n",
       "      <td>Condition end date</td>\n",
       "      <td>date</td>\n",
       "      <td>N/A</td>\n",
       "      <td>The date when the instance of the condition is...</td>\n",
       "      <td>C0012634, C0011008</td>\n",
       "    </tr>\n",
       "  </tbody>\n",
       "</table>\n",
       "</div>"
      ]
     },
     "execution_count": 7,
     "metadata": {},
     "output_type": "execute_result"
    }
   ],
   "execution_count": 7
  },
  {
   "metadata": {
    "ExecuteTime": {
     "end_time": "2025-02-28T16:34:10.643571Z",
     "start_time": "2025-02-28T16:34:10.637331Z"
    }
   },
   "cell_type": "code",
   "source": "",
   "id": "5ac0d975bc3de3ac",
   "outputs": [
    {
     "ename": "SyntaxError",
     "evalue": "invalid syntax (4004104782.py, line 1)",
     "output_type": "error",
     "traceback": [
      "\u001B[1;36m  Cell \u001B[1;32mIn[8], line 1\u001B[1;36m\u001B[0m\n\u001B[1;33m    python get-codes-for-a-list-of-concepts.py -k YOUR_API_KEY -i cuis.txt -o output.txt -s SNOMEDCT_US\u001B[0m\n\u001B[1;37m           ^\u001B[0m\n\u001B[1;31mSyntaxError\u001B[0m\u001B[1;31m:\u001B[0m invalid syntax\n"
     ]
    }
   ],
   "execution_count": 8
  }
 ],
 "metadata": {
  "kernelspec": {
   "display_name": "Python 3",
   "language": "python",
   "name": "python3"
  },
  "language_info": {
   "codemirror_mode": {
    "name": "ipython",
    "version": 2
   },
   "file_extension": ".py",
   "mimetype": "text/x-python",
   "name": "python",
   "nbconvert_exporter": "python",
   "pygments_lexer": "ipython2",
   "version": "2.7.6"
  }
 },
 "nbformat": 4,
 "nbformat_minor": 5
}
