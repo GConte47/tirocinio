{
 "cells": [
  {
   "cell_type": "code",
   "execution_count": null,
   "id": "3645807b-bec2-418c-8e25-84ebf28f1db3",
   "metadata": {},
   "outputs": [],
   "source": []
  },
  {
   "cell_type": "code",
   "id": "bf4e2619-f4ad-4ba1-a85e-bc9aeb03a947",
   "metadata": {
    "ExecuteTime": {
     "end_time": "2025-03-20T15:37:45.804891Z",
     "start_time": "2025-03-20T15:37:42.215522Z"
    }
   },
   "source": [
    "import pandas as pd"
   ],
   "outputs": [],
   "execution_count": 1
  },
  {
   "cell_type": "markdown",
   "id": "c3f8ada1-4420-4306-8db7-c37f978eb081",
   "metadata": {},
   "source": [
    "# SCHEMI, ANNOTAZIONI, GS"
   ]
  },
  {
   "cell_type": "code",
   "execution_count": 6,
   "id": "07590bb2-757c-45b6-9f0a-bc03b473ba4a",
   "metadata": {},
   "outputs": [],
   "source": [
    "url = \"https://raw.githubusercontent.com/GConte47/tirocinio/master/df%20omap/files/SCHEMI.csv\"\n",
    "\n",
    "SCHEMI = pd.read_csv(url, delimiter=\",\")  # Cambia il delimitatore se non è \";\"\n",
    "\n",
    "url = \"https://raw.githubusercontent.com/GConte47/tirocinio/refs/heads/master/df%20omap/gold_standard.csv\"\n",
    "\n",
    "GS = pd.read_csv(url, delimiter= \",\")\n",
    "\n",
    "\n",
    "url = \"https://raw.githubusercontent.com/GConte47/tirocinio/refs/heads/master/df%20omap/files/medcat/Medcat_SNOMED_Df_CS_08_ANC.csv\"\n",
    "EsempioAnnotazione = pd.read_csv(url, delimiter=\",\")"
   ]
  },
  {
   "metadata": {
    "ExecuteTime": {
     "end_time": "2025-03-20T15:37:48.691397Z",
     "start_time": "2025-03-20T15:37:48.587957Z"
    }
   },
   "cell_type": "code",
   "source": [
    "#versione locale\n",
    "SCHEMI = pd.read_csv('files/SCHEMI.csv', delimiter=\",\")\n",
    "GS = pd.read_csv('files/gold_standard.csv', delimiter=\",\")\n",
    "EsempioAnnotazione = pd.read_csv('files/medcat/Medcat_SNOMED_Df_CS_08_ANC.csv', delimiter=\",\")"
   ],
   "id": "37bd84423270829a",
   "outputs": [],
   "execution_count": 2
  },
  {
   "cell_type": "code",
   "id": "e571e474-abb7-4911-9046-a23a96351fd6",
   "metadata": {
    "ExecuteTime": {
     "end_time": "2025-03-20T15:37:50.536096Z",
     "start_time": "2025-03-20T15:37:50.522410Z"
    }
   },
   "source": [
    "# controllo coerenza\n",
    "\n",
    "SCHEMI.columns, GS.columns"
   ],
   "outputs": [
    {
     "data": {
      "text/plain": [
       "(Index(['SOURCE', 'AttributoNomeCompleto', 'DescrizioneCompleta',\n",
       "        'DescrizioneTabella', 'DescrizioneAttributo', 'Tabella', 'Attributo'],\n",
       "       dtype='object'),\n",
       " Index(['TipoDiAnnotazione', 'Ontologies', 'Source', 'AttributoNomeCompleto',\n",
       "        'entity_id', 'pretty_name', 'cui'],\n",
       "       dtype='object'))"
      ]
     },
     "execution_count": 3,
     "metadata": {},
     "output_type": "execute_result"
    }
   ],
   "execution_count": 3
  },
  {
   "cell_type": "code",
   "id": "29b9a45e-9f9a-4938-9fda-041c57d81986",
   "metadata": {
    "ExecuteTime": {
     "end_time": "2025-03-20T15:38:01.060045Z",
     "start_time": "2025-03-20T15:38:01.049515Z"
    }
   },
   "source": [
    "# occorre   usare gli stessi attributi nomi per lo stesso concetto\n",
    "GS.rename(columns={\"Source\": \"SOURCE\"}, inplace=True)\n"
   ],
   "outputs": [],
   "execution_count": 4
  },
  {
   "cell_type": "code",
   "id": "37ec1def-1525-4b04-a34d-f43a4f5c3a1f",
   "metadata": {
    "ExecuteTime": {
     "end_time": "2025-03-20T15:38:07.080242Z",
     "start_time": "2025-03-20T15:38:07.048549Z"
    }
   },
   "source": [
    "# in GS 'SOURCE', 'AttributoNomeCompleto' deve essere una foreign key riferita a SCHEMI\n",
    "len(GS), len(pd.merge(GS,SCHEMI))"
   ],
   "outputs": [
    {
     "data": {
      "text/plain": [
       "(321, 180)"
      ]
     },
     "execution_count": 5,
     "metadata": {},
     "output_type": "execute_result"
    }
   ],
   "execution_count": 5
  },
  {
   "cell_type": "code",
   "id": "cde8bf4c-d6dd-4f97-a2a1-81d05b6f6e47",
   "metadata": {
    "ExecuteTime": {
     "end_time": "2025-03-20T15:38:10.315744Z",
     "start_time": "2025-03-20T15:38:10.280032Z"
    }
   },
   "source": [
    "diff = GS[['SOURCE', 'AttributoNomeCompleto']].merge(\n",
    "    SCHEMI[['SOURCE', 'AttributoNomeCompleto']],\n",
    "    on=['SOURCE', 'AttributoNomeCompleto'],\n",
    "    how='left',\n",
    "    indicator=True\n",
    ")\n",
    "\n",
    "# Seleziona solo le coppie presenti in GS ma non in SCHEMI\n",
    "not_in_schemi = diff[diff['_merge'] == 'left_only'].drop(columns=['_merge'])\n",
    "\n",
    "not_in_schemi"
   ],
   "outputs": [
    {
     "data": {
      "text/plain": [
       "    SOURCE     AttributoNomeCompleto\n",
       "0     OMOP         location-location\n",
       "1     OMOP         location-location\n",
       "2     OMOP         location-location\n",
       "3     OMOP         location-location\n",
       "4     OMOP         location-location\n",
       "..     ...                       ...\n",
       "251   OMOP  person-datetime_of_birth\n",
       "252   OMOP  person-datetime_of_death\n",
       "253   OMOP  person-datetime_of_death\n",
       "254   OMOP  person-datetime_of_death\n",
       "255   OMOP  person-datetime_of_death\n",
       "\n",
       "[141 rows x 2 columns]"
      ],
      "text/html": [
       "<div>\n",
       "<style scoped>\n",
       "    .dataframe tbody tr th:only-of-type {\n",
       "        vertical-align: middle;\n",
       "    }\n",
       "\n",
       "    .dataframe tbody tr th {\n",
       "        vertical-align: top;\n",
       "    }\n",
       "\n",
       "    .dataframe thead th {\n",
       "        text-align: right;\n",
       "    }\n",
       "</style>\n",
       "<table border=\"1\" class=\"dataframe\">\n",
       "  <thead>\n",
       "    <tr style=\"text-align: right;\">\n",
       "      <th></th>\n",
       "      <th>SOURCE</th>\n",
       "      <th>AttributoNomeCompleto</th>\n",
       "    </tr>\n",
       "  </thead>\n",
       "  <tbody>\n",
       "    <tr>\n",
       "      <th>0</th>\n",
       "      <td>OMOP</td>\n",
       "      <td>location-location</td>\n",
       "    </tr>\n",
       "    <tr>\n",
       "      <th>1</th>\n",
       "      <td>OMOP</td>\n",
       "      <td>location-location</td>\n",
       "    </tr>\n",
       "    <tr>\n",
       "      <th>2</th>\n",
       "      <td>OMOP</td>\n",
       "      <td>location-location</td>\n",
       "    </tr>\n",
       "    <tr>\n",
       "      <th>3</th>\n",
       "      <td>OMOP</td>\n",
       "      <td>location-location</td>\n",
       "    </tr>\n",
       "    <tr>\n",
       "      <th>4</th>\n",
       "      <td>OMOP</td>\n",
       "      <td>location-location</td>\n",
       "    </tr>\n",
       "    <tr>\n",
       "      <th>...</th>\n",
       "      <td>...</td>\n",
       "      <td>...</td>\n",
       "    </tr>\n",
       "    <tr>\n",
       "      <th>251</th>\n",
       "      <td>OMOP</td>\n",
       "      <td>person-datetime_of_birth</td>\n",
       "    </tr>\n",
       "    <tr>\n",
       "      <th>252</th>\n",
       "      <td>OMOP</td>\n",
       "      <td>person-datetime_of_death</td>\n",
       "    </tr>\n",
       "    <tr>\n",
       "      <th>253</th>\n",
       "      <td>OMOP</td>\n",
       "      <td>person-datetime_of_death</td>\n",
       "    </tr>\n",
       "    <tr>\n",
       "      <th>254</th>\n",
       "      <td>OMOP</td>\n",
       "      <td>person-datetime_of_death</td>\n",
       "    </tr>\n",
       "    <tr>\n",
       "      <th>255</th>\n",
       "      <td>OMOP</td>\n",
       "      <td>person-datetime_of_death</td>\n",
       "    </tr>\n",
       "  </tbody>\n",
       "</table>\n",
       "<p>141 rows × 2 columns</p>\n",
       "</div>"
      ]
     },
     "execution_count": 6,
     "metadata": {},
     "output_type": "execute_result"
    }
   ],
   "execution_count": 6
  },
  {
   "cell_type": "code",
   "id": "22327bd5-c514-4558-be02-15d7e5e56956",
   "metadata": {
    "ExecuteTime": {
     "end_time": "2025-03-20T15:38:31.409421Z",
     "start_time": "2025-03-20T15:38:31.387417Z"
    }
   },
   "source": [
    "diff = GS[['SOURCE', 'AttributoNomeCompleto']].merge(\n",
    "    SCHEMI[['SOURCE', 'AttributoNomeCompleto']],\n",
    "    on=[ 'AttributoNomeCompleto'],\n",
    "    how='left',\n",
    "    indicator=True\n",
    ")\n",
    "\n",
    "# Seleziona solo le coppie presenti in GS ma non in SCHEMI\n",
    "diff[diff['_merge'] == 'left_only'].drop(columns=['_merge'])"
   ],
   "outputs": [
    {
     "data": {
      "text/plain": [
       "    SOURCE_x     AttributoNomeCompleto SOURCE_y\n",
       "0       OMOP         location-location      NaN\n",
       "1       OMOP         location-location      NaN\n",
       "2       OMOP         location-location      NaN\n",
       "3       OMOP         location-location      NaN\n",
       "4       OMOP         location-location      NaN\n",
       "..       ...                       ...      ...\n",
       "251     OMOP  person-datetime_of_birth      NaN\n",
       "252     OMOP  person-datetime_of_death      NaN\n",
       "253     OMOP  person-datetime_of_death      NaN\n",
       "254     OMOP  person-datetime_of_death      NaN\n",
       "255     OMOP  person-datetime_of_death      NaN\n",
       "\n",
       "[141 rows x 3 columns]"
      ],
      "text/html": [
       "<div>\n",
       "<style scoped>\n",
       "    .dataframe tbody tr th:only-of-type {\n",
       "        vertical-align: middle;\n",
       "    }\n",
       "\n",
       "    .dataframe tbody tr th {\n",
       "        vertical-align: top;\n",
       "    }\n",
       "\n",
       "    .dataframe thead th {\n",
       "        text-align: right;\n",
       "    }\n",
       "</style>\n",
       "<table border=\"1\" class=\"dataframe\">\n",
       "  <thead>\n",
       "    <tr style=\"text-align: right;\">\n",
       "      <th></th>\n",
       "      <th>SOURCE_x</th>\n",
       "      <th>AttributoNomeCompleto</th>\n",
       "      <th>SOURCE_y</th>\n",
       "    </tr>\n",
       "  </thead>\n",
       "  <tbody>\n",
       "    <tr>\n",
       "      <th>0</th>\n",
       "      <td>OMOP</td>\n",
       "      <td>location-location</td>\n",
       "      <td>NaN</td>\n",
       "    </tr>\n",
       "    <tr>\n",
       "      <th>1</th>\n",
       "      <td>OMOP</td>\n",
       "      <td>location-location</td>\n",
       "      <td>NaN</td>\n",
       "    </tr>\n",
       "    <tr>\n",
       "      <th>2</th>\n",
       "      <td>OMOP</td>\n",
       "      <td>location-location</td>\n",
       "      <td>NaN</td>\n",
       "    </tr>\n",
       "    <tr>\n",
       "      <th>3</th>\n",
       "      <td>OMOP</td>\n",
       "      <td>location-location</td>\n",
       "      <td>NaN</td>\n",
       "    </tr>\n",
       "    <tr>\n",
       "      <th>4</th>\n",
       "      <td>OMOP</td>\n",
       "      <td>location-location</td>\n",
       "      <td>NaN</td>\n",
       "    </tr>\n",
       "    <tr>\n",
       "      <th>...</th>\n",
       "      <td>...</td>\n",
       "      <td>...</td>\n",
       "      <td>...</td>\n",
       "    </tr>\n",
       "    <tr>\n",
       "      <th>251</th>\n",
       "      <td>OMOP</td>\n",
       "      <td>person-datetime_of_birth</td>\n",
       "      <td>NaN</td>\n",
       "    </tr>\n",
       "    <tr>\n",
       "      <th>252</th>\n",
       "      <td>OMOP</td>\n",
       "      <td>person-datetime_of_death</td>\n",
       "      <td>NaN</td>\n",
       "    </tr>\n",
       "    <tr>\n",
       "      <th>253</th>\n",
       "      <td>OMOP</td>\n",
       "      <td>person-datetime_of_death</td>\n",
       "      <td>NaN</td>\n",
       "    </tr>\n",
       "    <tr>\n",
       "      <th>254</th>\n",
       "      <td>OMOP</td>\n",
       "      <td>person-datetime_of_death</td>\n",
       "      <td>NaN</td>\n",
       "    </tr>\n",
       "    <tr>\n",
       "      <th>255</th>\n",
       "      <td>OMOP</td>\n",
       "      <td>person-datetime_of_death</td>\n",
       "      <td>NaN</td>\n",
       "    </tr>\n",
       "  </tbody>\n",
       "</table>\n",
       "<p>141 rows × 3 columns</p>\n",
       "</div>"
      ]
     },
     "execution_count": 7,
     "metadata": {},
     "output_type": "execute_result"
    }
   ],
   "execution_count": 7
  },
  {
   "cell_type": "code",
   "id": "3d9dac0d-3150-43a2-8788-bc186fe691db",
   "metadata": {
    "ExecuteTime": {
     "end_time": "2025-03-20T15:39:12.765334Z",
     "start_time": "2025-03-20T15:39:12.745166Z"
    }
   },
   "source": [
    "# vediamo perchè mancano\n",
    "SCHEMI[SCHEMI['AttributoNomeCompleto'].str.contains('location', na=False, case=False)]"
   ],
   "outputs": [
    {
     "data": {
      "text/plain": [
       "    SOURCE           AttributoNomeCompleto  \\\n",
       "9     OMOP              person-location_id   \n",
       "127   OMOP            location-location_id   \n",
       "128   OMOP              location-address_1   \n",
       "129   OMOP              location-address_2   \n",
       "130   OMOP                   location-city   \n",
       "131   OMOP                  location-state   \n",
       "132   OMOP                    location-zip   \n",
       "133   OMOP                 location-county   \n",
       "134   OMOP  location-location_source_value   \n",
       "240   OMOP           care_site-location_id   \n",
       "480  Mimic   admissions-admission_location   \n",
       "\n",
       "                                   DescrizioneCompleta  \\\n",
       "9    the person domain contains records that unique...   \n",
       "127  the location table represents a generic way to...   \n",
       "128  the location table represents a generic way to...   \n",
       "129  the location table represents a generic way to...   \n",
       "130  the location table represents a generic way to...   \n",
       "131  the location table represents a generic way to...   \n",
       "132  the location table represents a generic way to...   \n",
       "133  the location table represents a generic way to...   \n",
       "134  the location table represents a generic way to...   \n",
       "240  the care_site table contains a list of uniquel...   \n",
       "480  the admissions table gives information regardi...   \n",
       "\n",
       "                                    DescrizioneTabella  \\\n",
       "9    the person domain contains records that unique...   \n",
       "127  the location table represents a generic way to...   \n",
       "128  the location table represents a generic way to...   \n",
       "129  the location table represents a generic way to...   \n",
       "130  the location table represents a generic way to...   \n",
       "131  the location table represents a generic way to...   \n",
       "132  the location table represents a generic way to...   \n",
       "133  the location table represents a generic way to...   \n",
       "134  the location table represents a generic way to...   \n",
       "240  the care_site table contains a list of uniquel...   \n",
       "480  the admissions table gives information regardi...   \n",
       "\n",
       "                                  DescrizioneAttributo     Tabella  \\\n",
       "9    a foreign key to the place of residency for th...      person   \n",
       "127  a unique identifier for each geographic location.    location   \n",
       "128  the address field 1, typically used for the st...    location   \n",
       "129  the address field 2, typically used for additi...    location   \n",
       "130   the city field as it appears in the source data.    location   \n",
       "131  the state field as it appears in the source data.    location   \n",
       "132                            the zip or postal code.    location   \n",
       "133                                        the county.    location   \n",
       "134  the verbatim information that is used to uniqu...    location   \n",
       "240  a foreign key to the geographic location in th...   care_site   \n",
       "480  admission_location provides information about ...  admissions   \n",
       "\n",
       "                 Attributo  \n",
       "9              location_id  \n",
       "127            location_id  \n",
       "128              address_1  \n",
       "129              address_2  \n",
       "130                   city  \n",
       "131                  state  \n",
       "132                    zip  \n",
       "133                 county  \n",
       "134  location_source_value  \n",
       "240            location_id  \n",
       "480     admission_location  "
      ],
      "text/html": [
       "<div>\n",
       "<style scoped>\n",
       "    .dataframe tbody tr th:only-of-type {\n",
       "        vertical-align: middle;\n",
       "    }\n",
       "\n",
       "    .dataframe tbody tr th {\n",
       "        vertical-align: top;\n",
       "    }\n",
       "\n",
       "    .dataframe thead th {\n",
       "        text-align: right;\n",
       "    }\n",
       "</style>\n",
       "<table border=\"1\" class=\"dataframe\">\n",
       "  <thead>\n",
       "    <tr style=\"text-align: right;\">\n",
       "      <th></th>\n",
       "      <th>SOURCE</th>\n",
       "      <th>AttributoNomeCompleto</th>\n",
       "      <th>DescrizioneCompleta</th>\n",
       "      <th>DescrizioneTabella</th>\n",
       "      <th>DescrizioneAttributo</th>\n",
       "      <th>Tabella</th>\n",
       "      <th>Attributo</th>\n",
       "    </tr>\n",
       "  </thead>\n",
       "  <tbody>\n",
       "    <tr>\n",
       "      <th>9</th>\n",
       "      <td>OMOP</td>\n",
       "      <td>person-location_id</td>\n",
       "      <td>the person domain contains records that unique...</td>\n",
       "      <td>the person domain contains records that unique...</td>\n",
       "      <td>a foreign key to the place of residency for th...</td>\n",
       "      <td>person</td>\n",
       "      <td>location_id</td>\n",
       "    </tr>\n",
       "    <tr>\n",
       "      <th>127</th>\n",
       "      <td>OMOP</td>\n",
       "      <td>location-location_id</td>\n",
       "      <td>the location table represents a generic way to...</td>\n",
       "      <td>the location table represents a generic way to...</td>\n",
       "      <td>a unique identifier for each geographic location.</td>\n",
       "      <td>location</td>\n",
       "      <td>location_id</td>\n",
       "    </tr>\n",
       "    <tr>\n",
       "      <th>128</th>\n",
       "      <td>OMOP</td>\n",
       "      <td>location-address_1</td>\n",
       "      <td>the location table represents a generic way to...</td>\n",
       "      <td>the location table represents a generic way to...</td>\n",
       "      <td>the address field 1, typically used for the st...</td>\n",
       "      <td>location</td>\n",
       "      <td>address_1</td>\n",
       "    </tr>\n",
       "    <tr>\n",
       "      <th>129</th>\n",
       "      <td>OMOP</td>\n",
       "      <td>location-address_2</td>\n",
       "      <td>the location table represents a generic way to...</td>\n",
       "      <td>the location table represents a generic way to...</td>\n",
       "      <td>the address field 2, typically used for additi...</td>\n",
       "      <td>location</td>\n",
       "      <td>address_2</td>\n",
       "    </tr>\n",
       "    <tr>\n",
       "      <th>130</th>\n",
       "      <td>OMOP</td>\n",
       "      <td>location-city</td>\n",
       "      <td>the location table represents a generic way to...</td>\n",
       "      <td>the location table represents a generic way to...</td>\n",
       "      <td>the city field as it appears in the source data.</td>\n",
       "      <td>location</td>\n",
       "      <td>city</td>\n",
       "    </tr>\n",
       "    <tr>\n",
       "      <th>131</th>\n",
       "      <td>OMOP</td>\n",
       "      <td>location-state</td>\n",
       "      <td>the location table represents a generic way to...</td>\n",
       "      <td>the location table represents a generic way to...</td>\n",
       "      <td>the state field as it appears in the source data.</td>\n",
       "      <td>location</td>\n",
       "      <td>state</td>\n",
       "    </tr>\n",
       "    <tr>\n",
       "      <th>132</th>\n",
       "      <td>OMOP</td>\n",
       "      <td>location-zip</td>\n",
       "      <td>the location table represents a generic way to...</td>\n",
       "      <td>the location table represents a generic way to...</td>\n",
       "      <td>the zip or postal code.</td>\n",
       "      <td>location</td>\n",
       "      <td>zip</td>\n",
       "    </tr>\n",
       "    <tr>\n",
       "      <th>133</th>\n",
       "      <td>OMOP</td>\n",
       "      <td>location-county</td>\n",
       "      <td>the location table represents a generic way to...</td>\n",
       "      <td>the location table represents a generic way to...</td>\n",
       "      <td>the county.</td>\n",
       "      <td>location</td>\n",
       "      <td>county</td>\n",
       "    </tr>\n",
       "    <tr>\n",
       "      <th>134</th>\n",
       "      <td>OMOP</td>\n",
       "      <td>location-location_source_value</td>\n",
       "      <td>the location table represents a generic way to...</td>\n",
       "      <td>the location table represents a generic way to...</td>\n",
       "      <td>the verbatim information that is used to uniqu...</td>\n",
       "      <td>location</td>\n",
       "      <td>location_source_value</td>\n",
       "    </tr>\n",
       "    <tr>\n",
       "      <th>240</th>\n",
       "      <td>OMOP</td>\n",
       "      <td>care_site-location_id</td>\n",
       "      <td>the care_site table contains a list of uniquel...</td>\n",
       "      <td>the care_site table contains a list of uniquel...</td>\n",
       "      <td>a foreign key to the geographic location in th...</td>\n",
       "      <td>care_site</td>\n",
       "      <td>location_id</td>\n",
       "    </tr>\n",
       "    <tr>\n",
       "      <th>480</th>\n",
       "      <td>Mimic</td>\n",
       "      <td>admissions-admission_location</td>\n",
       "      <td>the admissions table gives information regardi...</td>\n",
       "      <td>the admissions table gives information regardi...</td>\n",
       "      <td>admission_location provides information about ...</td>\n",
       "      <td>admissions</td>\n",
       "      <td>admission_location</td>\n",
       "    </tr>\n",
       "  </tbody>\n",
       "</table>\n",
       "</div>"
      ]
     },
     "execution_count": 8,
     "metadata": {},
     "output_type": "execute_result"
    }
   ],
   "execution_count": 8
  },
  {
   "cell_type": "code",
   "execution_count": 21,
   "id": "8ccd8705-a2e9-4106-93d6-bc359d7b5f13",
   "metadata": {},
   "outputs": [],
   "source": [
    "# location-location \t dovrebbe corrispondere a location-location_id\n",
    "# RISPOSTA= location-location in realtà dovrebbe corrispondere solo a location dato che i codici sono corrispondenti alla tabella principale.\n",
    "\n",
    "# location-address \tpossiamo dire che corrisponde a location-address_1\n",
    "#RISPOSTA= no, corrisponde a location address_1 e address_2. è un errore mio che li ho omessi per sbaglio dal gold standard (PROBLEMA RISOLTO)\n",
    "\n",
    "# location-location_source-value \t c'è anche in SCHEMI location-location_source_value, forse c'è qualche carattere strano nella stringa\n",
    "# vedi con chatGPT come controllare\n",
    "# anche qui un mio errore di battitura. l'errore è che anzichè mettere '_' ho messo '-' (PROBLEMA RISOLTO)\n"
   ]
  },
  {
   "cell_type": "code",
   "execution_count": null,
   "id": "a3bd8ca1-4fa0-4f8e-81a8-f8fcfab1212e",
   "metadata": {},
   "outputs": [],
   "source": [
    "### 1) da fare : dopo aver sistemato questi casi\n",
    "### riprendere il notebook     tirocinio/df omap/PerControllare.ipynb\n",
    "### per controllare di quanti elementi abbiamo il relativo gold standard\n"
   ]
  },
  {
   "cell_type": "code",
   "execution_count": null,
   "id": "07b4e13a-0a8f-4184-92d2-9d828bd74ce8",
   "metadata": {},
   "outputs": [],
   "source": []
  },
  {
   "cell_type": "code",
   "execution_count": null,
   "id": "194e4c71-bf44-4197-9048-9d78825b9bb0",
   "metadata": {},
   "outputs": [],
   "source": [
    "### ora consideriamo le annotazioni"
   ]
  },
  {
   "cell_type": "code",
   "id": "2cd86b51-9bf9-437c-b78e-64e7cdbbaf8e",
   "metadata": {
    "ExecuteTime": {
     "end_time": "2025-03-20T15:54:47.371489Z",
     "start_time": "2025-03-20T15:54:47.362546Z"
    }
   },
   "source": [
    "# controllo coerenza per EsempioAnnotazione\n",
    "EsempioAnnotazione.columns"
   ],
   "outputs": [
    {
     "data": {
      "text/plain": [
       "Index(['TipoDiAnnotazione', 'ontologies', 'SOURCE', 'AttributoNomeCompleto',\n",
       "       'entity_id', 'pretty_name', 'cui', 'type_ids', 'types', 'source_value',\n",
       "       'detected_name', 'acc', 'context_similarity'],\n",
       "      dtype='object')"
      ]
     },
     "execution_count": 9,
     "metadata": {},
     "output_type": "execute_result"
    }
   ],
   "execution_count": 9
  },
  {
   "cell_type": "code",
   "id": "25d610ca-f7fe-4c84-8c47-623e20f02e18",
   "metadata": {
    "ExecuteTime": {
     "end_time": "2025-03-20T15:54:49.929746Z",
     "start_time": "2025-03-20T15:54:49.912952Z"
    }
   },
   "source": [
    "# in EsempioAnnotazione 'SOURCE', 'AttributoNomeCompleto' deve essere una foreign key riferita a SCHEMI\n",
    "len(EsempioAnnotazione), len(pd.merge(EsempioAnnotazione,SCHEMI))"
   ],
   "outputs": [
    {
     "data": {
      "text/plain": [
       "(5031, 5031)"
      ]
     },
     "execution_count": 10,
     "metadata": {},
     "output_type": "execute_result"
    }
   ],
   "execution_count": 10
  },
  {
   "cell_type": "code",
   "execution_count": null,
   "id": "10543158-500e-42de-9ce9-9583a4322897",
   "metadata": {},
   "outputs": [],
   "source": [
    "# ok"
   ]
  },
  {
   "cell_type": "code",
   "execution_count": null,
   "id": "7dd6c3d2-6930-4926-afeb-64d352ebc8c0",
   "metadata": {},
   "outputs": [],
   "source": []
  },
  {
   "cell_type": "code",
   "execution_count": 22,
   "id": "04bf76d0-5be6-46e4-92ce-da59b3a6b75f",
   "metadata": {},
   "outputs": [],
   "source": [
    "### METTERE TUTTE LE ANNOTAZIONI FATTE in un unico file\n",
    "### e ripetere il controllo precedente\n",
    "### ora ovviamente stiamo considerando tutti gli schemi non solo OMOP\n",
    "\n",
    "\n",
    "\n",
    "\n",
    "\n",
    "\n"
   ]
  },
  {
   "cell_type": "code",
   "id": "73fddb8a-d5bf-4750-b0a7-4236c83d0796",
   "metadata": {
    "ExecuteTime": {
     "end_time": "2025-03-20T16:34:44.373549Z",
     "start_time": "2025-03-20T16:34:42.733108Z"
    }
   },
   "source": [
    "#### Leggere il file delle annotazioni rispetto a BioPOrtal che avevo fatto io\n",
    "AnnotazioniConBioportal=pd.read_csv(\"http://dbgroup.ing.unimore.it/OMAP/AnnotazioniConBioportal.csv\")\n",
    "# controllo coerenza con schemi\n",
    "len(AnnotazioniConBioportal), len(pd.merge(AnnotazioniConBioportal,SCHEMI))"
   ],
   "outputs": [
    {
     "data": {
      "text/plain": [
       "(12694, 12694)"
      ]
     },
     "execution_count": 26,
     "metadata": {},
     "output_type": "execute_result"
    }
   ],
   "execution_count": 26
  },
  {
   "cell_type": "code",
   "id": "ee081868-f295-450c-af79-75ee0f001203",
   "metadata": {
    "ExecuteTime": {
     "end_time": "2025-03-20T16:34:48.099149Z",
     "start_time": "2025-03-20T16:34:48.067683Z"
    }
   },
   "source": [
    "# avevo considerato solo OMOP\n",
    "AnnotazioniConBioportal.groupby('SOURCE').agg(\n",
    "    num_distinct_AttributoNomeCompleto=('AttributoNomeCompleto', 'nunique'),\n",
    "    num_distinct_TipoDiAnnotazione=('TipoDiAnnotazione', 'nunique'),\n",
    "    num_distinct_Ontologia=('Ontologia', 'nunique'),\n",
    "    num_distinct_Codice=('Codice', 'nunique'),\n",
    "    mean_codice_per_attributo=('Codice', lambda x: x.nunique() / x.groupby(AnnotazioniConBioportal['AttributoNomeCompleto']).ngroup().nunique())\n",
    ")\n"
   ],
   "outputs": [
    {
     "data": {
      "text/plain": [
       "        num_distinct_AttributoNomeCompleto  num_distinct_TipoDiAnnotazione  \\\n",
       "SOURCE                                                                       \n",
       "OMOP                                   267                               4   \n",
       "\n",
       "        num_distinct_Ontologia  num_distinct_Codice  mean_codice_per_attributo  \n",
       "SOURCE                                                                          \n",
       "OMOP                         2                  604                   2.262172  "
      ],
      "text/html": [
       "<div>\n",
       "<style scoped>\n",
       "    .dataframe tbody tr th:only-of-type {\n",
       "        vertical-align: middle;\n",
       "    }\n",
       "\n",
       "    .dataframe tbody tr th {\n",
       "        vertical-align: top;\n",
       "    }\n",
       "\n",
       "    .dataframe thead th {\n",
       "        text-align: right;\n",
       "    }\n",
       "</style>\n",
       "<table border=\"1\" class=\"dataframe\">\n",
       "  <thead>\n",
       "    <tr style=\"text-align: right;\">\n",
       "      <th></th>\n",
       "      <th>num_distinct_AttributoNomeCompleto</th>\n",
       "      <th>num_distinct_TipoDiAnnotazione</th>\n",
       "      <th>num_distinct_Ontologia</th>\n",
       "      <th>num_distinct_Codice</th>\n",
       "      <th>mean_codice_per_attributo</th>\n",
       "    </tr>\n",
       "    <tr>\n",
       "      <th>SOURCE</th>\n",
       "      <th></th>\n",
       "      <th></th>\n",
       "      <th></th>\n",
       "      <th></th>\n",
       "      <th></th>\n",
       "    </tr>\n",
       "  </thead>\n",
       "  <tbody>\n",
       "    <tr>\n",
       "      <th>OMOP</th>\n",
       "      <td>267</td>\n",
       "      <td>4</td>\n",
       "      <td>2</td>\n",
       "      <td>604</td>\n",
       "      <td>2.262172</td>\n",
       "    </tr>\n",
       "  </tbody>\n",
       "</table>\n",
       "</div>"
      ]
     },
     "execution_count": 27,
     "metadata": {},
     "output_type": "execute_result"
    }
   ],
   "execution_count": 27
  },
  {
   "cell_type": "code",
   "id": "1c5d850c-0d10-42f0-beb2-5604089e9458",
   "metadata": {
    "ExecuteTime": {
     "end_time": "2025-03-20T16:34:50.973833Z",
     "start_time": "2025-03-20T16:34:50.967380Z"
    }
   },
   "source": [
    "AnnotazioniConBioportal.columns"
   ],
   "outputs": [
    {
     "data": {
      "text/plain": [
       "Index(['TipoDiAnnotazione', 'Ontologia', 'SOURCE', 'AttributoNomeCompleto',\n",
       "       'NumProg', 'Elemento', 'Codice', 'Description'],\n",
       "      dtype='object')"
      ]
     },
     "execution_count": 28,
     "metadata": {},
     "output_type": "execute_result"
    }
   ],
   "execution_count": 28
  },
  {
   "metadata": {
    "ExecuteTime": {
     "end_time": "2025-03-20T15:57:51.568327Z",
     "start_time": "2025-03-20T15:57:51.508271Z"
    }
   },
   "cell_type": "code",
   "source": [
    "annotazioniMedcat = pd.read_csv('files/annotazioni.csv', delimiter=\",\")\n",
    "annotazioniMedcat.columns"
   ],
   "id": "62a3d8c586d6f9e1",
   "outputs": [
    {
     "data": {
      "text/plain": [
       "Index(['TipoDiAnnotazione', 'ontologies', 'SOURCE', 'AttributoNomeCompleto',\n",
       "       'entity_id', 'pretty_name', 'cui'],\n",
       "      dtype='object')"
      ]
     },
     "execution_count": 16,
     "metadata": {},
     "output_type": "execute_result"
    }
   ],
   "execution_count": 16
  },
  {
   "cell_type": "code",
   "id": "2089ce35-1265-47a2-b043-1dd30e16e5c7",
   "metadata": {
    "ExecuteTime": {
     "end_time": "2025-03-20T15:55:37.369730Z",
     "start_time": "2025-03-20T15:55:37.361693Z"
    }
   },
   "source": [
    "## per mettere assieme tutto e confrontarle occorre uniformare i nomi di questi attributi\n",
    "## con quelle delle tue annotazioni di medcat\n",
    "\n",
    "EsempioAnnotazione.columns\n",
    "\n",
    "\n",
    "\n"
   ],
   "outputs": [
    {
     "data": {
      "text/plain": [
       "Index(['TipoDiAnnotazione', 'ontologies', 'SOURCE', 'AttributoNomeCompleto',\n",
       "       'entity_id', 'pretty_name', 'cui', 'type_ids', 'types', 'source_value',\n",
       "       'detected_name', 'acc', 'context_similarity'],\n",
       "      dtype='object')"
      ]
     },
     "execution_count": 14,
     "metadata": {},
     "output_type": "execute_result"
    }
   ],
   "execution_count": 14
  },
  {
   "cell_type": "code",
   "execution_count": 31,
   "id": "31fb102c-959a-4fc9-9a16-96aee77532b2",
   "metadata": {},
   "outputs": [],
   "source": [
    "## controlla e dicidi tu quali nomi tenere\n",
    "## a me sembra che\n",
    "## entity_id --> è il numero progressivo  NumProg per 'TipoDiAnnotazione', 'Ontologia', 'SOURCE', 'AttributoNomeCompleto',\n",
    "\n",
    "## cui --> Codice  sono i codici dei concetti\n",
    "\n",
    "## pretty_name --> Description  sono i nomi dei concetti\n",
    "\n",
    "## 'source_value' --> Elemento   ??\n",
    "\n",
    "## altri elementi delle annotazioni di medcat ('acc', 'context_similarity', ...) non hanno corrispodenza in Bioportal e quindi per queste assumeranno valore nullo "
   ]
  },
  {
   "cell_type": "code",
   "execution_count": 32,
   "id": "df51fdf9-d7c6-409e-ba4d-8a9b5d4f0b4b",
   "metadata": {},
   "outputs": [
    {
     "data": {
      "text/html": [
       "<div>\n",
       "<style scoped>\n",
       "    .dataframe tbody tr th:only-of-type {\n",
       "        vertical-align: middle;\n",
       "    }\n",
       "\n",
       "    .dataframe tbody tr th {\n",
       "        vertical-align: top;\n",
       "    }\n",
       "\n",
       "    .dataframe thead th {\n",
       "        text-align: right;\n",
       "    }\n",
       "</style>\n",
       "<table border=\"1\" class=\"dataframe\">\n",
       "  <thead>\n",
       "    <tr style=\"text-align: right;\">\n",
       "      <th></th>\n",
       "      <th>TipoDiAnnotazione</th>\n",
       "      <th>ontologies</th>\n",
       "      <th>SOURCE</th>\n",
       "      <th>AttributoNomeCompleto</th>\n",
       "      <th>entity_id</th>\n",
       "      <th>pretty_name</th>\n",
       "      <th>cui</th>\n",
       "      <th>type_ids</th>\n",
       "      <th>types</th>\n",
       "      <th>source_value</th>\n",
       "      <th>detected_name</th>\n",
       "      <th>acc</th>\n",
       "      <th>context_similarity</th>\n",
       "    </tr>\n",
       "  </thead>\n",
       "  <tbody>\n",
       "    <tr>\n",
       "      <th>0</th>\n",
       "      <td>Medcat_SNOMED_Df_CS_08_ANC</td>\n",
       "      <td>SNOMED-CT</td>\n",
       "      <td>Csm</td>\n",
       "      <td>beneficiarysummary-bene_birth_dt</td>\n",
       "      <td>1</td>\n",
       "      <td>Date of birth</td>\n",
       "      <td>184099003</td>\n",
       "      <td>['2680757']</td>\n",
       "      <td>['observable entity']</td>\n",
       "      <td>date of birth</td>\n",
       "      <td>date~of~birth</td>\n",
       "      <td>1.00</td>\n",
       "      <td>1.00</td>\n",
       "    </tr>\n",
       "    <tr>\n",
       "      <th>1</th>\n",
       "      <td>Medcat_SNOMED_Df_CS_08_ANC</td>\n",
       "      <td>SNOMED-CT</td>\n",
       "      <td>Csm</td>\n",
       "      <td>beneficiarysummary-bene_death_dt</td>\n",
       "      <td>1</td>\n",
       "      <td>Date of death</td>\n",
       "      <td>399753006</td>\n",
       "      <td>['2680757']</td>\n",
       "      <td>['observable entity']</td>\n",
       "      <td>date of death</td>\n",
       "      <td>date~of~death</td>\n",
       "      <td>1.00</td>\n",
       "      <td>1.00</td>\n",
       "    </tr>\n",
       "    <tr>\n",
       "      <th>2</th>\n",
       "      <td>Medcat_SNOMED_Df_CS_08_ANC</td>\n",
       "      <td>SNOMED-CT</td>\n",
       "      <td>Csm</td>\n",
       "      <td>beneficiarysummary-bene_esrd_ind</td>\n",
       "      <td>2</td>\n",
       "      <td>End-stage renal disease</td>\n",
       "      <td>46177005</td>\n",
       "      <td>['9090192']</td>\n",
       "      <td>['disorder']</td>\n",
       "      <td>end stage renal disease</td>\n",
       "      <td>end~stage~renal~disease</td>\n",
       "      <td>1.00</td>\n",
       "      <td>1.00</td>\n",
       "    </tr>\n",
       "    <tr>\n",
       "      <th>3</th>\n",
       "      <td>Medcat_SNOMED_Df_CS_08_ANC</td>\n",
       "      <td>SNOMED-CT</td>\n",
       "      <td>Csm</td>\n",
       "      <td>beneficiarysummary-sp_state_code</td>\n",
       "      <td>0</td>\n",
       "      <td>State</td>\n",
       "      <td>398070004</td>\n",
       "      <td>['75168589']</td>\n",
       "      <td>['environment']</td>\n",
       "      <td>state</td>\n",
       "      <td>state</td>\n",
       "      <td>1.00</td>\n",
       "      <td>1.00</td>\n",
       "    </tr>\n",
       "    <tr>\n",
       "      <th>4</th>\n",
       "      <td>Medcat_SNOMED_Df_CS_08_ANC</td>\n",
       "      <td>SNOMED-CT</td>\n",
       "      <td>Csm</td>\n",
       "      <td>beneficiarysummary-bene_hi_cvrage_tot_mons</td>\n",
       "      <td>0</td>\n",
       "      <td>Total</td>\n",
       "      <td>255619001</td>\n",
       "      <td>['7882689']</td>\n",
       "      <td>['qualifier value']</td>\n",
       "      <td>total</td>\n",
       "      <td>total</td>\n",
       "      <td>0.99</td>\n",
       "      <td>0.99</td>\n",
       "    </tr>\n",
       "    <tr>\n",
       "      <th>...</th>\n",
       "      <td>...</td>\n",
       "      <td>...</td>\n",
       "      <td>...</td>\n",
       "      <td>...</td>\n",
       "      <td>...</td>\n",
       "      <td>...</td>\n",
       "      <td>...</td>\n",
       "      <td>...</td>\n",
       "      <td>...</td>\n",
       "      <td>...</td>\n",
       "      <td>...</td>\n",
       "      <td>...</td>\n",
       "      <td>...</td>\n",
       "    </tr>\n",
       "    <tr>\n",
       "      <th>5026</th>\n",
       "      <td>Medcat_SNOMED_Df_CS_08_ANC</td>\n",
       "      <td>SNOMED-CT</td>\n",
       "      <td>Synthea</td>\n",
       "      <td>providers-state</td>\n",
       "      <td>5</td>\n",
       "      <td>Abbreviation</td>\n",
       "      <td>398223008</td>\n",
       "      <td>['7882689']</td>\n",
       "      <td>['qualifier value']</td>\n",
       "      <td>abbreviation</td>\n",
       "      <td>abbreviation</td>\n",
       "      <td>1.00</td>\n",
       "      <td>1.00</td>\n",
       "    </tr>\n",
       "    <tr>\n",
       "      <th>5027</th>\n",
       "      <td>Medcat_SNOMED_Df_CS_08_ANC</td>\n",
       "      <td>SNOMED-CT</td>\n",
       "      <td>Synthea</td>\n",
       "      <td>providers-zip</td>\n",
       "      <td>0</td>\n",
       "      <td>Patient</td>\n",
       "      <td>116154003</td>\n",
       "      <td>['31601201']</td>\n",
       "      <td>['person']</td>\n",
       "      <td>patient</td>\n",
       "      <td>patient</td>\n",
       "      <td>1.00</td>\n",
       "      <td>1.00</td>\n",
       "    </tr>\n",
       "    <tr>\n",
       "      <th>5028</th>\n",
       "      <td>Medcat_SNOMED_Df_CS_08_ANC</td>\n",
       "      <td>SNOMED-CT</td>\n",
       "      <td>Synthea</td>\n",
       "      <td>providers-zip</td>\n",
       "      <td>2</td>\n",
       "      <td>Street address</td>\n",
       "      <td>398099009</td>\n",
       "      <td>['2680757']</td>\n",
       "      <td>['observable entity']</td>\n",
       "      <td>street address</td>\n",
       "      <td>street~address</td>\n",
       "      <td>1.00</td>\n",
       "      <td>1.00</td>\n",
       "    </tr>\n",
       "    <tr>\n",
       "      <th>5029</th>\n",
       "      <td>Medcat_SNOMED_Df_CS_08_ANC</td>\n",
       "      <td>SNOMED-CT</td>\n",
       "      <td>Synthea</td>\n",
       "      <td>providers-utilization</td>\n",
       "      <td>0</td>\n",
       "      <td>Patient</td>\n",
       "      <td>116154003</td>\n",
       "      <td>['31601201']</td>\n",
       "      <td>['person']</td>\n",
       "      <td>patient</td>\n",
       "      <td>patient</td>\n",
       "      <td>1.00</td>\n",
       "      <td>1.00</td>\n",
       "    </tr>\n",
       "    <tr>\n",
       "      <th>5030</th>\n",
       "      <td>Medcat_SNOMED_Df_CS_08_ANC</td>\n",
       "      <td>SNOMED-CT</td>\n",
       "      <td>Synthea</td>\n",
       "      <td>providers-utilization</td>\n",
       "      <td>2</td>\n",
       "      <td>Performed</td>\n",
       "      <td>398166005</td>\n",
       "      <td>['7882689']</td>\n",
       "      <td>['qualifier value']</td>\n",
       "      <td>performed</td>\n",
       "      <td>performed</td>\n",
       "      <td>1.00</td>\n",
       "      <td>1.00</td>\n",
       "    </tr>\n",
       "  </tbody>\n",
       "</table>\n",
       "<p>5031 rows × 13 columns</p>\n",
       "</div>"
      ],
      "text/plain": [
       "               TipoDiAnnotazione ontologies   SOURCE  \\\n",
       "0     Medcat_SNOMED_Df_CS_08_ANC  SNOMED-CT      Csm   \n",
       "1     Medcat_SNOMED_Df_CS_08_ANC  SNOMED-CT      Csm   \n",
       "2     Medcat_SNOMED_Df_CS_08_ANC  SNOMED-CT      Csm   \n",
       "3     Medcat_SNOMED_Df_CS_08_ANC  SNOMED-CT      Csm   \n",
       "4     Medcat_SNOMED_Df_CS_08_ANC  SNOMED-CT      Csm   \n",
       "...                          ...        ...      ...   \n",
       "5026  Medcat_SNOMED_Df_CS_08_ANC  SNOMED-CT  Synthea   \n",
       "5027  Medcat_SNOMED_Df_CS_08_ANC  SNOMED-CT  Synthea   \n",
       "5028  Medcat_SNOMED_Df_CS_08_ANC  SNOMED-CT  Synthea   \n",
       "5029  Medcat_SNOMED_Df_CS_08_ANC  SNOMED-CT  Synthea   \n",
       "5030  Medcat_SNOMED_Df_CS_08_ANC  SNOMED-CT  Synthea   \n",
       "\n",
       "                           AttributoNomeCompleto  entity_id  \\\n",
       "0               beneficiarysummary-bene_birth_dt          1   \n",
       "1               beneficiarysummary-bene_death_dt          1   \n",
       "2               beneficiarysummary-bene_esrd_ind          2   \n",
       "3               beneficiarysummary-sp_state_code          0   \n",
       "4     beneficiarysummary-bene_hi_cvrage_tot_mons          0   \n",
       "...                                          ...        ...   \n",
       "5026                             providers-state          5   \n",
       "5027                               providers-zip          0   \n",
       "5028                               providers-zip          2   \n",
       "5029                       providers-utilization          0   \n",
       "5030                       providers-utilization          2   \n",
       "\n",
       "                  pretty_name        cui      type_ids                  types  \\\n",
       "0               Date of birth  184099003   ['2680757']  ['observable entity']   \n",
       "1               Date of death  399753006   ['2680757']  ['observable entity']   \n",
       "2     End-stage renal disease   46177005   ['9090192']           ['disorder']   \n",
       "3                       State  398070004  ['75168589']        ['environment']   \n",
       "4                       Total  255619001   ['7882689']    ['qualifier value']   \n",
       "...                       ...        ...           ...                    ...   \n",
       "5026             Abbreviation  398223008   ['7882689']    ['qualifier value']   \n",
       "5027                  Patient  116154003  ['31601201']             ['person']   \n",
       "5028           Street address  398099009   ['2680757']  ['observable entity']   \n",
       "5029                  Patient  116154003  ['31601201']             ['person']   \n",
       "5030                Performed  398166005   ['7882689']    ['qualifier value']   \n",
       "\n",
       "                 source_value            detected_name   acc  \\\n",
       "0               date of birth            date~of~birth  1.00   \n",
       "1               date of death            date~of~death  1.00   \n",
       "2     end stage renal disease  end~stage~renal~disease  1.00   \n",
       "3                       state                    state  1.00   \n",
       "4                       total                    total  0.99   \n",
       "...                       ...                      ...   ...   \n",
       "5026             abbreviation             abbreviation  1.00   \n",
       "5027                  patient                  patient  1.00   \n",
       "5028           street address           street~address  1.00   \n",
       "5029                  patient                  patient  1.00   \n",
       "5030                performed                performed  1.00   \n",
       "\n",
       "      context_similarity  \n",
       "0                   1.00  \n",
       "1                   1.00  \n",
       "2                   1.00  \n",
       "3                   1.00  \n",
       "4                   0.99  \n",
       "...                  ...  \n",
       "5026                1.00  \n",
       "5027                1.00  \n",
       "5028                1.00  \n",
       "5029                1.00  \n",
       "5030                1.00  \n",
       "\n",
       "[5031 rows x 13 columns]"
      ]
     },
     "execution_count": 32,
     "metadata": {},
     "output_type": "execute_result"
    }
   ],
   "source": [
    "EsempioAnnotazione"
   ]
  },
  {
   "metadata": {},
   "cell_type": "markdown",
   "source": "DOMANDA: Il dataframe importato delle annotazioni di bioportal devo modificare i nomi delle colonne e unirlo con quello delle annotazioni giusto?\n",
   "id": "6e7ca52608fde057"
  },
  {
   "metadata": {
    "ExecuteTime": {
     "end_time": "2025-03-20T16:35:05.051900Z",
     "start_time": "2025-03-20T16:35:05.045763Z"
    }
   },
   "cell_type": "code",
   "source": "AnnotazioniConBioportal.rename(columns={\"NumProg\": \"entity_id\"}, inplace=True)\n",
   "id": "bdd5c491d6daff0a",
   "outputs": [],
   "execution_count": 29
  },
  {
   "metadata": {
    "ExecuteTime": {
     "end_time": "2025-03-20T16:35:52.423774Z",
     "start_time": "2025-03-20T16:35:52.418409Z"
    }
   },
   "cell_type": "code",
   "source": "AnnotazioniConBioportal.rename(columns={\"Ontologia\": \"ontologies\"}, inplace=True)",
   "id": "923b9208ea468bb9",
   "outputs": [],
   "execution_count": 32
  },
  {
   "metadata": {
    "ExecuteTime": {
     "end_time": "2025-03-20T16:38:21.616623Z",
     "start_time": "2025-03-20T16:38:21.610833Z"
    }
   },
   "cell_type": "code",
   "source": "AnnotazioniConBioportal.rename(columns={\"Codice\": \"cui\"}, inplace=True)",
   "id": "7a971a1bd3acc1b2",
   "outputs": [],
   "execution_count": 35
  },
  {
   "metadata": {
    "ExecuteTime": {
     "end_time": "2025-03-20T16:38:22.507516Z",
     "start_time": "2025-03-20T16:38:22.501757Z"
    }
   },
   "cell_type": "code",
   "source": "AnnotazioniConBioportal.rename(columns={\"Description\": \"pretty_name\"}, inplace=True)",
   "id": "c9f10b6ab6f9cf52",
   "outputs": [],
   "execution_count": 36
  },
  {
   "metadata": {
    "ExecuteTime": {
     "end_time": "2025-03-20T16:38:47.915062Z",
     "start_time": "2025-03-20T16:38:47.907861Z"
    }
   },
   "cell_type": "code",
   "source": "AnnotazioniConBioportal.drop(columns=[\"Elemento\"], inplace=True)",
   "id": "6cd614faee421df7",
   "outputs": [],
   "execution_count": 38
  },
  {
   "metadata": {
    "ExecuteTime": {
     "end_time": "2025-03-20T16:40:21.794256Z",
     "start_time": "2025-03-20T16:40:21.789071Z"
    }
   },
   "cell_type": "code",
   "source": [
    "nuovo_ordine = ['TipoDiAnnotazione', 'ontologies', 'SOURCE', 'AttributoNomeCompleto',\n",
    "       'entity_id', 'pretty_name', 'cui']"
   ],
   "id": "56dc84a25e863be5",
   "outputs": [],
   "execution_count": 41
  },
  {
   "metadata": {
    "ExecuteTime": {
     "end_time": "2025-03-20T16:40:46.452834Z",
     "start_time": "2025-03-20T16:40:46.446175Z"
    }
   },
   "cell_type": "code",
   "source": "AnnotazioniConBioportal = AnnotazioniConBioportal[nuovo_ordine]\n",
   "id": "5aa04814d2bf3a0c",
   "outputs": [],
   "execution_count": 42
  },
  {
   "metadata": {
    "ExecuteTime": {
     "end_time": "2025-03-20T16:40:55.076684Z",
     "start_time": "2025-03-20T16:40:55.063688Z"
    }
   },
   "cell_type": "code",
   "source": "AnnotazioniConBioportal",
   "id": "68711acc1f969412",
   "outputs": [
    {
     "data": {
      "text/plain": [
       "                    TipoDiAnnotazione ontologies SOURCE  \\\n",
       "0      BioportalAttributoNomeCompleto      LOINC   OMOP   \n",
       "1      BioportalAttributoNomeCompleto      LOINC   OMOP   \n",
       "2      BioportalAttributoNomeCompleto      LOINC   OMOP   \n",
       "3      BioportalAttributoNomeCompleto      LOINC   OMOP   \n",
       "4      BioportalAttributoNomeCompleto      LOINC   OMOP   \n",
       "...                               ...        ...    ...   \n",
       "12689              BioportalAttributo   SNOMEDCT   OMOP   \n",
       "12690              BioportalAttributo   SNOMEDCT   OMOP   \n",
       "12691              BioportalAttributo   SNOMEDCT   OMOP   \n",
       "12692              BioportalAttributo   SNOMEDCT   OMOP   \n",
       "12693              BioportalAttributo   SNOMEDCT   OMOP   \n",
       "\n",
       "                   AttributoNomeCompleto  entity_id  \\\n",
       "0                       person-person_id          1   \n",
       "1                       person-person_id          2   \n",
       "2                       person-person_id          3   \n",
       "3                       person-person_id          4   \n",
       "4                       person-person_id          5   \n",
       "...                                  ...        ...   \n",
       "12689       provider-gender_source_value          4   \n",
       "12690       provider-gender_source_value          5   \n",
       "12691  provider-gender_source_concept_id          3   \n",
       "12692  provider-gender_source_concept_id          4   \n",
       "12693  provider-gender_source_concept_id          5   \n",
       "\n",
       "                     pretty_name         cui  \n",
       "0                         Person  LP345156-6  \n",
       "1                         Person  LP133774-2  \n",
       "2                         Person  MTHU066373  \n",
       "3      Person:ID:Pt:^Patient:Nom    106193-6  \n",
       "4                         Person  MTHU041262  \n",
       "...                          ...         ...  \n",
       "12689          Source (property)   734842000  \n",
       "12690                     Source   260753009  \n",
       "12691                     Gender   263495000  \n",
       "12692          Source (property)   734842000  \n",
       "12693                     Source   260753009  \n",
       "\n",
       "[12694 rows x 7 columns]"
      ],
      "text/html": [
       "<div>\n",
       "<style scoped>\n",
       "    .dataframe tbody tr th:only-of-type {\n",
       "        vertical-align: middle;\n",
       "    }\n",
       "\n",
       "    .dataframe tbody tr th {\n",
       "        vertical-align: top;\n",
       "    }\n",
       "\n",
       "    .dataframe thead th {\n",
       "        text-align: right;\n",
       "    }\n",
       "</style>\n",
       "<table border=\"1\" class=\"dataframe\">\n",
       "  <thead>\n",
       "    <tr style=\"text-align: right;\">\n",
       "      <th></th>\n",
       "      <th>TipoDiAnnotazione</th>\n",
       "      <th>ontologies</th>\n",
       "      <th>SOURCE</th>\n",
       "      <th>AttributoNomeCompleto</th>\n",
       "      <th>entity_id</th>\n",
       "      <th>pretty_name</th>\n",
       "      <th>cui</th>\n",
       "    </tr>\n",
       "  </thead>\n",
       "  <tbody>\n",
       "    <tr>\n",
       "      <th>0</th>\n",
       "      <td>BioportalAttributoNomeCompleto</td>\n",
       "      <td>LOINC</td>\n",
       "      <td>OMOP</td>\n",
       "      <td>person-person_id</td>\n",
       "      <td>1</td>\n",
       "      <td>Person</td>\n",
       "      <td>LP345156-6</td>\n",
       "    </tr>\n",
       "    <tr>\n",
       "      <th>1</th>\n",
       "      <td>BioportalAttributoNomeCompleto</td>\n",
       "      <td>LOINC</td>\n",
       "      <td>OMOP</td>\n",
       "      <td>person-person_id</td>\n",
       "      <td>2</td>\n",
       "      <td>Person</td>\n",
       "      <td>LP133774-2</td>\n",
       "    </tr>\n",
       "    <tr>\n",
       "      <th>2</th>\n",
       "      <td>BioportalAttributoNomeCompleto</td>\n",
       "      <td>LOINC</td>\n",
       "      <td>OMOP</td>\n",
       "      <td>person-person_id</td>\n",
       "      <td>3</td>\n",
       "      <td>Person</td>\n",
       "      <td>MTHU066373</td>\n",
       "    </tr>\n",
       "    <tr>\n",
       "      <th>3</th>\n",
       "      <td>BioportalAttributoNomeCompleto</td>\n",
       "      <td>LOINC</td>\n",
       "      <td>OMOP</td>\n",
       "      <td>person-person_id</td>\n",
       "      <td>4</td>\n",
       "      <td>Person:ID:Pt:^Patient:Nom</td>\n",
       "      <td>106193-6</td>\n",
       "    </tr>\n",
       "    <tr>\n",
       "      <th>4</th>\n",
       "      <td>BioportalAttributoNomeCompleto</td>\n",
       "      <td>LOINC</td>\n",
       "      <td>OMOP</td>\n",
       "      <td>person-person_id</td>\n",
       "      <td>5</td>\n",
       "      <td>Person</td>\n",
       "      <td>MTHU041262</td>\n",
       "    </tr>\n",
       "    <tr>\n",
       "      <th>...</th>\n",
       "      <td>...</td>\n",
       "      <td>...</td>\n",
       "      <td>...</td>\n",
       "      <td>...</td>\n",
       "      <td>...</td>\n",
       "      <td>...</td>\n",
       "      <td>...</td>\n",
       "    </tr>\n",
       "    <tr>\n",
       "      <th>12689</th>\n",
       "      <td>BioportalAttributo</td>\n",
       "      <td>SNOMEDCT</td>\n",
       "      <td>OMOP</td>\n",
       "      <td>provider-gender_source_value</td>\n",
       "      <td>4</td>\n",
       "      <td>Source (property)</td>\n",
       "      <td>734842000</td>\n",
       "    </tr>\n",
       "    <tr>\n",
       "      <th>12690</th>\n",
       "      <td>BioportalAttributo</td>\n",
       "      <td>SNOMEDCT</td>\n",
       "      <td>OMOP</td>\n",
       "      <td>provider-gender_source_value</td>\n",
       "      <td>5</td>\n",
       "      <td>Source</td>\n",
       "      <td>260753009</td>\n",
       "    </tr>\n",
       "    <tr>\n",
       "      <th>12691</th>\n",
       "      <td>BioportalAttributo</td>\n",
       "      <td>SNOMEDCT</td>\n",
       "      <td>OMOP</td>\n",
       "      <td>provider-gender_source_concept_id</td>\n",
       "      <td>3</td>\n",
       "      <td>Gender</td>\n",
       "      <td>263495000</td>\n",
       "    </tr>\n",
       "    <tr>\n",
       "      <th>12692</th>\n",
       "      <td>BioportalAttributo</td>\n",
       "      <td>SNOMEDCT</td>\n",
       "      <td>OMOP</td>\n",
       "      <td>provider-gender_source_concept_id</td>\n",
       "      <td>4</td>\n",
       "      <td>Source (property)</td>\n",
       "      <td>734842000</td>\n",
       "    </tr>\n",
       "    <tr>\n",
       "      <th>12693</th>\n",
       "      <td>BioportalAttributo</td>\n",
       "      <td>SNOMEDCT</td>\n",
       "      <td>OMOP</td>\n",
       "      <td>provider-gender_source_concept_id</td>\n",
       "      <td>5</td>\n",
       "      <td>Source</td>\n",
       "      <td>260753009</td>\n",
       "    </tr>\n",
       "  </tbody>\n",
       "</table>\n",
       "<p>12694 rows × 7 columns</p>\n",
       "</div>"
      ]
     },
     "execution_count": 43,
     "metadata": {},
     "output_type": "execute_result"
    }
   ],
   "execution_count": 43
  },
  {
   "metadata": {
    "ExecuteTime": {
     "end_time": "2025-03-20T16:41:00.724909Z",
     "start_time": "2025-03-20T16:41:00.711261Z"
    }
   },
   "cell_type": "code",
   "source": "annotazioniMedcat",
   "id": "28a66dfad58b7700",
   "outputs": [
    {
     "data": {
      "text/plain": [
       "                TipoDiAnnotazione ontologies   SOURCE  \\\n",
       "0      Medcat_SNOMED_Df_CS_08_ANC  SNOMED-CT      Csm   \n",
       "1      Medcat_SNOMED_Df_CS_08_ANC  SNOMED-CT      Csm   \n",
       "2      Medcat_SNOMED_Df_CS_08_ANC  SNOMED-CT      Csm   \n",
       "3      Medcat_SNOMED_Df_CS_08_ANC  SNOMED-CT      Csm   \n",
       "4      Medcat_SNOMED_Df_CS_08_ANC  SNOMED-CT      Csm   \n",
       "...                           ...        ...      ...   \n",
       "25403     Medcat_UMLS_Df_Full_ANC       UMLS  Synthea   \n",
       "25404     Medcat_UMLS_Df_Full_ANC       UMLS  Synthea   \n",
       "25405     Medcat_UMLS_Df_Full_ANC       UMLS  Synthea   \n",
       "25406     Medcat_UMLS_Df_Full_ANC       UMLS  Synthea   \n",
       "25407     Medcat_UMLS_Df_Full_ANC       UMLS  Synthea   \n",
       "\n",
       "                            AttributoNomeCompleto  entity_id  \\\n",
       "0                beneficiarysummary-bene_birth_dt          1   \n",
       "1                beneficiarysummary-bene_death_dt          1   \n",
       "2                beneficiarysummary-bene_esrd_ind          2   \n",
       "3                beneficiarysummary-sp_state_code          0   \n",
       "4      beneficiarysummary-bene_hi_cvrage_tot_mons          0   \n",
       "...                                           ...        ...   \n",
       "25403                       providers-utilization          3   \n",
       "25404                       providers-utilization          5   \n",
       "25405                       providers-utilization          7   \n",
       "25406                       providers-utilization          9   \n",
       "25407                       providers-utilization         10   \n",
       "\n",
       "                   pretty_name        cui  \n",
       "0                Date of birth  184099003  \n",
       "1                Date of death  399753006  \n",
       "2      End-stage renal disease   46177005  \n",
       "3                        State  398070004  \n",
       "4                        Total  255619001  \n",
       "...                        ...        ...  \n",
       "25403             patient care   C0017313  \n",
       "25404                  Numbers   C0237753  \n",
       "25405                Encounter   C1947978  \n",
       "25406             Performed By   C1550369  \n",
       "25407         Health Personnel   C0018724  \n",
       "\n",
       "[25408 rows x 7 columns]"
      ],
      "text/html": [
       "<div>\n",
       "<style scoped>\n",
       "    .dataframe tbody tr th:only-of-type {\n",
       "        vertical-align: middle;\n",
       "    }\n",
       "\n",
       "    .dataframe tbody tr th {\n",
       "        vertical-align: top;\n",
       "    }\n",
       "\n",
       "    .dataframe thead th {\n",
       "        text-align: right;\n",
       "    }\n",
       "</style>\n",
       "<table border=\"1\" class=\"dataframe\">\n",
       "  <thead>\n",
       "    <tr style=\"text-align: right;\">\n",
       "      <th></th>\n",
       "      <th>TipoDiAnnotazione</th>\n",
       "      <th>ontologies</th>\n",
       "      <th>SOURCE</th>\n",
       "      <th>AttributoNomeCompleto</th>\n",
       "      <th>entity_id</th>\n",
       "      <th>pretty_name</th>\n",
       "      <th>cui</th>\n",
       "    </tr>\n",
       "  </thead>\n",
       "  <tbody>\n",
       "    <tr>\n",
       "      <th>0</th>\n",
       "      <td>Medcat_SNOMED_Df_CS_08_ANC</td>\n",
       "      <td>SNOMED-CT</td>\n",
       "      <td>Csm</td>\n",
       "      <td>beneficiarysummary-bene_birth_dt</td>\n",
       "      <td>1</td>\n",
       "      <td>Date of birth</td>\n",
       "      <td>184099003</td>\n",
       "    </tr>\n",
       "    <tr>\n",
       "      <th>1</th>\n",
       "      <td>Medcat_SNOMED_Df_CS_08_ANC</td>\n",
       "      <td>SNOMED-CT</td>\n",
       "      <td>Csm</td>\n",
       "      <td>beneficiarysummary-bene_death_dt</td>\n",
       "      <td>1</td>\n",
       "      <td>Date of death</td>\n",
       "      <td>399753006</td>\n",
       "    </tr>\n",
       "    <tr>\n",
       "      <th>2</th>\n",
       "      <td>Medcat_SNOMED_Df_CS_08_ANC</td>\n",
       "      <td>SNOMED-CT</td>\n",
       "      <td>Csm</td>\n",
       "      <td>beneficiarysummary-bene_esrd_ind</td>\n",
       "      <td>2</td>\n",
       "      <td>End-stage renal disease</td>\n",
       "      <td>46177005</td>\n",
       "    </tr>\n",
       "    <tr>\n",
       "      <th>3</th>\n",
       "      <td>Medcat_SNOMED_Df_CS_08_ANC</td>\n",
       "      <td>SNOMED-CT</td>\n",
       "      <td>Csm</td>\n",
       "      <td>beneficiarysummary-sp_state_code</td>\n",
       "      <td>0</td>\n",
       "      <td>State</td>\n",
       "      <td>398070004</td>\n",
       "    </tr>\n",
       "    <tr>\n",
       "      <th>4</th>\n",
       "      <td>Medcat_SNOMED_Df_CS_08_ANC</td>\n",
       "      <td>SNOMED-CT</td>\n",
       "      <td>Csm</td>\n",
       "      <td>beneficiarysummary-bene_hi_cvrage_tot_mons</td>\n",
       "      <td>0</td>\n",
       "      <td>Total</td>\n",
       "      <td>255619001</td>\n",
       "    </tr>\n",
       "    <tr>\n",
       "      <th>...</th>\n",
       "      <td>...</td>\n",
       "      <td>...</td>\n",
       "      <td>...</td>\n",
       "      <td>...</td>\n",
       "      <td>...</td>\n",
       "      <td>...</td>\n",
       "      <td>...</td>\n",
       "    </tr>\n",
       "    <tr>\n",
       "      <th>25403</th>\n",
       "      <td>Medcat_UMLS_Df_Full_ANC</td>\n",
       "      <td>UMLS</td>\n",
       "      <td>Synthea</td>\n",
       "      <td>providers-utilization</td>\n",
       "      <td>3</td>\n",
       "      <td>patient care</td>\n",
       "      <td>C0017313</td>\n",
       "    </tr>\n",
       "    <tr>\n",
       "      <th>25404</th>\n",
       "      <td>Medcat_UMLS_Df_Full_ANC</td>\n",
       "      <td>UMLS</td>\n",
       "      <td>Synthea</td>\n",
       "      <td>providers-utilization</td>\n",
       "      <td>5</td>\n",
       "      <td>Numbers</td>\n",
       "      <td>C0237753</td>\n",
       "    </tr>\n",
       "    <tr>\n",
       "      <th>25405</th>\n",
       "      <td>Medcat_UMLS_Df_Full_ANC</td>\n",
       "      <td>UMLS</td>\n",
       "      <td>Synthea</td>\n",
       "      <td>providers-utilization</td>\n",
       "      <td>7</td>\n",
       "      <td>Encounter</td>\n",
       "      <td>C1947978</td>\n",
       "    </tr>\n",
       "    <tr>\n",
       "      <th>25406</th>\n",
       "      <td>Medcat_UMLS_Df_Full_ANC</td>\n",
       "      <td>UMLS</td>\n",
       "      <td>Synthea</td>\n",
       "      <td>providers-utilization</td>\n",
       "      <td>9</td>\n",
       "      <td>Performed By</td>\n",
       "      <td>C1550369</td>\n",
       "    </tr>\n",
       "    <tr>\n",
       "      <th>25407</th>\n",
       "      <td>Medcat_UMLS_Df_Full_ANC</td>\n",
       "      <td>UMLS</td>\n",
       "      <td>Synthea</td>\n",
       "      <td>providers-utilization</td>\n",
       "      <td>10</td>\n",
       "      <td>Health Personnel</td>\n",
       "      <td>C0018724</td>\n",
       "    </tr>\n",
       "  </tbody>\n",
       "</table>\n",
       "<p>25408 rows × 7 columns</p>\n",
       "</div>"
      ]
     },
     "execution_count": 44,
     "metadata": {},
     "output_type": "execute_result"
    }
   ],
   "execution_count": 44
  },
  {
   "metadata": {
    "ExecuteTime": {
     "end_time": "2025-03-20T16:42:24.395820Z",
     "start_time": "2025-03-20T16:42:24.386661Z"
    }
   },
   "cell_type": "code",
   "source": "Annotazioni_full= pd.concat([annotazioniMedcat, AnnotazioniConBioportal], ignore_index=True)",
   "id": "a18129088cbb8ce8",
   "outputs": [],
   "execution_count": 45
  },
  {
   "metadata": {
    "ExecuteTime": {
     "end_time": "2025-03-20T16:43:36.232961Z",
     "start_time": "2025-03-20T16:43:36.078506Z"
    }
   },
   "cell_type": "code",
   "source": "Annotazioni_full.to_csv('files/annotazioni_full.csv', index=False)",
   "id": "13d6115dddac3321",
   "outputs": [],
   "execution_count": 47
  },
  {
   "metadata": {},
   "cell_type": "markdown",
   "source": "appunto= ho notato che in bioportal le ontologie sono in snomed e loinc",
   "id": "472d358713f0cbbe"
  }
 ],
 "metadata": {
  "kernelspec": {
   "display_name": "Python 3 (ipykernel)",
   "language": "python",
   "name": "python3"
  },
  "language_info": {
   "codemirror_mode": {
    "name": "ipython",
    "version": 3
   },
   "file_extension": ".py",
   "mimetype": "text/x-python",
   "name": "python",
   "nbconvert_exporter": "python",
   "pygments_lexer": "ipython3",
   "version": "3.13.2"
  }
 },
 "nbformat": 4,
 "nbformat_minor": 5
}
