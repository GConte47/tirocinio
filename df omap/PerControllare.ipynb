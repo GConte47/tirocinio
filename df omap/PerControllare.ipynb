{
 "nbformat": 4,
 "nbformat_minor": 0,
 "metadata": {
  "colab": {
   "provenance": []
  },
  "kernelspec": {
   "name": "python3",
   "display_name": "Python 3 (ipykernel)",
   "language": "python"
  },
  "language_info": {
   "name": "python"
  }
 },
 "cells": [
  {
   "cell_type": "code",
   "metadata": {
    "colab": {
     "base_uri": "https://localhost:8080/",
     "height": 298
    },
    "id": "ca_biVqrBXYH",
    "outputId": "431add34-e06b-4290-c7f0-92a993f4a161",
    "ExecuteTime": {
     "end_time": "2025-03-20T16:02:23.368326Z",
     "start_time": "2025-03-20T16:02:22.295111Z"
    }
   },
   "source": [
    "import pandas as pd\n",
    "\n",
    "# leggo file ANNOTAZIONI su git\n",
    "url = \"https://raw.githubusercontent.com/GConte47/tirocinio/refs/heads/master/df%20omap/files/annotazioni.csv\"\n",
    "url2 = \"https://raw.githubusercontent.com/GConte47/tirocinio/refs/heads/master/df%20omap/files/gold_standard.csv\"\n",
    "\n",
    "ANNOTAZIONI = pd.read_csv(url, delimiter=\",\")\n",
    "ANNOTAZIONI.head()\n",
    "\n",
    "# leggo GS\n",
    "'''\n",
    "GS= pd.read_csv('files/gold_standard.csv', delimiter=\",\")\n",
    "print(GS.columns, ANNOTAZIONI.columns)\n",
    "'''\n",
    "GS= pd.read_csv(url2, delimiter=\",\")\n",
    "print(GS.columns, ANNOTAZIONI.columns)\n",
    "# mettiamo per entrambi gli stessi attributi\n",
    "\n",
    "GS.columns=ANNOTAZIONI.columns\n",
    "\n",
    "# vediamo gli attributi in comune\n",
    "\n",
    "AttributiComuni=pd.merge(GS,ANNOTAZIONI, on=['SOURCE', 'AttributoNomeCompleto'])[['SOURCE', 'AttributoNomeCompleto']].drop_duplicates()\n",
    "AttributiComuni"
   ],
   "outputs": [
    {
     "name": "stdout",
     "output_type": "stream",
     "text": [
      "Index(['TipoDiAnnotazione', 'Ontologies', 'Source', 'AttributoNomeCompleto',\n",
      "       'entity_id', 'pretty_name', 'cui'],\n",
      "      dtype='object') Index(['TipoDiAnnotazione', 'ontologies', 'SOURCE', 'AttributoNomeCompleto',\n",
      "       'entity_id', 'pretty_name', 'cui'],\n",
      "      dtype='object')\n"
     ]
    },
    {
     "data": {
      "text/plain": [
       "      SOURCE                              AttributoNomeCompleto\n",
       "0       OMOP                               location-location_id\n",
       "152     OMOP                                      location-city\n",
       "257     OMOP                                     location-state\n",
       "409     OMOP                                       location-zip\n",
       "583     OMOP                                    location-county\n",
       "670     OMOP       condition_occurrence-condition_occurrence_id\n",
       "1036    OMOP                     condition_occurrence-person_id\n",
       "1119    OMOP          condition_occurrence-condition_concept_id\n",
       "1484    OMOP          condition_occurrence-condition_start_date\n",
       "1716    OMOP      condition_occurrence-condition_start_datetime\n",
       "2082    OMOP            condition_occurrence-condition_end_date\n",
       "2326    OMOP        condition_occurrence-condition_end_datetime\n",
       "2692    OMOP     condition_occurrence-condition_type_concept_id\n",
       "3287    OMOP   condition_occurrence-condition_status_concept_id\n",
       "3833    OMOP                   condition_occurrence-stop_reason\n",
       "4229    OMOP                   condition_occurrence-provider_id\n",
       "4439    OMOP           condition_occurrence-visit_occurrence_id\n",
       "4789    OMOP               condition_occurrence-visit_detail_id\n",
       "5144    OMOP        condition_occurrence-condition_source_value\n",
       "5559    OMOP   condition_occurrence-condition_source_concept_id\n",
       "6007    OMOP  condition_occurrence-condition_status_source_v...\n",
       "6595    OMOP                                   person-person_id\n",
       "6642    OMOP                           person-gender_concept_id\n",
       "6947    OMOP                               person-year_of_birth\n",
       "7032    OMOP                              person-month_of_birth\n",
       "7164    OMOP                                person-day_of_birth\n",
       "7292    OMOP                             person-race_concept_id\n",
       "7602    OMOP                        person-ethnicity_concept_id\n",
       "7947    OMOP                                 person-location_id\n",
       "8395    OMOP                                 person-provider_id\n",
       "8545    OMOP                                person-care_site_id\n",
       "8773    OMOP                         person-person_source_value\n",
       "9113    OMOP                         person-gender_source_value\n",
       "9483    OMOP                    person-gender_source_concept_id\n",
       "9847    OMOP                           person-race_source_value\n",
       "10207   OMOP                      person-race_source_concept_id\n",
       "10536   OMOP                      person-ethnicity_source_value\n",
       "10926   OMOP                 person-ethnicity_source_concept_id"
      ],
      "text/html": [
       "<div>\n",
       "<style scoped>\n",
       "    .dataframe tbody tr th:only-of-type {\n",
       "        vertical-align: middle;\n",
       "    }\n",
       "\n",
       "    .dataframe tbody tr th {\n",
       "        vertical-align: top;\n",
       "    }\n",
       "\n",
       "    .dataframe thead th {\n",
       "        text-align: right;\n",
       "    }\n",
       "</style>\n",
       "<table border=\"1\" class=\"dataframe\">\n",
       "  <thead>\n",
       "    <tr style=\"text-align: right;\">\n",
       "      <th></th>\n",
       "      <th>SOURCE</th>\n",
       "      <th>AttributoNomeCompleto</th>\n",
       "    </tr>\n",
       "  </thead>\n",
       "  <tbody>\n",
       "    <tr>\n",
       "      <th>0</th>\n",
       "      <td>OMOP</td>\n",
       "      <td>location-location_id</td>\n",
       "    </tr>\n",
       "    <tr>\n",
       "      <th>152</th>\n",
       "      <td>OMOP</td>\n",
       "      <td>location-city</td>\n",
       "    </tr>\n",
       "    <tr>\n",
       "      <th>257</th>\n",
       "      <td>OMOP</td>\n",
       "      <td>location-state</td>\n",
       "    </tr>\n",
       "    <tr>\n",
       "      <th>409</th>\n",
       "      <td>OMOP</td>\n",
       "      <td>location-zip</td>\n",
       "    </tr>\n",
       "    <tr>\n",
       "      <th>583</th>\n",
       "      <td>OMOP</td>\n",
       "      <td>location-county</td>\n",
       "    </tr>\n",
       "    <tr>\n",
       "      <th>670</th>\n",
       "      <td>OMOP</td>\n",
       "      <td>condition_occurrence-condition_occurrence_id</td>\n",
       "    </tr>\n",
       "    <tr>\n",
       "      <th>1036</th>\n",
       "      <td>OMOP</td>\n",
       "      <td>condition_occurrence-person_id</td>\n",
       "    </tr>\n",
       "    <tr>\n",
       "      <th>1119</th>\n",
       "      <td>OMOP</td>\n",
       "      <td>condition_occurrence-condition_concept_id</td>\n",
       "    </tr>\n",
       "    <tr>\n",
       "      <th>1484</th>\n",
       "      <td>OMOP</td>\n",
       "      <td>condition_occurrence-condition_start_date</td>\n",
       "    </tr>\n",
       "    <tr>\n",
       "      <th>1716</th>\n",
       "      <td>OMOP</td>\n",
       "      <td>condition_occurrence-condition_start_datetime</td>\n",
       "    </tr>\n",
       "    <tr>\n",
       "      <th>2082</th>\n",
       "      <td>OMOP</td>\n",
       "      <td>condition_occurrence-condition_end_date</td>\n",
       "    </tr>\n",
       "    <tr>\n",
       "      <th>2326</th>\n",
       "      <td>OMOP</td>\n",
       "      <td>condition_occurrence-condition_end_datetime</td>\n",
       "    </tr>\n",
       "    <tr>\n",
       "      <th>2692</th>\n",
       "      <td>OMOP</td>\n",
       "      <td>condition_occurrence-condition_type_concept_id</td>\n",
       "    </tr>\n",
       "    <tr>\n",
       "      <th>3287</th>\n",
       "      <td>OMOP</td>\n",
       "      <td>condition_occurrence-condition_status_concept_id</td>\n",
       "    </tr>\n",
       "    <tr>\n",
       "      <th>3833</th>\n",
       "      <td>OMOP</td>\n",
       "      <td>condition_occurrence-stop_reason</td>\n",
       "    </tr>\n",
       "    <tr>\n",
       "      <th>4229</th>\n",
       "      <td>OMOP</td>\n",
       "      <td>condition_occurrence-provider_id</td>\n",
       "    </tr>\n",
       "    <tr>\n",
       "      <th>4439</th>\n",
       "      <td>OMOP</td>\n",
       "      <td>condition_occurrence-visit_occurrence_id</td>\n",
       "    </tr>\n",
       "    <tr>\n",
       "      <th>4789</th>\n",
       "      <td>OMOP</td>\n",
       "      <td>condition_occurrence-visit_detail_id</td>\n",
       "    </tr>\n",
       "    <tr>\n",
       "      <th>5144</th>\n",
       "      <td>OMOP</td>\n",
       "      <td>condition_occurrence-condition_source_value</td>\n",
       "    </tr>\n",
       "    <tr>\n",
       "      <th>5559</th>\n",
       "      <td>OMOP</td>\n",
       "      <td>condition_occurrence-condition_source_concept_id</td>\n",
       "    </tr>\n",
       "    <tr>\n",
       "      <th>6007</th>\n",
       "      <td>OMOP</td>\n",
       "      <td>condition_occurrence-condition_status_source_v...</td>\n",
       "    </tr>\n",
       "    <tr>\n",
       "      <th>6595</th>\n",
       "      <td>OMOP</td>\n",
       "      <td>person-person_id</td>\n",
       "    </tr>\n",
       "    <tr>\n",
       "      <th>6642</th>\n",
       "      <td>OMOP</td>\n",
       "      <td>person-gender_concept_id</td>\n",
       "    </tr>\n",
       "    <tr>\n",
       "      <th>6947</th>\n",
       "      <td>OMOP</td>\n",
       "      <td>person-year_of_birth</td>\n",
       "    </tr>\n",
       "    <tr>\n",
       "      <th>7032</th>\n",
       "      <td>OMOP</td>\n",
       "      <td>person-month_of_birth</td>\n",
       "    </tr>\n",
       "    <tr>\n",
       "      <th>7164</th>\n",
       "      <td>OMOP</td>\n",
       "      <td>person-day_of_birth</td>\n",
       "    </tr>\n",
       "    <tr>\n",
       "      <th>7292</th>\n",
       "      <td>OMOP</td>\n",
       "      <td>person-race_concept_id</td>\n",
       "    </tr>\n",
       "    <tr>\n",
       "      <th>7602</th>\n",
       "      <td>OMOP</td>\n",
       "      <td>person-ethnicity_concept_id</td>\n",
       "    </tr>\n",
       "    <tr>\n",
       "      <th>7947</th>\n",
       "      <td>OMOP</td>\n",
       "      <td>person-location_id</td>\n",
       "    </tr>\n",
       "    <tr>\n",
       "      <th>8395</th>\n",
       "      <td>OMOP</td>\n",
       "      <td>person-provider_id</td>\n",
       "    </tr>\n",
       "    <tr>\n",
       "      <th>8545</th>\n",
       "      <td>OMOP</td>\n",
       "      <td>person-care_site_id</td>\n",
       "    </tr>\n",
       "    <tr>\n",
       "      <th>8773</th>\n",
       "      <td>OMOP</td>\n",
       "      <td>person-person_source_value</td>\n",
       "    </tr>\n",
       "    <tr>\n",
       "      <th>9113</th>\n",
       "      <td>OMOP</td>\n",
       "      <td>person-gender_source_value</td>\n",
       "    </tr>\n",
       "    <tr>\n",
       "      <th>9483</th>\n",
       "      <td>OMOP</td>\n",
       "      <td>person-gender_source_concept_id</td>\n",
       "    </tr>\n",
       "    <tr>\n",
       "      <th>9847</th>\n",
       "      <td>OMOP</td>\n",
       "      <td>person-race_source_value</td>\n",
       "    </tr>\n",
       "    <tr>\n",
       "      <th>10207</th>\n",
       "      <td>OMOP</td>\n",
       "      <td>person-race_source_concept_id</td>\n",
       "    </tr>\n",
       "    <tr>\n",
       "      <th>10536</th>\n",
       "      <td>OMOP</td>\n",
       "      <td>person-ethnicity_source_value</td>\n",
       "    </tr>\n",
       "    <tr>\n",
       "      <th>10926</th>\n",
       "      <td>OMOP</td>\n",
       "      <td>person-ethnicity_source_concept_id</td>\n",
       "    </tr>\n",
       "  </tbody>\n",
       "</table>\n",
       "</div>"
      ]
     },
     "execution_count": 18,
     "metadata": {},
     "output_type": "execute_result"
    }
   ],
   "execution_count": 18
  },
  {
   "cell_type": "code",
   "source": [
    "## quindi al momento abbiamo solo 5 attributi su cui fare il confronto\n",
    "## controllare bene che non ci siano differenze nei nomi degli attributi utilizzati, altrimenti non possiamo fare alcun confronto\n"
   ],
   "metadata": {
    "id": "wak1M88sBtpB",
    "ExecuteTime": {
     "end_time": "2025-03-20T15:50:42.834828Z",
     "start_time": "2025-03-20T15:50:42.830918Z"
    }
   },
   "outputs": [],
   "execution_count": 2
  },
  {
   "cell_type": "code",
   "source": [
    "# ora vedo se le annotazioni sono confrontabili\n",
    "\n",
    "\n",
    "# Uniamo le colonne di GS con quelle di ANNOTAZIONI\n",
    "GS.columns = ANNOTAZIONI.columns\n",
    "\n",
    "# Filtra gli attributi comuni tra GS e ANNOTAZIONI\n",
    "AttributiComuni = pd.merge(GS, ANNOTAZIONI, on=['SOURCE', 'AttributoNomeCompleto'])[['SOURCE', 'AttributoNomeCompleto']].drop_duplicates()\n",
    "\n",
    "# Confronta per ogni coppia di attributi comuni\n",
    "for _, row in AttributiComuni.iterrows():\n",
    "    source = row['SOURCE']\n",
    "    attributo = row['AttributoNomeCompleto']\n",
    "\n",
    "    # Filtra i DataFrame GS e ANNOTAZIONI per la coppia di SOURCE e AttributoNomeCompleto\n",
    "    gs_subset = GS[(GS['SOURCE'] == source) & (GS['AttributoNomeCompleto'] == attributo)]\n",
    "    annotazioni_subset = ANNOTAZIONI[(ANNOTAZIONI['SOURCE'] == source) & (ANNOTAZIONI['AttributoNomeCompleto'] == attributo)]\n",
    "\n",
    "    # Estrai i valori di cui per GS e ANNOTAZIONI\n",
    "    gs_cui_values = set(gs_subset['cui'].unique())\n",
    "    annotazioni_cui_values = set(annotazioni_subset['cui'].unique())\n",
    "\n",
    "    # Trova i valori comuni\n",
    "    comuni_cui = gs_cui_values.intersection(annotazioni_cui_values)\n",
    "\n",
    "    if comuni_cui:\n",
    "        # Estrai i valori di TipoDiAnnotazione e ontologies da ANNOTAZIONI\n",
    "        tipo_annotazione = annotazioni_subset['TipoDiAnnotazione'].iloc[0]\n",
    "        ontologies = annotazioni_subset['ontologies'].unique()\n",
    "\n",
    "        # Stampa TipoDiAnnotazione e ontologies\n",
    "        print(f\"TipoDiAnnotazione: {tipo_annotazione}, Ontologia: {ontologies}\")\n",
    "        print(f\"Per SOURCE={source} e Attributo={attributo}, i valori comuni sono: {comuni_cui}\")\n"
   ],
   "metadata": {
    "colab": {
     "base_uri": "https://localhost:8080/"
    },
    "id": "LKkmxEukDEHS",
    "outputId": "e280306d-e043-4d1c-d659-d077b20b9003",
    "ExecuteTime": {
     "end_time": "2025-03-20T16:02:27.531533Z",
     "start_time": "2025-03-20T16:02:27.304752Z"
    }
   },
   "outputs": [
    {
     "name": "stdout",
     "output_type": "stream",
     "text": [
      "TipoDiAnnotazione: Medcat_SNOMED_Df_CS_08_ANC, Ontologia: ['SNOMED-CT' 'UMLS']\n",
      "Per SOURCE=OMOP e Attributo=location-location_id, i valori comuni sono: {'C0450429', '246267002'}\n",
      "TipoDiAnnotazione: Medcat_SNOMED_Df_CS_08_ANC, Ontologia: ['SNOMED-CT' 'UMLS']\n",
      "Per SOURCE=OMOP e Attributo=location-city, i valori comuni sono: {'397635003', 'C0008848'}\n",
      "TipoDiAnnotazione: Medcat_SNOMED_Df_CS_08_ANC, Ontologia: ['SNOMED-CT' 'UMLS']\n",
      "Per SOURCE=OMOP e Attributo=location-state, i valori comuni sono: {'397635003', '398070004'}\n",
      "TipoDiAnnotazione: Medcat_SNOMED_Df_CS_08_ANC, Ontologia: ['SNOMED-CT' 'UMLS']\n",
      "Per SOURCE=OMOP e Attributo=location-zip, i valori comuni sono: {'397635003'}\n",
      "TipoDiAnnotazione: Medcat_SNOMED_Df_CS_08_ANC, Ontologia: ['SNOMED-CT' 'UMLS']\n",
      "Per SOURCE=OMOP e Attributo=location-county, i valori comuni sono: {'397635003'}\n",
      "TipoDiAnnotazione: Medcat_SNOMED_Df_CS_08_ANC, Ontologia: ['SNOMED-CT' 'UMLS']\n",
      "Per SOURCE=OMOP e Attributo=condition_occurrence-condition_occurrence_id, i valori comuni sono: {'C0012634', '64572001'}\n",
      "TipoDiAnnotazione: Medcat_SNOMED_Df_CS_08_ANC, Ontologia: ['SNOMED-CT' 'UMLS']\n",
      "Per SOURCE=OMOP e Attributo=condition_occurrence-condition_concept_id, i valori comuni sono: {'C0012634', 'C0178566', '64572001'}\n",
      "TipoDiAnnotazione: Medcat_SNOMED_Df_CS_08_ANC, Ontologia: ['SNOMED-CT' 'UMLS']\n",
      "Per SOURCE=OMOP e Attributo=condition_occurrence-condition_start_date, i valori comuni sono: {'C0012634', 'C0011008', '410671006', '64572001'}\n",
      "TipoDiAnnotazione: Medcat_SNOMED_Df_CS_08_ANC, Ontologia: ['SNOMED-CT' 'UMLS']\n",
      "Per SOURCE=OMOP e Attributo=condition_occurrence-condition_start_datetime, i valori comuni sono: {'C0012634', 'C0011008', '64572001'}\n",
      "TipoDiAnnotazione: Medcat_SNOMED_Df_CS_08_ANC, Ontologia: ['SNOMED-CT' 'UMLS']\n",
      "Per SOURCE=OMOP e Attributo=condition_occurrence-condition_end_date, i valori comuni sono: {'C0012634', 'C0011008', '410671006', '64572001'}\n",
      "TipoDiAnnotazione: Medcat_SNOMED_Df_CS_08_ANC, Ontologia: ['SNOMED-CT' 'UMLS']\n",
      "Per SOURCE=OMOP e Attributo=condition_occurrence-condition_end_datetime, i valori comuni sono: {'C0012634', 'C0011008', '410671006', '64572001'}\n",
      "TipoDiAnnotazione: Medcat_SNOMED_Df_CS_08_ANC, Ontologia: ['SNOMED-CT' 'UMLS']\n",
      "Per SOURCE=OMOP e Attributo=condition_occurrence-condition_type_concept_id, i valori comuni sono: {'C0012634', 'C0178566', '64572001'}\n",
      "TipoDiAnnotazione: Medcat_SNOMED_Df_CS_08_ANC, Ontologia: ['SNOMED-CT' 'UMLS']\n",
      "Per SOURCE=OMOP e Attributo=condition_occurrence-condition_status_concept_id, i valori comuni sono: {'C0012634', 'C0178566', '64572001'}\n",
      "TipoDiAnnotazione: Medcat_SNOMED_Df_CS_08_ANC, Ontologia: ['SNOMED-CT' 'UMLS']\n",
      "Per SOURCE=OMOP e Attributo=condition_occurrence-stop_reason, i valori comuni sono: {'C0012634', 'C0392360', '64572001'}\n",
      "TipoDiAnnotazione: Medcat_SNOMED_Df_CS_08_ANC, Ontologia: ['SNOMED-CT' 'UMLS']\n",
      "Per SOURCE=OMOP e Attributo=condition_occurrence-provider_id, i valori comuni sono: {'C1138603'}\n",
      "TipoDiAnnotazione: Medcat_SNOMED_Df_CS_08_ANC, Ontologia: ['SNOMED-CT' 'UMLS']\n",
      "Per SOURCE=OMOP e Attributo=condition_occurrence-condition_source_value, i valori comuni sono: {'C0012634', '260753009', 'C0449416', '64572001'}\n",
      "TipoDiAnnotazione: Medcat_SNOMED_Df_CS_08_ANC, Ontologia: ['SNOMED-CT' 'UMLS']\n",
      "Per SOURCE=OMOP e Attributo=condition_occurrence-condition_source_concept_id, i valori comuni sono: {'C0012634', '260753009', 'C0449416', '64572001'}\n",
      "TipoDiAnnotazione: Medcat_SNOMED_Df_CS_08_ANC, Ontologia: ['SNOMED-CT' 'UMLS']\n",
      "Per SOURCE=OMOP e Attributo=condition_occurrence-condition_status_source_value, i valori comuni sono: {'C0012634', '64572001', '260753009', '263490005', 'C0449416', 'C0449438'}\n",
      "TipoDiAnnotazione: Medcat_SNOMED_Df_CS_08_ANC, Ontologia: ['SNOMED-CT' 'UMLS']\n",
      "Per SOURCE=OMOP e Attributo=person-gender_concept_id, i valori comuni sono: {'C0079399', '263495000', 'C0178566'}\n",
      "TipoDiAnnotazione: Medcat_SNOMED_Df_CS_08_ANC, Ontologia: ['SNOMED-CT' 'UMLS']\n",
      "Per SOURCE=OMOP e Attributo=person-month_of_birth, i valori comuni sono: {'C0439231', '258706009'}\n",
      "TipoDiAnnotazione: Medcat_SNOMED_Df_CS_08_ANC, Ontologia: ['SNOMED-CT' 'UMLS']\n",
      "Per SOURCE=OMOP e Attributo=person-day_of_birth, i valori comuni sono: {'C0439228'}\n",
      "TipoDiAnnotazione: Medcat_SNOMED_Df_CS_08_ANC, Ontologia: ['SNOMED-CT' 'UMLS']\n",
      "Per SOURCE=OMOP e Attributo=person-race_concept_id, i valori comuni sono: {'C0034510', 'C0178566'}\n",
      "TipoDiAnnotazione: Medcat_SNOMED_Df_CS_08_ANC, Ontologia: ['SNOMED-CT' 'UMLS']\n",
      "Per SOURCE=OMOP e Attributo=person-ethnicity_concept_id, i valori comuni sono: {'C0178566', 'C0015031'}\n",
      "TipoDiAnnotazione: Medcat_SNOMED_Df_CS_08_ANC, Ontologia: ['SNOMED-CT' 'UMLS']\n",
      "Per SOURCE=OMOP e Attributo=person-location_id, i valori comuni sono: {'C0450429', '246267002'}\n",
      "TipoDiAnnotazione: Medcat_SNOMED_Df_CS_08_ANC, Ontologia: ['SNOMED-CT' 'UMLS']\n",
      "Per SOURCE=OMOP e Attributo=person-person_source_value, i valori comuni sono: {'C0027361', '125676002', '260753009', 'C0449416'}\n",
      "TipoDiAnnotazione: Medcat_SNOMED_Df_CS_08_ANC, Ontologia: ['SNOMED-CT' 'UMLS']\n",
      "Per SOURCE=OMOP e Attributo=person-gender_source_value, i valori comuni sono: {'C0079399', '263495000', '260753009', 'C0449416'}\n",
      "TipoDiAnnotazione: Medcat_SNOMED_Df_CS_08_ANC, Ontologia: ['SNOMED-CT' 'UMLS']\n",
      "Per SOURCE=OMOP e Attributo=person-gender_source_concept_id, i valori comuni sono: {'C0079399', 'C0178566', '260753009', 'C0449416', '263495000'}\n",
      "TipoDiAnnotazione: Medcat_SNOMED_Df_CS_08_ANC, Ontologia: ['SNOMED-CT' 'UMLS']\n",
      "Per SOURCE=OMOP e Attributo=person-race_source_value, i valori comuni sono: {'C0034510', 'C1522609', '260753009', 'C0449416'}\n",
      "TipoDiAnnotazione: Medcat_SNOMED_Df_CS_08_ANC, Ontologia: ['SNOMED-CT' 'UMLS']\n",
      "Per SOURCE=OMOP e Attributo=person-race_source_concept_id, i valori comuni sono: {'260753009', 'C0449416'}\n",
      "TipoDiAnnotazione: Medcat_SNOMED_Df_CS_08_ANC, Ontologia: ['SNOMED-CT' 'UMLS']\n",
      "Per SOURCE=OMOP e Attributo=person-ethnicity_source_value, i valori comuni sono: {'260753009', 'C0449416'}\n",
      "TipoDiAnnotazione: Medcat_SNOMED_Df_CS_08_ANC, Ontologia: ['SNOMED-CT' 'UMLS']\n",
      "Per SOURCE=OMOP e Attributo=person-ethnicity_source_concept_id, i valori comuni sono: {'C0178566', '260753009', 'C0449416'}\n"
     ]
    }
   ],
   "execution_count": 19
  },
  {
   "cell_type": "code",
   "source": [],
   "metadata": {
    "id": "cYS3WVCVDRde",
    "ExecuteTime": {
     "end_time": "2025-03-20T15:50:43.144325Z",
     "start_time": "2025-03-20T15:50:43.141193Z"
    }
   },
   "outputs": [],
   "execution_count": null
  },
  {
   "cell_type": "code",
   "source": [
    "GS['ontologies'].unique(), ANNOTAZIONI['ontologies'].unique()"
   ],
   "metadata": {
    "colab": {
     "base_uri": "https://localhost:8080/"
    },
    "id": "ptZJ3ciSDhwW",
    "outputId": "ad957cff-e327-4673-ca1b-61e1dfa61a2f",
    "ExecuteTime": {
     "end_time": "2025-03-20T15:54:00.663122Z",
     "start_time": "2025-03-20T15:54:00.653997Z"
    }
   },
   "outputs": [
    {
     "data": {
      "text/plain": [
       "(array(['UMLS', 'SNOMED-CT'], dtype=object),\n",
       " array(['SNOMED-CT', 'UMLS'], dtype=object))"
      ]
     },
     "execution_count": 13,
     "metadata": {},
     "output_type": "execute_result"
    }
   ],
   "execution_count": 13
  },
  {
   "cell_type": "code",
   "source": [
    "# per UMLS non abbiamo nessun elemento in comune ??\n",
    "# mi sembra molto strano, ad occhio sembrava che alcuni  codici cui del gold standard, sul sito, erano quelli ottenuti dalle annotazioni"
   ],
   "metadata": {
    "id": "EpM76kAbDkeG",
    "ExecuteTime": {
     "end_time": "2025-03-20T15:50:43.465455Z",
     "start_time": "2025-03-20T15:50:43.460566Z"
    }
   },
   "outputs": [],
   "execution_count": 5
  },
  {
   "cell_type": "code",
   "source": [],
   "metadata": {
    "id": "DXTnQhioEAmd",
    "ExecuteTime": {
     "end_time": "2025-03-20T15:50:43.516509Z",
     "start_time": "2025-03-20T15:50:43.512875Z"
    }
   },
   "outputs": [],
   "execution_count": null
  },
  {
   "cell_type": "code",
   "source": [],
   "metadata": {
    "id": "C7bdkSETEDPG",
    "ExecuteTime": {
     "end_time": "2025-03-20T15:50:43.547574Z",
     "start_time": "2025-03-20T15:50:43.544982Z"
    }
   },
   "outputs": [],
   "execution_count": null
  },
  {
   "cell_type": "code",
   "source": [
    "# ora vedo se le annotazioni sono confrontabili ma usando i pretty name non i cui\n",
    "\n",
    "\n",
    "# Uniamo le colonne di GS con quelle di ANNOTAZIONI\n",
    "GS.columns = ANNOTAZIONI.columns\n",
    "\n",
    "# Filtra gli attributi comuni tra GS e ANNOTAZIONI\n",
    "AttributiComuni = pd.merge(GS, ANNOTAZIONI, on=['SOURCE', 'AttributoNomeCompleto'])[['SOURCE', 'AttributoNomeCompleto']].drop_duplicates()\n",
    "\n",
    "# Confronta per ogni coppia di attributi comuni\n",
    "for _, row in AttributiComuni.iterrows():\n",
    "    source = row['SOURCE']\n",
    "    attributo = row['AttributoNomeCompleto']\n",
    "\n",
    "    # Filtra i DataFrame GS e ANNOTAZIONI per la coppia di SOURCE e AttributoNomeCompleto\n",
    "    gs_subset = GS[(GS['SOURCE'] == source) & (GS['AttributoNomeCompleto'] == attributo)]\n",
    "    annotazioni_subset = ANNOTAZIONI[(ANNOTAZIONI['SOURCE'] == source) & (ANNOTAZIONI['AttributoNomeCompleto'] == attributo)]\n",
    "\n",
    "    # Estrai i valori di cui per GS e ANNOTAZIONI\n",
    "    gs_cui_values = set(gs_subset['pretty_name'].unique())\n",
    "    annotazioni_cui_values = set(annotazioni_subset['pretty_name'].unique())\n",
    "\n",
    "    # Trova i valori comuni\n",
    "    comuni_cui = gs_cui_values.intersection(annotazioni_cui_values)\n",
    "\n",
    "    if comuni_cui:\n",
    "        # Estrai i valori di TipoDiAnnotazione e ontologies da ANNOTAZIONI\n",
    "        tipo_annotazione = annotazioni_subset['TipoDiAnnotazione'].iloc[0]\n",
    "        ontologies = annotazioni_subset['ontologies'].unique()\n",
    "\n",
    "        # Stampa TipoDiAnnotazione e ontologies\n",
    "        print(f\"TipoDiAnnotazione: {tipo_annotazione}, Ontologia: {ontologies}\")\n",
    "        print(f\"Per SOURCE={source} e Attributo={attributo}, i valori comuni sono: {comuni_cui}\")\n"
   ],
   "metadata": {
    "colab": {
     "base_uri": "https://localhost:8080/"
    },
    "id": "oXYnVc2XEDSj",
    "outputId": "e21573ba-f02f-4166-9eb7-f44d368f55cd",
    "ExecuteTime": {
     "end_time": "2025-03-20T15:54:21.895215Z",
     "start_time": "2025-03-20T15:54:21.654260Z"
    }
   },
   "outputs": [
    {
     "name": "stdout",
     "output_type": "stream",
     "text": [
      "TipoDiAnnotazione: Medcat_SNOMED_Df_CS_08_ANC, Ontologia: ['SNOMED-CT' 'UMLS']\n",
      "Per SOURCE=OMOP e Attributo=location-location_id, i valori comuni sono: {'Location'}\n",
      "TipoDiAnnotazione: Medcat_SNOMED_Df_CS_08_ANC, Ontologia: ['SNOMED-CT' 'UMLS']\n",
      "Per SOURCE=OMOP e Attributo=location-city, i valori comuni sono: {'Address'}\n",
      "TipoDiAnnotazione: Medcat_SNOMED_Df_CS_08_ANC, Ontologia: ['SNOMED-CT' 'UMLS']\n",
      "Per SOURCE=OMOP e Attributo=location-state, i valori comuni sono: {'Address'}\n",
      "TipoDiAnnotazione: Medcat_SNOMED_Df_CS_08_ANC, Ontologia: ['SNOMED-CT' 'UMLS']\n",
      "Per SOURCE=OMOP e Attributo=location-zip, i valori comuni sono: {'Address'}\n",
      "TipoDiAnnotazione: Medcat_SNOMED_Df_CS_08_ANC, Ontologia: ['SNOMED-CT' 'UMLS']\n",
      "Per SOURCE=OMOP e Attributo=location-county, i valori comuni sono: {'Address'}\n",
      "TipoDiAnnotazione: Medcat_SNOMED_Df_CS_08_ANC, Ontologia: ['SNOMED-CT' 'UMLS']\n",
      "Per SOURCE=OMOP e Attributo=condition_occurrence-condition_occurrence_id, i valori comuni sono: {'Disease'}\n",
      "TipoDiAnnotazione: Medcat_SNOMED_Df_CS_08_ANC, Ontologia: ['SNOMED-CT' 'UMLS']\n",
      "Per SOURCE=OMOP e Attributo=condition_occurrence-condition_concept_id, i valori comuni sono: {'Disease', 'concept'}\n",
      "TipoDiAnnotazione: Medcat_SNOMED_Df_CS_08_ANC, Ontologia: ['SNOMED-CT' 'UMLS']\n",
      "Per SOURCE=OMOP e Attributo=condition_occurrence-condition_start_date, i valori comuni sono: {'Date in time', 'Disease'}\n",
      "TipoDiAnnotazione: Medcat_SNOMED_Df_CS_08_ANC, Ontologia: ['SNOMED-CT' 'UMLS']\n",
      "Per SOURCE=OMOP e Attributo=condition_occurrence-condition_start_datetime, i valori comuni sono: {'Date in time', 'Disease'}\n",
      "TipoDiAnnotazione: Medcat_SNOMED_Df_CS_08_ANC, Ontologia: ['SNOMED-CT' 'UMLS']\n",
      "Per SOURCE=OMOP e Attributo=condition_occurrence-condition_end_date, i valori comuni sono: {'Date in time', 'Disease'}\n",
      "TipoDiAnnotazione: Medcat_SNOMED_Df_CS_08_ANC, Ontologia: ['SNOMED-CT' 'UMLS']\n",
      "Per SOURCE=OMOP e Attributo=condition_occurrence-condition_end_datetime, i valori comuni sono: {'Date in time', 'Disease'}\n",
      "TipoDiAnnotazione: Medcat_SNOMED_Df_CS_08_ANC, Ontologia: ['SNOMED-CT' 'UMLS']\n",
      "Per SOURCE=OMOP e Attributo=condition_occurrence-condition_type_concept_id, i valori comuni sono: {'Disease', 'concept'}\n",
      "TipoDiAnnotazione: Medcat_SNOMED_Df_CS_08_ANC, Ontologia: ['SNOMED-CT' 'UMLS']\n",
      "Per SOURCE=OMOP e Attributo=condition_occurrence-condition_status_concept_id, i valori comuni sono: {'Disease', 'concept'}\n",
      "TipoDiAnnotazione: Medcat_SNOMED_Df_CS_08_ANC, Ontologia: ['SNOMED-CT' 'UMLS']\n",
      "Per SOURCE=OMOP e Attributo=condition_occurrence-stop_reason, i valori comuni sono: {'Disease', 'Indication of (contextual qualifier)'}\n",
      "TipoDiAnnotazione: Medcat_SNOMED_Df_CS_08_ANC, Ontologia: ['SNOMED-CT' 'UMLS']\n",
      "Per SOURCE=OMOP e Attributo=condition_occurrence-provider_id, i valori comuni sono: {'Provider'}\n",
      "TipoDiAnnotazione: Medcat_SNOMED_Df_CS_08_ANC, Ontologia: ['SNOMED-CT' 'UMLS']\n",
      "Per SOURCE=OMOP e Attributo=condition_occurrence-condition_source_value, i valori comuni sono: {'Source', 'Disease'}\n",
      "TipoDiAnnotazione: Medcat_SNOMED_Df_CS_08_ANC, Ontologia: ['SNOMED-CT' 'UMLS']\n",
      "Per SOURCE=OMOP e Attributo=condition_occurrence-condition_source_concept_id, i valori comuni sono: {'Source', 'Disease'}\n",
      "TipoDiAnnotazione: Medcat_SNOMED_Df_CS_08_ANC, Ontologia: ['SNOMED-CT' 'UMLS']\n",
      "Per SOURCE=OMOP e Attributo=condition_occurrence-condition_status_source_value, i valori comuni sono: {'Source', 'Disease', 'Status'}\n",
      "TipoDiAnnotazione: Medcat_SNOMED_Df_CS_08_ANC, Ontologia: ['SNOMED-CT' 'UMLS']\n",
      "Per SOURCE=OMOP e Attributo=person-gender_concept_id, i valori comuni sono: {'Gender', 'concept'}\n",
      "TipoDiAnnotazione: Medcat_SNOMED_Df_CS_08_ANC, Ontologia: ['SNOMED-CT' 'UMLS']\n",
      "Per SOURCE=OMOP e Attributo=person-month_of_birth, i valori comuni sono: {'month'}\n",
      "TipoDiAnnotazione: Medcat_SNOMED_Df_CS_08_ANC, Ontologia: ['SNOMED-CT' 'UMLS']\n",
      "Per SOURCE=OMOP e Attributo=person-day_of_birth, i valori comuni sono: {'day'}\n",
      "TipoDiAnnotazione: Medcat_SNOMED_Df_CS_08_ANC, Ontologia: ['SNOMED-CT' 'UMLS']\n",
      "Per SOURCE=OMOP e Attributo=person-race_concept_id, i valori comuni sono: {'Racial group', 'concept'}\n",
      "TipoDiAnnotazione: Medcat_SNOMED_Df_CS_08_ANC, Ontologia: ['SNOMED-CT' 'UMLS']\n",
      "Per SOURCE=OMOP e Attributo=person-ethnicity_concept_id, i valori comuni sono: {'Ethnic group', 'concept'}\n",
      "TipoDiAnnotazione: Medcat_SNOMED_Df_CS_08_ANC, Ontologia: ['SNOMED-CT' 'UMLS']\n",
      "Per SOURCE=OMOP e Attributo=person-location_id, i valori comuni sono: {'Location'}\n",
      "TipoDiAnnotazione: Medcat_SNOMED_Df_CS_08_ANC, Ontologia: ['SNOMED-CT' 'UMLS']\n",
      "Per SOURCE=OMOP e Attributo=person-person_source_value, i valori comuni sono: {'Source', 'Persons'}\n",
      "TipoDiAnnotazione: Medcat_SNOMED_Df_CS_08_ANC, Ontologia: ['SNOMED-CT' 'UMLS']\n",
      "Per SOURCE=OMOP e Attributo=person-gender_source_value, i valori comuni sono: {'Source', 'Gender'}\n",
      "TipoDiAnnotazione: Medcat_SNOMED_Df_CS_08_ANC, Ontologia: ['SNOMED-CT' 'UMLS']\n",
      "Per SOURCE=OMOP e Attributo=person-gender_source_concept_id, i valori comuni sono: {'Source', 'Gender'}\n",
      "TipoDiAnnotazione: Medcat_SNOMED_Df_CS_08_ANC, Ontologia: ['SNOMED-CT' 'UMLS']\n",
      "Per SOURCE=OMOP e Attributo=person-race_source_value, i valori comuni sono: {'Source', 'Racial group', 'Numerical value'}\n",
      "TipoDiAnnotazione: Medcat_SNOMED_Df_CS_08_ANC, Ontologia: ['SNOMED-CT' 'UMLS']\n",
      "Per SOURCE=OMOP e Attributo=person-race_source_concept_id, i valori comuni sono: {'Source'}\n",
      "TipoDiAnnotazione: Medcat_SNOMED_Df_CS_08_ANC, Ontologia: ['SNOMED-CT' 'UMLS']\n",
      "Per SOURCE=OMOP e Attributo=person-ethnicity_source_value, i valori comuni sono: {'Source'}\n",
      "TipoDiAnnotazione: Medcat_SNOMED_Df_CS_08_ANC, Ontologia: ['SNOMED-CT' 'UMLS']\n",
      "Per SOURCE=OMOP e Attributo=person-ethnicity_source_concept_id, i valori comuni sono: {'Source'}\n"
     ]
    }
   ],
   "execution_count": 15
  },
  {
   "cell_type": "code",
   "source": [
    "# mi sembra che la situazione non cambia\n"
   ],
   "metadata": {
    "id": "RyVoxH7WEK1m",
    "ExecuteTime": {
     "end_time": "2025-03-20T15:50:43.820630Z",
     "start_time": "2025-03-20T15:50:43.816861Z"
    }
   },
   "outputs": [],
   "execution_count": 7
  },
  {
   "metadata": {
    "ExecuteTime": {
     "end_time": "2025-03-20T15:54:30.168709Z",
     "start_time": "2025-03-20T15:54:30.105804Z"
    }
   },
   "cell_type": "code",
   "source": [
    "\n",
    "# Caricare i file CSV\n",
    "file1_path = \"files/gold_standard.csv\"\n",
    "file2_path = \"files/annotazioni.csv\"\n",
    "\n",
    "df1 = pd.read_csv(file1_path)\n",
    "df2 = pd.read_csv(file2_path)\n",
    "\n",
    "# Visualizzare le prime righe di entrambi i file per comprendere la struttura\n",
    "df1.head(), df2.head()"
   ],
   "outputs": [
    {
     "data": {
      "text/plain": [
       "(  TipoDiAnnotazione Ontologies Source AttributoNomeCompleto  entity_id  \\\n",
       " 0         MedicalGS       UMLS   OMOP     location-location          1   \n",
       " 1         MedicalGS  SNOMED-CT   OMOP     location-location          1   \n",
       " 2         MedicalGS       UMLS   OMOP     location-location          2   \n",
       " 3         MedicalGS  SNOMED-CT   OMOP     location-location          2   \n",
       " 4         MedicalGS       UMLS   OMOP     location-location          3   \n",
       " \n",
       "            pretty_name        cui  \n",
       " 0             Location   C0450429  \n",
       " 1             Location  246267002  \n",
       " 2              Address   C1442065  \n",
       " 3              Address  397635003  \n",
       " 4  Patient information   C1955348  ,\n",
       "             TipoDiAnnotazione ontologies SOURCE  \\\n",
       " 0  Medcat_SNOMED_Df_CS_08_ANC  SNOMED-CT    Csm   \n",
       " 1  Medcat_SNOMED_Df_CS_08_ANC  SNOMED-CT    Csm   \n",
       " 2  Medcat_SNOMED_Df_CS_08_ANC  SNOMED-CT    Csm   \n",
       " 3  Medcat_SNOMED_Df_CS_08_ANC  SNOMED-CT    Csm   \n",
       " 4  Medcat_SNOMED_Df_CS_08_ANC  SNOMED-CT    Csm   \n",
       " \n",
       "                         AttributoNomeCompleto  entity_id  \\\n",
       " 0            beneficiarysummary-bene_birth_dt          1   \n",
       " 1            beneficiarysummary-bene_death_dt          1   \n",
       " 2            beneficiarysummary-bene_esrd_ind          2   \n",
       " 3            beneficiarysummary-sp_state_code          0   \n",
       " 4  beneficiarysummary-bene_hi_cvrage_tot_mons          0   \n",
       " \n",
       "                pretty_name        cui  \n",
       " 0            Date of birth  184099003  \n",
       " 1            Date of death  399753006  \n",
       " 2  End-stage renal disease   46177005  \n",
       " 3                    State  398070004  \n",
       " 4                    Total  255619001  )"
      ]
     },
     "execution_count": 16,
     "metadata": {},
     "output_type": "execute_result"
    }
   ],
   "execution_count": 16
  },
  {
   "metadata": {
    "ExecuteTime": {
     "end_time": "2025-03-20T15:54:34.691749Z",
     "start_time": "2025-03-20T15:54:34.673020Z"
    }
   },
   "cell_type": "code",
   "source": [
    "# Verificare gli elementi in comune per la colonna 'cui' (identificatore univoco dei concetti)\n",
    "common_cui = set(df1[\"cui\"]).intersection(set(df2[\"cui\"]))\n",
    "\n",
    "# Verificare gli attributi in comune nella colonna 'AttributoNomeCompleto'\n",
    "common_attributes = set(df1[\"AttributoNomeCompleto\"]).intersection(set(df2[\"AttributoNomeCompleto\"]))\n",
    "\n",
    "# Verificare gli elementi in comune per la colonna 'pretty_name'\n",
    "common_pretty_names = set(df1[\"pretty_name\"]).intersection(set(df2[\"pretty_name\"]))\n",
    "\n",
    "# Numero di elementi in comune per ogni categoria\n",
    "len(common_cui), len(common_attributes), len(common_pretty_names)\n"
   ],
   "outputs": [
    {
     "data": {
      "text/plain": [
       "(56, 41, 34)"
      ]
     },
     "execution_count": 17,
     "metadata": {},
     "output_type": "execute_result"
    }
   ],
   "execution_count": 17
  }
 ]
}
