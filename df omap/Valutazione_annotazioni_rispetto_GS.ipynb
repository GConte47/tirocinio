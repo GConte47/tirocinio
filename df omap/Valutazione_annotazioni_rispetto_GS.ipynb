{
 "cells": [
  {
   "cell_type": "code",
   "id": "initial_id",
   "metadata": {
    "collapsed": true,
    "ExecuteTime": {
     "end_time": "2025-03-26T17:09:41.388156Z",
     "start_time": "2025-03-26T17:09:41.384071Z"
    }
   },
   "source": "import pandas as pd",
   "outputs": [],
   "execution_count": 23
  },
  {
   "metadata": {
    "ExecuteTime": {
     "end_time": "2025-03-26T17:09:42.710899Z",
     "start_time": "2025-03-26T17:09:42.640042Z"
    }
   },
   "cell_type": "code",
   "source": [
    "#import annotazioni e gold standard\n",
    "annotazioni= pd.read_csv('files/annotazioni_full.csv', delimiter=',')\n",
    "GS= pd.read_csv('files/gold_standard.csv', delimiter=',')"
   ],
   "id": "c978589cc15f7dda",
   "outputs": [],
   "execution_count": 24
  },
  {
   "metadata": {},
   "cell_type": "markdown",
   "source": "# descrizione problema",
   "id": "f10a5d60f1447f9"
  },
  {
   "metadata": {
    "ExecuteTime": {
     "end_time": "2025-03-26T17:10:07.460162Z",
     "start_time": "2025-03-26T17:10:07.453651Z"
    }
   },
   "cell_type": "code",
   "source": "annotazioni.columns",
   "id": "7e8a124fb2ea7bd0",
   "outputs": [
    {
     "data": {
      "text/plain": [
       "Index(['TipoDiAnnotazione', 'ontologies', 'SOURCE', 'AttributoNomeCompleto',\n",
       "       'entity_id', 'pretty_name', 'cui', 'annotator'],\n",
       "      dtype='object')"
      ]
     },
     "execution_count": 26,
     "metadata": {},
     "output_type": "execute_result"
    }
   ],
   "execution_count": 26
  },
  {
   "metadata": {
    "ExecuteTime": {
     "end_time": "2025-03-26T17:10:08.628109Z",
     "start_time": "2025-03-26T17:10:08.620567Z"
    }
   },
   "cell_type": "code",
   "source": "GS.columns",
   "id": "97e541465ed0e781",
   "outputs": [
    {
     "data": {
      "text/plain": [
       "Index(['TipoDiAnnotazione', 'Ontologies', 'Source', 'AttributoNomeCompleto',\n",
       "       'entity_id', 'pretty_name', 'cui'],\n",
       "      dtype='object')"
      ]
     },
     "execution_count": 27,
     "metadata": {},
     "output_type": "execute_result"
    }
   ],
   "execution_count": 27
  },
  {
   "metadata": {
    "ExecuteTime": {
     "end_time": "2025-03-26T17:10:09.993080Z",
     "start_time": "2025-03-26T17:10:09.979588Z"
    }
   },
   "cell_type": "code",
   "source": [
    "#allineazione nomi\n",
    "annotazioni = annotazioni.rename(columns={'ontologies':'Ontologies','SOURCE':'Source','entity_id':'EntityID','pretty_name':'PrettyName','cui':'Cui','annotator':'Annotator',})\n",
    "annotazioni['Ontologies'] = annotazioni['Ontologies'].replace('SNOMEDCT', 'SNOMED-CT')\n",
    "\n",
    "GS = GS.rename(columns={'entity_id':'EntityID','pretty_name':'PrettyName','cui':'Cui','annotator':'Annotator',})"
   ],
   "id": "e14b9ff79f23ed28",
   "outputs": [],
   "execution_count": 28
  },
  {
   "metadata": {
    "ExecuteTime": {
     "end_time": "2025-03-26T17:10:13.263486Z",
     "start_time": "2025-03-26T17:10:13.235341Z"
    }
   },
   "cell_type": "code",
   "source": [
    "\n",
    "set_gold = set(GS[['Ontologies', 'Cui']].itertuples(index=False, name=None))\n",
    "set_full = set(annotazioni[['Ontologies', 'Cui']].itertuples(index=False, name=None))\n",
    "\n",
    "# Calcoliamo i valori richiesti\n",
    "Nboth = len(set_gold & set_full)  # Presenti in entrambi\n",
    "Nleft = len(set_gold - set_full)  # Solo in df_gold\n",
    "Nright = len(set_full - set_gold)  # Solo in df_full\n",
    "\n",
    "print(f\"Nboth: {Nboth}, Nleft: {Nleft}, Nright: {Nright}\")"
   ],
   "id": "10a36a84dc5fa27d",
   "outputs": [
    {
     "name": "stdout",
     "output_type": "stream",
     "text": [
      "Nboth: 58, Nleft: 34, Nright: 1345\n"
     ]
    }
   ],
   "execution_count": 29
  },
  {
   "metadata": {
    "ExecuteTime": {
     "end_time": "2025-03-26T17:10:32.445052Z",
     "start_time": "2025-03-26T17:10:32.400039Z"
    }
   },
   "cell_type": "code",
   "source": [
    "#dettagliare questa analisi rispetto alle diverse ontologie\n",
    "\n",
    "set_GS = set(GS[['Ontologies', 'Cui']].itertuples(index=False, name=None))\n",
    "set_annotazioni = set(annotazioni[['Ontologies', 'Cui']].itertuples(index=False, name=None))\n",
    "\n",
    "# Unione dei due DataFrame per analisi per Ontology\n",
    "df_combined = pd.concat([GS.assign(source='GS'), annotazioni.assign(source='annotazioni')])\n",
    "\n",
    "# Creiamo una tabella che conta Nleft, Nright e Nboth per ogni Ontology\n",
    "ontology_counts = df_combined.groupby(['Ontologies', 'source']).size().unstack(fill_value=0)\n",
    "ontology_counts.columns = ['Nleft', 'Nright']\n",
    "ontology_counts['Nboth'] = ontology_counts.min(axis=1)  # Il minimo tra Nleft e Nright dà Nboth\n",
    "\n",
    "# Output finale\n",
    "print(ontology_counts)"
   ],
   "id": "a87f0284fc3c31f5",
   "outputs": [
    {
     "name": "stdout",
     "output_type": "stream",
     "text": [
      "            Nleft  Nright  Nboth\n",
      "Ontologies                      \n",
      "LOINC           0    7903      0\n",
      "SNOMED-CT     127   20398    127\n",
      "UMLS          196    9801    196\n"
     ]
    }
   ],
   "execution_count": 31
  },
  {
   "metadata": {
    "ExecuteTime": {
     "end_time": "2025-03-26T17:13:03.198483Z",
     "start_time": "2025-03-26T17:13:03.170766Z"
    }
   },
   "cell_type": "code",
   "source": [
    "#dettagliare questa analisi rispetto alle diverse annotazioni\n",
    "# Aggiungiamo un annotatore fittizio per GS\n",
    "GS['Annotator'] = 'Gold_Standard'\n",
    "\n",
    "# Cambiamo il nome della colonna 'source' in 'Provenienza'\n",
    "GS['Provenienza'] = 'GS'\n",
    "annotazioni['Provenienza'] = 'annotazioni'\n",
    "df_combined = pd.concat([GS, annotazioni])\n",
    "\n",
    "# Raggruppiamo per Ontology e Annotator\n",
    "ontology_annotator_counts = df_combined.groupby(['Ontologies', 'Annotator', 'Provenienza']).size().unstack(fill_value=0)\n",
    "\n",
    "# Rinominiamo le colonne\n",
    "ontology_annotator_counts.columns = ['Nleft', 'Nright']\n",
    "ontology_annotator_counts['Nboth'] = ontology_annotator_counts.min(axis=1)\n",
    "\n",
    "# Output finale\n",
    "print(ontology_annotator_counts)"
   ],
   "id": "f35510cd5da10dfc",
   "outputs": [
    {
     "name": "stdout",
     "output_type": "stream",
     "text": [
      "                          Nleft  Nright  Nboth\n",
      "Ontologies Annotator                          \n",
      "LOINC      Bioportal          0    7903      0\n",
      "SNOMED-CT  Bioportal          0    4791      0\n",
      "           Gold_Standard    127       0      0\n",
      "           MedCAT             0   15607      0\n",
      "UMLS       Gold_Standard    196       0      0\n",
      "           MedCAT             0    9801      0\n"
     ]
    }
   ],
   "execution_count": 32
  },
  {
   "metadata": {},
   "cell_type": "markdown",
   "source": "# Valutazione della Qualità degli Annotatori",
   "id": "85a147f005ad95ba"
  }
 ],
 "metadata": {
  "kernelspec": {
   "display_name": "Python 3",
   "language": "python",
   "name": "python3"
  },
  "language_info": {
   "codemirror_mode": {
    "name": "ipython",
    "version": 2
   },
   "file_extension": ".py",
   "mimetype": "text/x-python",
   "name": "python",
   "nbconvert_exporter": "python",
   "pygments_lexer": "ipython2",
   "version": "2.7.6"
  }
 },
 "nbformat": 4,
 "nbformat_minor": 5
}
