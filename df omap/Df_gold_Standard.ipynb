{
  "nbformat": 4,
  "nbformat_minor": 0,
  "metadata": {
    "colab": {
      "provenance": []
    },
    "kernelspec": {
      "name": "python3",
      "display_name": "Python 3"
    },
    "language_info": {
      "name": "python"
    }
  },
  "cells": [
    {
      "cell_type": "code",
      "execution_count": null,
      "metadata": {
        "id": "G4OjG9GOHi18"
      },
      "outputs": [],
      "source": [
        "import pandas as pd"
      ]
    },
    {
      "cell_type": "code",
      "source": [
        "data= {\n",
        "   \"Tipo\":[\"MedicalGS\", \"MedicalGS\"],\n",
        "   \"Ontologia\":[\"UMLS\", \"SNOMED-CT\"],\n",
        "   \"Source\":[\"Location\", \"Location\"],\n",
        "   \"N_prog\":[\"1\", \"1\"],\n",
        "   \"Cui\": [\"C0450429\", \"246267002\"]\n",
        "}\n",
        "\n",
        "df = pd.DataFrame(data)\n",
        "print(df)\n",
        "\n"
      ],
      "metadata": {
        "colab": {
          "base_uri": "https://localhost:8080/"
        },
        "id": "JG7Tl_EsHp12",
        "outputId": "fe96730a-a3ab-4925-d317-b9dacb3b98cf"
      },
      "execution_count": null,
      "outputs": [
        {
          "output_type": "stream",
          "name": "stdout",
          "text": [
            "        Tipo  ontologia    Source N_prog        Cui\n",
            "0  MedicalGS       UMLS  Location      1   C0450429\n",
            "1  MedicalGS  SNOMED-CT  Location      1  246267002\n"
          ]
        }
      ]
    },
    {
      "cell_type": "code",
      "source": [
        "new_data = pd.DataFrame([\n",
        "    [\"MedicalGS\",\"UMLS\", \"Location\",\"2\",\"C1442065\"],\n",
        "    [\"MedicalGS\",\"SNOMED-CT\", \"Location\",\"2\",\"397635003\"],\n",
        "    [\"MedicalGS\",\"UMLS\", \"Location\",\"3\",\"C1955348\"],\n",
        "    [\"MedicalGS\",\"UMLS\", \"Location\",\"4\",\"C0337950\"],\n",
        "    [\"MedicalGS\",\"SNOMED-CT\", \"Location\",\"3\",\"43741000\"]\n",
        "], columns=df.columns)\n",
        "\n",
        "df = pd.concat([df, new_data], ignore_index=True)  # Ignora gli indici e li riassegna automaticamente\n",
        "print(df)"
      ],
      "metadata": {
        "colab": {
          "base_uri": "https://localhost:8080/"
        },
        "id": "AJvMaco_TgMi",
        "outputId": "6b154fd9-b26b-442b-950b-752c89f6d57c"
      },
      "execution_count": null,
      "outputs": [
        {
          "output_type": "stream",
          "name": "stdout",
          "text": [
            "        Tipo  ontologia    Source N_prog        Cui\n",
            "0  MedicalGS       UMLS  Location      1   C0450429\n",
            "1  MedicalGS  SNOMED-CT  Location      1  246267002\n",
            "2  MedicalGS       UMLS  Location      2   C1442065\n",
            "3  MedicalGS  SNOMED-CT  Location      2  397635003\n",
            "4  MedicalGS       UMLS  Location      3   C1955348\n",
            "5  MedicalGS       UMLS  Location      4   C0337950\n",
            "6  MedicalGS  SNOMED-CT  Location      3   43741000\n"
          ]
        }
      ]
    },
    {
      "cell_type": "code",
      "source": [
        "new_data = pd.DataFrame([\n",
        "    [\"MedicalGS\",\"UMLS\", \"Location_id\",\"1\",\"C0450429\"],\n",
        "    [\"MedicalGS\",\"SNOMED-CT\", \"Location_id\",\"1\",\"246267002\"],\n",
        "    [\"MedicalGS\",\"UMLS\", \"Location_id\",\"2\",\"C1300638\"],\n",
        "    [\"MedicalGS\",\"SNOMED-CT\", \"Location_id\",\"2\",\"396278008\"],\n",
        "    [\"MedicalGS\",\"UMLS\", \"Address\",\"1\",\"C1442065\"],\n",
        "    [\"MedicalGS\",\"SNOMED-CT\", \"Address\",\"1\",\"397635003\"],\n",
        "    [\"MedicalGS\",\"UMLS\", \"City\",\"1\",\"C0008848\"],\n",
        "    [\"MedicalGS\",\"UMLS\", \"City\",\"2\",\"C1442065\"],\n",
        "    [\"MedicalGS\",\"SNOMED-CT\", \"City\",\"1\",\"397635003\"],\n",
        "    [\"MedicalGS\",\"UMLS\", \"State\",\"1\",\"C1301808\"],\n",
        "    [\"MedicalGS\",\"SNOMED-CT\", \"State\",\"1\",\"398070004\"],\n",
        "    [\"MedicalGS\",\"UMLS\", \"State\",\"2\",\"C1442065\"],\n",
        "    [\"MedicalGS\",\"SNOMED-CT\", \"State\",\"2\",\"397635003\"],\n",
        "    [\"MedicalGS\",\"UMLS\", \"Zip\",\"1\",\"C1521842\"],\n",
        "    [\"MedicalGS\",\"UMLS\", \"Zip\",\"2\",\"C1442065\"],\n",
        "    [\"MedicalGS\",\"SNOMED-CT\", \"Zip\",\"1\",\"397635003\"],\n",
        "    [\"MedicalGS\",\"UMLS\", \"Zip\",\"3\",\"C1514254\"],\n",
        "    [\"MedicalGS\",\"UMLS\", \"Zip\",\"4\",\"C1442065\"],\n",
        "    [\"MedicalGS\",\"SNOMED-CT\", \"Zip\",\"2\",\"397635003\"],\n",
        "    [\"MedicalGS\",\"UMLS\", \"County\",\"1\",\"C0079170\"],\n",
        "    [\"MedicalGS\",\"UMLS\", \"County\",\"2\",\"C1442065\"],\n",
        "    [\"MedicalGS\",\"SNOMED-CT\", \"County\",\"1\",\"397635003\"],\n",
        "    [\"MedicalGS\",\"UMLS\", \"Country\",\"1\",\"C0454664\"],\n",
        "    [\"MedicalGS\",\"SNOMED-CT\", \"Country\",\"1\",\"223369002\"],\n",
        "    [\"MedicalGS\",\"UMLS\", \"Country\",\"2\",\"C1442065\"],\n",
        "    [\"MedicalGS\",\"SNOMED-CT\", \"Country\",\"2\",\"397635003\"],\n",
        "    [\"MedicalGS\",\"UMLS\", \"Location_source-value\",\"1\",\"C0450429\"],\n",
        "    [\"MedicalGS\",\"SNOMED-CT\", \"Location_source-value\",\"1\",\"246267002\"],\n",
        "    [\"MedicalGS\",\"UMLS\", \"Location_source-value\",\"2\",\"C0449416\"],\n",
        "    [\"MedicalGS\",\"SNOMED-CT\", \"Location_source-value\",\"2\",\"260753009\"],\n",
        "    [\"MedicalGS\",\"UMLS\", \"Latitude\",\"1\",\"C1627936\"],\n",
        "    [\"MedicalGS\",\"UMLS\", \"Latitude\",\"2\",\"C1442065\"],\n",
        "    [\"MedicalGS\",\"SNOMED-CT\", \"Latitude\",\"1\",\"397635003\"],\n",
        "    [\"MedicalGS\",\"UMLS\", \"Longitude\",\"1\",\"C1657623\"],\n",
        "    [\"MedicalGS\",\"UMLS\", \"Longitude\",\"2\",\"C1442065\"],\n",
        "    [\"MedicalGS\",\"SNOMED-CT\", \"Longitude\",\"1\",\"397635003\"]\n",
        "], columns=df.columns)\n",
        "\n",
        "df = pd.concat([df, new_data], ignore_index=True)  # Ignora gli indici e li riassegna automaticamente\n",
        "print(df)"
      ],
      "metadata": {
        "colab": {
          "base_uri": "https://localhost:8080/"
        },
        "outputId": "57c3ef97-378e-4e34-e154-b69a0b68f02d",
        "id": "YUIjvcuLUf41"
      },
      "execution_count": null,
      "outputs": [
        {
          "output_type": "stream",
          "name": "stdout",
          "text": [
            "         Tipo  ontologia                 Source N_prog        Cui\n",
            "0   MedicalGS       UMLS               Location      1   C0450429\n",
            "1   MedicalGS  SNOMED-CT               Location      1  246267002\n",
            "2   MedicalGS       UMLS               Location      2   C1442065\n",
            "3   MedicalGS  SNOMED-CT               Location      2  397635003\n",
            "4   MedicalGS       UMLS               Location      3   C1955348\n",
            "5   MedicalGS       UMLS               Location      4   C0337950\n",
            "6   MedicalGS  SNOMED-CT               Location      3   43741000\n",
            "7   MedicalGS       UMLS            Location_id      1   C0450429\n",
            "8   MedicalGS  SNOMED-CT            Location_id      1  246267002\n",
            "9   MedicalGS       UMLS            Location_id      2   C1300638\n",
            "10  MedicalGS  SNOMED-CT            Location_id      2  396278008\n",
            "11  MedicalGS       UMLS                Address      1   C1442065\n",
            "12  MedicalGS  SNOMED-CT                Address      1  397635003\n",
            "13  MedicalGS       UMLS                   City      1   C0008848\n",
            "14  MedicalGS       UMLS                   City      2   C1442065\n",
            "15  MedicalGS  SNOMED-CT                   City      1  397635003\n",
            "16  MedicalGS       UMLS                  State      1   C1301808\n",
            "17  MedicalGS  SNOMED-CT                  State      1  398070004\n",
            "18  MedicalGS       UMLS                  State      2   C1442065\n",
            "19  MedicalGS  SNOMED-CT                  State      2  397635003\n",
            "20  MedicalGS       UMLS                    Zip      1   C1521842\n",
            "21  MedicalGS       UMLS                    Zip      2   C1442065\n",
            "22  MedicalGS  SNOMED-CT                    Zip      1  397635003\n",
            "23  MedicalGS       UMLS                    Zip      3   C1514254\n",
            "24  MedicalGS       UMLS                    Zip      4   C1442065\n",
            "25  MedicalGS  SNOMED-CT                    Zip      2  397635003\n",
            "26  MedicalGS       UMLS                 County      1   C0079170\n",
            "27  MedicalGS       UMLS                 County      2   C1442065\n",
            "28  MedicalGS  SNOMED-CT                 County      1  397635003\n",
            "29  MedicalGS       UMLS                Country      1   C0454664\n",
            "30  MedicalGS  SNOMED-CT                Country      1  223369002\n",
            "31  MedicalGS       UMLS                Country      2   C1442065\n",
            "32  MedicalGS  SNOMED-CT                Country      2  397635003\n",
            "33  MedicalGS       UMLS  Location_source-value      1   C0450429\n",
            "34  MedicalGS  SNOMED-CT  Location_source-value      1  246267002\n",
            "35  MedicalGS       UMLS  Location_source-value      2   C0449416\n",
            "36  MedicalGS  SNOMED-CT  Location_source-value      2  260753009\n",
            "37  MedicalGS       UMLS               Latitude      1   C1627936\n",
            "38  MedicalGS       UMLS               Latitude      2   C1442065\n",
            "39  MedicalGS  SNOMED-CT               Latitude      1  397635003\n",
            "40  MedicalGS       UMLS              Longitude      1   C1657623\n",
            "41  MedicalGS       UMLS              Longitude      2   C1442065\n",
            "42  MedicalGS  SNOMED-CT              Longitude      1  397635003\n"
          ]
        }
      ]
    }
  ]
}